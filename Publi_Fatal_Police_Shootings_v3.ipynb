{
  "nbformat": 4,
  "nbformat_minor": 0,
  "metadata": {
    "colab": {
      "name": "Publi_Fatal Police Shootings_v3.ipynb",
      "provenance": [],
      "collapsed_sections": [],
      "authorship_tag": "ABX9TyPFAG53cjrLcpk9uu9eIAK+",
      "include_colab_link": true
    },
    "kernelspec": {
      "name": "python3",
      "display_name": "Python 3"
    }
  },
  "cells": [
    {
      "cell_type": "markdown",
      "metadata": {
        "id": "view-in-github",
        "colab_type": "text"
      },
      "source": [
        "<a href=\"https://colab.research.google.com/github/luccidomingues/US-Fatal-Police-Shootings/blob/master/Publi_Fatal_Police_Shootings_v3.ipynb\" target=\"_parent\"><img src=\"https://colab.research.google.com/assets/colab-badge.svg\" alt=\"Open In Colab\"/></a>"
      ]
    },
    {
      "cell_type": "markdown",
      "metadata": {
        "id": "PS31NHEn8el4",
        "colab_type": "text"
      },
      "source": [
        "## Importando bibliotecas"
      ]
    },
    {
      "cell_type": "code",
      "metadata": {
        "id": "wO4vZJgEdATX",
        "colab_type": "code",
        "colab": {
          "base_uri": "https://localhost:8080/",
          "height": 17
        },
        "outputId": "d48c4557-16bd-423c-92e9-9a087a19eb8f"
      },
      "source": [
        "\n",
        "# pip install plotly\n",
        "\n",
        "## Importando bibliotecas\n",
        "import matplotlib.pyplot as plt\n",
        "%matplotlib inline\n",
        "\n",
        "import pandas as pd\n",
        "import numpy as np\n",
        "import seaborn as sns\n",
        "\n",
        "import plotly.offline as py\n",
        "import plotly.graph_objs as go\n",
        "py.init_notebook_mode(connected=True)"
      ],
      "execution_count": 127,
      "outputs": [
        {
          "output_type": "display_data",
          "data": {
            "text/html": [
              "        <script type=\"text/javascript\">\n",
              "        window.PlotlyConfig = {MathJaxConfig: 'local'};\n",
              "        if (window.MathJax) {MathJax.Hub.Config({SVG: {font: \"STIX-Web\"}});}\n",
              "        if (typeof require !== 'undefined') {\n",
              "        require.undef(\"plotly\");\n",
              "        requirejs.config({\n",
              "            paths: {\n",
              "                'plotly': ['https://cdn.plot.ly/plotly-latest.min']\n",
              "            }\n",
              "        });\n",
              "        require(['plotly'], function(Plotly) {\n",
              "            window._Plotly = Plotly;\n",
              "        });\n",
              "        }\n",
              "        </script>\n",
              "        "
            ]
          },
          "metadata": {
            "tags": []
          }
        }
      ]
    },
    {
      "cell_type": "markdown",
      "metadata": {
        "id": "26b2I5uUxlfi",
        "colab_type": "text"
      },
      "source": [
        "Black Americans are disproportionately killed by police.\n",
        "\n",
        "Although half of the people shot and killed by police are white, black Americans are shot at a disproportionate rate. They account for just 13 percent of the U.S. population, but more than a quarter of police shooting victims. The disparity is even more pronounced among unarmed victims, of whom more than a third are black."
      ]
    },
    {
      "cell_type": "code",
      "metadata": {
        "id": "wNqtchwRdFR6",
        "colab_type": "code",
        "colab": {
          "base_uri": "https://localhost:8080/",
          "height": 309
        },
        "outputId": "7701f8c1-ce59-41f8-f10f-2539bbc1047e"
      },
      "source": [
        "Fatal_police = pd.read_csv('fatal-police-shootings-data.csv',sep=',')\n",
        "Fatal_police.head()"
      ],
      "execution_count": 128,
      "outputs": [
        {
          "output_type": "execute_result",
          "data": {
            "text/html": [
              "<div>\n",
              "<style scoped>\n",
              "    .dataframe tbody tr th:only-of-type {\n",
              "        vertical-align: middle;\n",
              "    }\n",
              "\n",
              "    .dataframe tbody tr th {\n",
              "        vertical-align: top;\n",
              "    }\n",
              "\n",
              "    .dataframe thead th {\n",
              "        text-align: right;\n",
              "    }\n",
              "</style>\n",
              "<table border=\"1\" class=\"dataframe\">\n",
              "  <thead>\n",
              "    <tr style=\"text-align: right;\">\n",
              "      <th></th>\n",
              "      <th>id</th>\n",
              "      <th>name</th>\n",
              "      <th>date</th>\n",
              "      <th>manner_of_death</th>\n",
              "      <th>armed</th>\n",
              "      <th>age</th>\n",
              "      <th>gender</th>\n",
              "      <th>race</th>\n",
              "      <th>city</th>\n",
              "      <th>state</th>\n",
              "      <th>signs_of_mental_illness</th>\n",
              "      <th>threat_level</th>\n",
              "      <th>flee</th>\n",
              "      <th>body_camera</th>\n",
              "    </tr>\n",
              "  </thead>\n",
              "  <tbody>\n",
              "    <tr>\n",
              "      <th>0</th>\n",
              "      <td>3</td>\n",
              "      <td>Tim Elliot</td>\n",
              "      <td>2015-01-02</td>\n",
              "      <td>shot</td>\n",
              "      <td>gun</td>\n",
              "      <td>53.0</td>\n",
              "      <td>M</td>\n",
              "      <td>A</td>\n",
              "      <td>Shelton</td>\n",
              "      <td>WA</td>\n",
              "      <td>True</td>\n",
              "      <td>attack</td>\n",
              "      <td>Not fleeing</td>\n",
              "      <td>False</td>\n",
              "    </tr>\n",
              "    <tr>\n",
              "      <th>1</th>\n",
              "      <td>4</td>\n",
              "      <td>Lewis Lee Lembke</td>\n",
              "      <td>2015-01-02</td>\n",
              "      <td>shot</td>\n",
              "      <td>gun</td>\n",
              "      <td>47.0</td>\n",
              "      <td>M</td>\n",
              "      <td>W</td>\n",
              "      <td>Aloha</td>\n",
              "      <td>OR</td>\n",
              "      <td>False</td>\n",
              "      <td>attack</td>\n",
              "      <td>Not fleeing</td>\n",
              "      <td>False</td>\n",
              "    </tr>\n",
              "    <tr>\n",
              "      <th>2</th>\n",
              "      <td>5</td>\n",
              "      <td>John Paul Quintero</td>\n",
              "      <td>2015-01-03</td>\n",
              "      <td>shot and Tasered</td>\n",
              "      <td>unarmed</td>\n",
              "      <td>23.0</td>\n",
              "      <td>M</td>\n",
              "      <td>H</td>\n",
              "      <td>Wichita</td>\n",
              "      <td>KS</td>\n",
              "      <td>False</td>\n",
              "      <td>other</td>\n",
              "      <td>Not fleeing</td>\n",
              "      <td>False</td>\n",
              "    </tr>\n",
              "    <tr>\n",
              "      <th>3</th>\n",
              "      <td>8</td>\n",
              "      <td>Matthew Hoffman</td>\n",
              "      <td>2015-01-04</td>\n",
              "      <td>shot</td>\n",
              "      <td>toy weapon</td>\n",
              "      <td>32.0</td>\n",
              "      <td>M</td>\n",
              "      <td>W</td>\n",
              "      <td>San Francisco</td>\n",
              "      <td>CA</td>\n",
              "      <td>True</td>\n",
              "      <td>attack</td>\n",
              "      <td>Not fleeing</td>\n",
              "      <td>False</td>\n",
              "    </tr>\n",
              "    <tr>\n",
              "      <th>4</th>\n",
              "      <td>9</td>\n",
              "      <td>Michael Rodriguez</td>\n",
              "      <td>2015-01-04</td>\n",
              "      <td>shot</td>\n",
              "      <td>nail gun</td>\n",
              "      <td>39.0</td>\n",
              "      <td>M</td>\n",
              "      <td>H</td>\n",
              "      <td>Evans</td>\n",
              "      <td>CO</td>\n",
              "      <td>False</td>\n",
              "      <td>attack</td>\n",
              "      <td>Not fleeing</td>\n",
              "      <td>False</td>\n",
              "    </tr>\n",
              "  </tbody>\n",
              "</table>\n",
              "</div>"
            ],
            "text/plain": [
              "   id                name        date  ... threat_level         flee  body_camera\n",
              "0   3          Tim Elliot  2015-01-02  ...       attack  Not fleeing        False\n",
              "1   4    Lewis Lee Lembke  2015-01-02  ...       attack  Not fleeing        False\n",
              "2   5  John Paul Quintero  2015-01-03  ...        other  Not fleeing        False\n",
              "3   8     Matthew Hoffman  2015-01-04  ...       attack  Not fleeing        False\n",
              "4   9   Michael Rodriguez  2015-01-04  ...       attack  Not fleeing        False\n",
              "\n",
              "[5 rows x 14 columns]"
            ]
          },
          "metadata": {
            "tags": []
          },
          "execution_count": 128
        }
      ]
    },
    {
      "cell_type": "code",
      "metadata": {
        "id": "3M5iQzpvAFhO",
        "colab_type": "code",
        "colab": {
          "base_uri": "https://localhost:8080/",
          "height": 34
        },
        "outputId": "81423e46-7b96-4baa-af41-6266e9852acc"
      },
      "source": [
        "Fatal_police.shape"
      ],
      "execution_count": 129,
      "outputs": [
        {
          "output_type": "execute_result",
          "data": {
            "text/plain": [
              "(5573, 14)"
            ]
          },
          "metadata": {
            "tags": []
          },
          "execution_count": 129
        }
      ]
    },
    {
      "cell_type": "code",
      "metadata": {
        "id": "AKy3d6boKE-Y",
        "colab_type": "code",
        "colab": {
          "base_uri": "https://localhost:8080/",
          "height": 272
        },
        "outputId": "007c29c4-5e86-43d1-b5e9-87aa5e7a74e3"
      },
      "source": [
        "Fatal_police.isnull().sum()"
      ],
      "execution_count": 130,
      "outputs": [
        {
          "output_type": "execute_result",
          "data": {
            "text/plain": [
              "id                           0\n",
              "name                         0\n",
              "date                         0\n",
              "manner_of_death              0\n",
              "armed                      214\n",
              "age                        248\n",
              "gender                       1\n",
              "race                       598\n",
              "city                         0\n",
              "state                        0\n",
              "signs_of_mental_illness      0\n",
              "threat_level                 0\n",
              "flee                       264\n",
              "body_camera                  0\n",
              "dtype: int64"
            ]
          },
          "metadata": {
            "tags": []
          },
          "execution_count": 130
        }
      ]
    },
    {
      "cell_type": "code",
      "metadata": {
        "id": "uUvZhA1BKIsv",
        "colab_type": "code",
        "colab": {
          "base_uri": "https://localhost:8080/",
          "height": 272
        },
        "outputId": "838b9e00-a164-45b2-fef6-632f891ece77"
      },
      "source": [
        "Fatal_police.update(Fatal_police['race'].fillna('Not Informed'))\n",
        "Fatal_police.isnull().sum()"
      ],
      "execution_count": 131,
      "outputs": [
        {
          "output_type": "execute_result",
          "data": {
            "text/plain": [
              "id                           0\n",
              "name                         0\n",
              "date                         0\n",
              "manner_of_death              0\n",
              "armed                      214\n",
              "age                        248\n",
              "gender                       1\n",
              "race                         0\n",
              "city                         0\n",
              "state                        0\n",
              "signs_of_mental_illness      0\n",
              "threat_level                 0\n",
              "flee                       264\n",
              "body_camera                  0\n",
              "dtype: int64"
            ]
          },
          "metadata": {
            "tags": []
          },
          "execution_count": 131
        }
      ]
    },
    {
      "cell_type": "code",
      "metadata": {
        "id": "Ybktv0UmGwfk",
        "colab_type": "code",
        "colab": {}
      },
      "source": [
        "states_names = {'AK':'Alaska',\n",
        "         'AL':'Alabama',\n",
        "         'AR':'Arkansas','AZ':'Arizona',\n",
        "         'CA':'California','CO':'Colorado',\n",
        "         'CT':'Connecticut',\n",
        "         'DC':'DC',\n",
        "         'DE':'Delaware',\n",
        "         'FL':'Florida',\n",
        "         'GA':'Georgia',\n",
        "         'HI':'Hawaii',\n",
        "         'IA':'Iowa',\n",
        "         'ID':'Idaho',\n",
        "         'IL':'Illinois',\n",
        "         'IN':'Indiana',\n",
        "         'KS':'Kansas',\n",
        "         'KY':'Kentucky',\n",
        "         'LA':'Louisiana',\n",
        "         'MA':'Massachusetts',\n",
        "         'MD':'Maryland',\n",
        "         'ME':'Maine',\n",
        "         'MI':'Michigan',\n",
        "         'MN':'Minnesota',\n",
        "         'MO':'Missouri',\n",
        "         'MS':'Mississippi',\n",
        "         'MT':'Montana',\n",
        "         'NC':'North Carolina',\n",
        "         'ND':'North Dakota',\n",
        "         'NE':'Nebraska',\n",
        "         'NH':'New Hampshire',\n",
        "         'NJ':'New Jersey',\n",
        "         'NM':'New Mexico',\n",
        "         'NV':'Nevada',\n",
        "         'NY':'New York',\n",
        "         'OH':'Ohio',\n",
        "         'OK':'Oklahoma',\n",
        "         'OR':'Oregon',\n",
        "         'PA':'Pennsylvania',\n",
        "         'RI':'Rhode Island',\n",
        "         'SC':'South Carolina',\n",
        "         'SD':'South Dakota',\n",
        "         'TN':'Tennessee',\n",
        "         'TX':'Texas',\n",
        "         'UT':'Utah',\n",
        "         'VA':'Virginia',\n",
        "         'VT':'Vermont',\n",
        "         'WA':'Washington',\n",
        "         'WI':'Wisconsin',\n",
        "         'WV':'West Virginia',\n",
        "         'WY':'Wyoming'}\n",
        "\n",
        "\n",
        "sex = {'M': 'Male', 'F': 'Female'}\n",
        "\n",
        "\n",
        "race = {'A': 'Asian', \n",
        "       'B': 'Black', \n",
        "       'H': 'Hispanic', \n",
        "       'N': 'Native American', \n",
        "       'O': 'Other', \n",
        "       'W': 'White'}\n"
      ],
      "execution_count": 132,
      "outputs": []
    },
    {
      "cell_type": "code",
      "metadata": {
        "id": "Vyahq4V4l3SU",
        "colab_type": "code",
        "colab": {
          "base_uri": "https://localhost:8080/",
          "height": 153
        },
        "outputId": "367b6162-d489-4d8a-b8df-7a8674e919c2"
      },
      "source": [
        "total_race_percent = round(Fatal_police['race'].value_counts(normalize=True) * 100,2)\n",
        "total_race_percent.rename(index = race, inplace = True)\n",
        "\n",
        "total_race_percent"
      ],
      "execution_count": 133,
      "outputs": [
        {
          "output_type": "execute_result",
          "data": {
            "text/plain": [
              "White              45.27\n",
              "Black              23.60\n",
              "Hispanic           16.45\n",
              "Not Informed       10.73\n",
              "Asian               1.69\n",
              "Native American     1.40\n",
              "Other               0.86\n",
              "Name: race, dtype: float64"
            ]
          },
          "metadata": {
            "tags": []
          },
          "execution_count": 133
        }
      ]
    },
    {
      "cell_type": "code",
      "metadata": {
        "id": "2_qQBpk3MOMN",
        "colab_type": "code",
        "colab": {
          "base_uri": "https://localhost:8080/",
          "height": 266
        },
        "outputId": "99fde211-37d2-4398-f5eb-8a5fd00ab245"
      },
      "source": [
        "total_race_percent_df = pd.DataFrame(total_race_percent)\n",
        "total_race_percent_df.reset_index(level=0, inplace=True)\n",
        "\n",
        "total_race_percent_df.columns = [\"race\", \"total_percent\"] \n",
        "\n",
        "total_race_percent_df.head(10)"
      ],
      "execution_count": 134,
      "outputs": [
        {
          "output_type": "execute_result",
          "data": {
            "text/html": [
              "<div>\n",
              "<style scoped>\n",
              "    .dataframe tbody tr th:only-of-type {\n",
              "        vertical-align: middle;\n",
              "    }\n",
              "\n",
              "    .dataframe tbody tr th {\n",
              "        vertical-align: top;\n",
              "    }\n",
              "\n",
              "    .dataframe thead th {\n",
              "        text-align: right;\n",
              "    }\n",
              "</style>\n",
              "<table border=\"1\" class=\"dataframe\">\n",
              "  <thead>\n",
              "    <tr style=\"text-align: right;\">\n",
              "      <th></th>\n",
              "      <th>race</th>\n",
              "      <th>total_percent</th>\n",
              "    </tr>\n",
              "  </thead>\n",
              "  <tbody>\n",
              "    <tr>\n",
              "      <th>0</th>\n",
              "      <td>White</td>\n",
              "      <td>45.27</td>\n",
              "    </tr>\n",
              "    <tr>\n",
              "      <th>1</th>\n",
              "      <td>Black</td>\n",
              "      <td>23.60</td>\n",
              "    </tr>\n",
              "    <tr>\n",
              "      <th>2</th>\n",
              "      <td>Hispanic</td>\n",
              "      <td>16.45</td>\n",
              "    </tr>\n",
              "    <tr>\n",
              "      <th>3</th>\n",
              "      <td>Not Informed</td>\n",
              "      <td>10.73</td>\n",
              "    </tr>\n",
              "    <tr>\n",
              "      <th>4</th>\n",
              "      <td>Asian</td>\n",
              "      <td>1.69</td>\n",
              "    </tr>\n",
              "    <tr>\n",
              "      <th>5</th>\n",
              "      <td>Native American</td>\n",
              "      <td>1.40</td>\n",
              "    </tr>\n",
              "    <tr>\n",
              "      <th>6</th>\n",
              "      <td>Other</td>\n",
              "      <td>0.86</td>\n",
              "    </tr>\n",
              "  </tbody>\n",
              "</table>\n",
              "</div>"
            ],
            "text/plain": [
              "              race  total_percent\n",
              "0            White          45.27\n",
              "1            Black          23.60\n",
              "2         Hispanic          16.45\n",
              "3     Not Informed          10.73\n",
              "4            Asian           1.69\n",
              "5  Native American           1.40\n",
              "6            Other           0.86"
            ]
          },
          "metadata": {
            "tags": []
          },
          "execution_count": 134
        }
      ]
    },
    {
      "cell_type": "code",
      "metadata": {
        "id": "dMAVbM-PX8mG",
        "colab_type": "code",
        "colab": {
          "base_uri": "https://localhost:8080/",
          "height": 509
        },
        "outputId": "9b8dcb72-6caf-4651-c0a8-01cf8abe52f5"
      },
      "source": [
        "White = 61\n",
        "Black = 13\n",
        "Hispanic = 18\n",
        "Other = 5.9 + 1.5 + 0.6\n",
        "\n",
        "# Asian\t1.69\n",
        "# 5\tNative American\t1.40\n",
        "# 6\tOther\t0.86\n",
        "\n",
        "White_Shoot = int(total_race_percent_df.query('race == \"White\"').total_percent)\n",
        "Black_Shoot = int(total_race_percent_df.query('race == \"Black\"').total_percent)\n",
        "Hispanic_Shoot = int(total_race_percent_df.query('race == \"Hispanic\"').total_percent)\n",
        "\n",
        "Other_S1 = total_race_percent_df.query('race == \"Asian\"').total_percent\n",
        "Other_S2 = total_race_percent_df.query('race == \"Native American\"').total_percent\n",
        "Other_S3 = total_race_percent_df.query('race == \"Other\"').total_percent\n",
        "Other_S = int(Other_S1) + int(Other_S2) + int(Other_S3)\n",
        "\n",
        "\n",
        "total_race_percent_unarmed = round(Fatal_police.query('armed == \"unarmed\"')['race'].value_counts(normalize=True) * 100)\n",
        "# total_race_percent_unarmed.rename(index = race, inplace = True)\n",
        "\n",
        "White_Shoot_Unarmed = int(total_race_percent_unarmed.W)\n",
        "Black_Shoot_Unarmed = int(total_race_percent_unarmed.B)\n",
        "Hispanic_Shoot_Unarmed = int(total_race_percent_unarmed.H)\n",
        "\n",
        "Other_U1 = total_race_percent_unarmed.A\n",
        "Other_U2 = total_race_percent_unarmed.N\n",
        "Other_U3 = total_race_percent_unarmed.O\n",
        "Other_U = int(Other_U1) + int(Other_U2) + int(Other_U3)\n",
        "\n",
        "df = pd.DataFrame(data = {'race': [\"White People\",\"White People\",\"White People\",\"Black People\",\"Black People\",\"Black People\",\"Hispanic People\",\"Hispanic People\",\"Hispanic People\",\"Other\",\"Other\",\"Other\"],\n",
        "                          'percentual': [White,White_Shoot,White_Shoot_Unarmed,Black,Black_Shoot,Black_Shoot_Unarmed,Hispanic,Hispanic_Shoot,Hispanic_Shoot_Unarmed,Other,Other_S,Other_U],\n",
        "                          'type_percentual': [\"US Census\",\"People shooting\",\"Unarmed People shooting\",\"US Census\",\"People shooting\",\"Unarmed People shooting\",\"US Census\",\"People shooting\",\"Unarmed People shooting\",\"US Census\",\"People shooting\",\"Unarmed People shooting\"]})\n",
        "\n",
        "plt.figure(figsize=(15,8))\n",
        "fig = sns.barplot(x='percentual',y='type_percentual',data=df, hue=\"race\", orient='h')\n",
        "fig.set_title('Shooting Rates per Race', fontsize=24)    # Configurando o título do gráfico\n",
        "fig.legend(title='Races',fontsize=18)\n",
        "plt.xlabel('Percentage',fontsize=20)\n",
        "plt.ylabel('')\n",
        "\n",
        "plt.show()\n"
      ],
      "execution_count": 135,
      "outputs": [
        {
          "output_type": "display_data",
          "data": {
            "image/png": "[encoded data removed]",
            "text/plain": [
              "<Figure size 1080x576 with 1 Axes>"
            ]
          },
          "metadata": {
            "tags": [],
            "needs_background": "light"
          }
        }
      ]
    },
    {
      "cell_type": "code",
      "metadata": {
        "id": "0oyF16BaKGlL",
        "colab_type": "code",
        "colab": {
          "base_uri": "https://localhost:8080/",
          "height": 419
        },
        "outputId": "e77dc0b7-5bdf-4d81-b706-4a66fff632a8"
      },
      "source": [
        "armed_number = Fatal_police['armed'].value_counts()\n",
        "\n",
        "armed_number_df = pd.DataFrame(armed_number)\n",
        "armed_number_df.reset_index(level=0, inplace=True)\n",
        "\n",
        "armed_number_df.columns = [\"armed\", \"total_number\"] \n",
        "armed_number_df"
      ],
      "execution_count": 136,
      "outputs": [
        {
          "output_type": "execute_result",
          "data": {
            "text/html": [
              "<div>\n",
              "<style scoped>\n",
              "    .dataframe tbody tr th:only-of-type {\n",
              "        vertical-align: middle;\n",
              "    }\n",
              "\n",
              "    .dataframe tbody tr th {\n",
              "        vertical-align: top;\n",
              "    }\n",
              "\n",
              "    .dataframe thead th {\n",
              "        text-align: right;\n",
              "    }\n",
              "</style>\n",
              "<table border=\"1\" class=\"dataframe\">\n",
              "  <thead>\n",
              "    <tr style=\"text-align: right;\">\n",
              "      <th></th>\n",
              "      <th>armed</th>\n",
              "      <th>total_number</th>\n",
              "    </tr>\n",
              "  </thead>\n",
              "  <tbody>\n",
              "    <tr>\n",
              "      <th>0</th>\n",
              "      <td>gun</td>\n",
              "      <td>3157</td>\n",
              "    </tr>\n",
              "    <tr>\n",
              "      <th>1</th>\n",
              "      <td>knife</td>\n",
              "      <td>823</td>\n",
              "    </tr>\n",
              "    <tr>\n",
              "      <th>2</th>\n",
              "      <td>unarmed</td>\n",
              "      <td>356</td>\n",
              "    </tr>\n",
              "    <tr>\n",
              "      <th>3</th>\n",
              "      <td>toy weapon</td>\n",
              "      <td>193</td>\n",
              "    </tr>\n",
              "    <tr>\n",
              "      <th>4</th>\n",
              "      <td>undetermined</td>\n",
              "      <td>169</td>\n",
              "    </tr>\n",
              "    <tr>\n",
              "      <th>...</th>\n",
              "      <td>...</td>\n",
              "      <td>...</td>\n",
              "    </tr>\n",
              "    <tr>\n",
              "      <th>89</th>\n",
              "      <td>motorcycle</td>\n",
              "      <td>1</td>\n",
              "    </tr>\n",
              "    <tr>\n",
              "      <th>90</th>\n",
              "      <td>stapler</td>\n",
              "      <td>1</td>\n",
              "    </tr>\n",
              "    <tr>\n",
              "      <th>91</th>\n",
              "      <td>bow and arrow</td>\n",
              "      <td>1</td>\n",
              "    </tr>\n",
              "    <tr>\n",
              "      <th>92</th>\n",
              "      <td>gun and sword</td>\n",
              "      <td>1</td>\n",
              "    </tr>\n",
              "    <tr>\n",
              "      <th>93</th>\n",
              "      <td>bottle</td>\n",
              "      <td>1</td>\n",
              "    </tr>\n",
              "  </tbody>\n",
              "</table>\n",
              "<p>94 rows × 2 columns</p>\n",
              "</div>"
            ],
            "text/plain": [
              "            armed  total_number\n",
              "0             gun          3157\n",
              "1           knife           823\n",
              "2         unarmed           356\n",
              "3      toy weapon           193\n",
              "4    undetermined           169\n",
              "..            ...           ...\n",
              "89     motorcycle             1\n",
              "90        stapler             1\n",
              "91  bow and arrow             1\n",
              "92  gun and sword             1\n",
              "93         bottle             1\n",
              "\n",
              "[94 rows x 2 columns]"
            ]
          },
          "metadata": {
            "tags": []
          },
          "execution_count": 136
        }
      ]
    },
    {
      "cell_type": "code",
      "metadata": {
        "id": "WUYd9kUlK5CQ",
        "colab_type": "code",
        "colab": {
          "base_uri": "https://localhost:8080/",
          "height": 365
        },
        "outputId": "f317350b-9b56-4a9a-eb10-be614b278ad2"
      },
      "source": [
        "armed_number_df_filter = armed_number_df.query('total_number > 150')\n",
        "\n",
        "sns.set_style(\"whitegrid\")\n",
        "ax = sns.barplot(x=armed_number_df_filter.total_number, \n",
        "                 y=armed_number_df_filter.armed, \n",
        "                 data=armed_number_df_filter, \n",
        "                 orient='h',\n",
        "                 palette=sns.color_palette(\"BuGn_r\", n_colors=len(armed_number_df_filter) + 4))\n",
        "\n",
        "ax.figure.set_size_inches(15, 5)    # Personalizando o tamanho da figura\n",
        "\n",
        "ax.set_title('People´s weapon (numbers)', fontsize=26)    # Configurando o título do gráfico\n",
        "ax.set_xlabel('', fontsize=14)    # Configurando o label do eixo X\n",
        "ax.set_ylabel('', fontsize=14)    # Configurando o label do eixo Y\n",
        "ax"
      ],
      "execution_count": 137,
      "outputs": [
        {
          "output_type": "execute_result",
          "data": {
            "text/plain": [
              "<matplotlib.axes._subplots.AxesSubplot at 0x7fec6cfe92b0>"
            ]
          },
          "metadata": {
            "tags": []
          },
          "execution_count": 137
        },
        {
          "output_type": "display_data",
          "data": {
            "image/png": "[encoded data removed]",
            "text/plain": [
              "<Figure size 1080x360 with 1 Axes>"
            ]
          },
          "metadata": {
            "tags": []
          }
        }
      ]
    },
    {
      "cell_type": "code",
      "metadata": {
        "id": "1h5bYQXmzlvL",
        "colab_type": "code",
        "colab": {
          "base_uri": "https://localhost:8080/",
          "height": 901
        },
        "outputId": "45dd2f17-f891-41bd-fb35-5d9c43460076"
      },
      "source": [
        "per_state = Fatal_police['state'].value_counts()\n",
        "per_state.rename(index = states_names, inplace = True)\n",
        "per_state"
      ],
      "execution_count": 138,
      "outputs": [
        {
          "output_type": "execute_result",
          "data": {
            "text/plain": [
              "California        825\n",
              "Texas             494\n",
              "Florida           368\n",
              "Arizona           258\n",
              "Colorado          204\n",
              "Georgia           188\n",
              "Oklahoma          170\n",
              "North Carolina    162\n",
              "Ohio              159\n",
              "Washington        156\n",
              "Tennessee         147\n",
              "Missouri          145\n",
              "Louisiana         113\n",
              "Pennsylvania      111\n",
              "New Mexico        108\n",
              "Illinois          105\n",
              "Alabama           104\n",
              "New York          102\n",
              "Nevada            102\n",
              "Indiana            99\n",
              "Kentucky           98\n",
              "Virginia           96\n",
              "Wisconsin          95\n",
              "South Carolina     91\n",
              "Oregon             87\n",
              "Arkansas           83\n",
              "Michigan           82\n",
              "Maryland           79\n",
              "New Jersey         70\n",
              "Mississippi        66\n",
              "Utah               66\n",
              "Minnesota          62\n",
              "West Virginia      54\n",
              "Kansas             50\n",
              "Idaho              42\n",
              "Alaska             40\n",
              "Massachusetts      35\n",
              "Montana            33\n",
              "Iowa               32\n",
              "Hawaii             30\n",
              "Nebraska           25\n",
              "Maine              22\n",
              "Connecticut        21\n",
              "South Dakota       17\n",
              "Wyoming            14\n",
              "DC                 13\n",
              "Delaware           13\n",
              "New Hampshire      13\n",
              "North Dakota       11\n",
              "Vermont             9\n",
              "Rhode Island        4\n",
              "Name: state, dtype: int64"
            ]
          },
          "metadata": {
            "tags": []
          },
          "execution_count": 138
        }
      ]
    },
    {
      "cell_type": "code",
      "metadata": {
        "id": "qqB_P7HCKg5t",
        "colab_type": "code",
        "colab": {
          "base_uri": "https://localhost:8080/",
          "height": 204
        },
        "outputId": "5445eb15-4457-4f92-dd29-af202e038627"
      },
      "source": [
        "state_count = pd.DataFrame(per_state)\n",
        "state_count.reset_index(level=0, inplace=True)\n",
        "\n",
        "state_count.columns = [\"state\", \"deaths_total\"] \n",
        "\n",
        "state_count.head()\n"
      ],
      "execution_count": 139,
      "outputs": [
        {
          "output_type": "execute_result",
          "data": {
            "text/html": [
              "<div>\n",
              "<style scoped>\n",
              "    .dataframe tbody tr th:only-of-type {\n",
              "        vertical-align: middle;\n",
              "    }\n",
              "\n",
              "    .dataframe tbody tr th {\n",
              "        vertical-align: top;\n",
              "    }\n",
              "\n",
              "    .dataframe thead th {\n",
              "        text-align: right;\n",
              "    }\n",
              "</style>\n",
              "<table border=\"1\" class=\"dataframe\">\n",
              "  <thead>\n",
              "    <tr style=\"text-align: right;\">\n",
              "      <th></th>\n",
              "      <th>state</th>\n",
              "      <th>deaths_total</th>\n",
              "    </tr>\n",
              "  </thead>\n",
              "  <tbody>\n",
              "    <tr>\n",
              "      <th>0</th>\n",
              "      <td>California</td>\n",
              "      <td>825</td>\n",
              "    </tr>\n",
              "    <tr>\n",
              "      <th>1</th>\n",
              "      <td>Texas</td>\n",
              "      <td>494</td>\n",
              "    </tr>\n",
              "    <tr>\n",
              "      <th>2</th>\n",
              "      <td>Florida</td>\n",
              "      <td>368</td>\n",
              "    </tr>\n",
              "    <tr>\n",
              "      <th>3</th>\n",
              "      <td>Arizona</td>\n",
              "      <td>258</td>\n",
              "    </tr>\n",
              "    <tr>\n",
              "      <th>4</th>\n",
              "      <td>Colorado</td>\n",
              "      <td>204</td>\n",
              "    </tr>\n",
              "  </tbody>\n",
              "</table>\n",
              "</div>"
            ],
            "text/plain": [
              "        state  deaths_total\n",
              "0  California           825\n",
              "1       Texas           494\n",
              "2     Florida           368\n",
              "3     Arizona           258\n",
              "4    Colorado           204"
            ]
          },
          "metadata": {
            "tags": []
          },
          "execution_count": 139
        }
      ]
    },
    {
      "cell_type": "markdown",
      "metadata": {
        "id": "uN4Klwr1RBp1",
        "colab_type": "text"
      },
      "source": [
        "# Total deaths per state in a horizontal bar"
      ]
    },
    {
      "cell_type": "code",
      "metadata": {
        "id": "KmwHXxmg9A2K",
        "colab_type": "code",
        "colab": {
          "base_uri": "https://localhost:8080/",
          "height": 375
        },
        "outputId": "9dfc7048-7f0a-4ce0-f904-9c4bc6df3082"
      },
      "source": [
        "state_count_graf = state_count.query('deaths_total > 250')\n",
        "sns.set_style(\"whitegrid\")\n",
        "ax = sns.barplot(x=state_count_graf.deaths_total, \n",
        "                 y=state_count_graf.state, \n",
        "                 data=state_count_graf, \n",
        "                 orient='h',\n",
        "                 palette=sns.color_palette(\"BuGn_r\", n_colors=len(state_count_graf) + 4))\n",
        "\n",
        "ax.figure.set_size_inches(15, 5)    # Personalizando o tamanho da figura\n",
        "\n",
        "ax.set_title('Age per race and gender BoxPlot', fontsize=18)    # Configurando o título do gráfico\n",
        "\n",
        "ax.set_xlabel('Fatal Shooting', fontsize=14)    # Configurando o label do eixo X\n",
        "\n",
        "ax.set_ylabel('State', fontsize=14)    # Configurando o label do eixo Y\n",
        "ax"
      ],
      "execution_count": 140,
      "outputs": [
        {
          "output_type": "execute_result",
          "data": {
            "text/plain": [
              "<matplotlib.axes._subplots.AxesSubplot at 0x7fec6cefcfd0>"
            ]
          },
          "metadata": {
            "tags": []
          },
          "execution_count": 140
        },
        {
          "output_type": "display_data",
          "data": {
            "image/png": "[encoded data removed]",
            "text/plain": [
              "<Figure size 1080x360 with 1 Axes>"
            ]
          },
          "metadata": {
            "tags": []
          }
        }
      ]
    },
    {
      "cell_type": "markdown",
      "metadata": {
        "id": "owTg0kqFRP3B",
        "colab_type": "text"
      },
      "source": [
        "# **Fatal Shooting per race in California**"
      ]
    },
    {
      "cell_type": "code",
      "metadata": {
        "id": "pkWcSqqcRQNW",
        "colab_type": "code",
        "colab": {
          "base_uri": "https://localhost:8080/",
          "height": 153
        },
        "outputId": "bd2d24d2-cc5e-4a45-bc44-1574a758f3f7"
      },
      "source": [
        "total_race_percent_CA = round(Fatal_police.query('state == \"CA\"')['race'].value_counts(normalize=True) * 100)\n",
        "total_race_percent_CA.rename(index = race, inplace = True)\n",
        "\n",
        "total_race_percent_CA"
      ],
      "execution_count": 141,
      "outputs": [
        {
          "output_type": "execute_result",
          "data": {
            "text/plain": [
              "Hispanic           39.0\n",
              "White              27.0\n",
              "Black              15.0\n",
              "Not Informed       14.0\n",
              "Asian               4.0\n",
              "Other               1.0\n",
              "Native American     0.0\n",
              "Name: race, dtype: float64"
            ]
          },
          "metadata": {
            "tags": []
          },
          "execution_count": 141
        }
      ]
    },
    {
      "cell_type": "code",
      "metadata": {
        "id": "NwsSBc4mS7uo",
        "colab_type": "code",
        "colab": {
          "base_uri": "https://localhost:8080/",
          "height": 362
        },
        "outputId": "48567668-d35d-4b4a-8afd-6ad19cf42793"
      },
      "source": [
        "total_race_percent_CA_df = pd.DataFrame(total_race_percent_CA)\n",
        "total_race_percent_CA_df.reset_index(level=0, inplace=True)\n",
        "\n",
        "total_race_percent_CA_df.columns = [\"race\", \"deaths_total\"] \n",
        "\n",
        "# total_race_percent_CA_df.head()\n",
        "\n",
        "sns.set_style(\"dark\")\n",
        "ax = sns.barplot(x=total_race_percent_CA_df.deaths_total, \n",
        "                 y=total_race_percent_CA_df.race, \n",
        "                 data=total_race_percent_CA_df, \n",
        "                 orient='h',\n",
        "                 palette=sns.color_palette(\"autumn_r\", n_colors=len(total_race_percent_CA_df) - 4))\n",
        "\n",
        "ax.figure.set_size_inches(15, 5)    # Personalizando o tamanho da figura\n",
        "\n",
        "ax.set_title('California percentual deaths per race %', fontsize=24)    # Configurando o título do gráfico\n",
        "\n",
        "ax.set_ylabel('', fontsize=14)    # Configurando o label do eixo Y\n",
        "ax.set_xlabel('', fontsize=14)    # Configurando o label do eixo X\n",
        "\n",
        "\n",
        "ax\n",
        "\n",
        "\n",
        "# tentando colocar uma barra em outra cor\n",
        "# barplot = plt.bar(y_pos, odds_number, color = 'darkgreen', alpha = 0.85)\n",
        "# barplot[0].set_color('darkred')\n",
        "# plt.xlabel('Factors', fontsize = 15, weight = 'bold')"
      ],
      "execution_count": 142,
      "outputs": [
        {
          "output_type": "execute_result",
          "data": {
            "text/plain": [
              "<matplotlib.axes._subplots.AxesSubplot at 0x7fec6ce66978>"
            ]
          },
          "metadata": {
            "tags": []
          },
          "execution_count": 142
        },
        {
          "output_type": "display_data",
          "data": {
            "image/png": "[encoded data removed]",
            "text/plain": [
              "<Figure size 1080x360 with 1 Axes>"
            ]
          },
          "metadata": {
            "tags": []
          }
        }
      ]
    },
    {
      "cell_type": "markdown",
      "metadata": {
        "id": "UFADXYFIVGAE",
        "colab_type": "text"
      },
      "source": [
        "# **Fatal Shooting per race in Texas**"
      ]
    },
    {
      "cell_type": "code",
      "metadata": {
        "id": "EgHvvdHpVM60",
        "colab_type": "code",
        "colab": {
          "base_uri": "https://localhost:8080/",
          "height": 153
        },
        "outputId": "2b669283-ace6-44cd-bbff-cf01a90b7ff9"
      },
      "source": [
        "total_race_percent_TX = round(Fatal_police.query('state == \"TX\"')['race'].value_counts(normalize=True) * 100)\n",
        "total_race_percent_TX.rename(index = race, inplace = True)\n",
        "\n",
        "total_race_percent_TX"
      ],
      "execution_count": 143,
      "outputs": [
        {
          "output_type": "execute_result",
          "data": {
            "text/plain": [
              "White              36.0\n",
              "Hispanic           30.0\n",
              "Black              20.0\n",
              "Not Informed       12.0\n",
              "Asian               1.0\n",
              "Other               1.0\n",
              "Native American     0.0\n",
              "Name: race, dtype: float64"
            ]
          },
          "metadata": {
            "tags": []
          },
          "execution_count": 143
        }
      ]
    },
    {
      "cell_type": "code",
      "metadata": {
        "id": "prA0a8QHVYwr",
        "colab_type": "code",
        "colab": {
          "base_uri": "https://localhost:8080/",
          "height": 362
        },
        "outputId": "be054624-9044-45a6-ca73-d72bb9e156b9"
      },
      "source": [
        "total_race_percent_TX_df = pd.DataFrame(total_race_percent_TX)\n",
        "total_race_percent_TX_df.reset_index(level=0, inplace=True)\n",
        "\n",
        "total_race_percent_TX_df.columns = [\"race\", \"deaths_total\"] \n",
        "\n",
        "# total_race_percent_TX_df.head()\n",
        "\n",
        "sns.set_style(\"darkgrid\")\n",
        "ax = sns.barplot(x=total_race_percent_TX_df.deaths_total, \n",
        "                 y=total_race_percent_TX_df.race, \n",
        "                 data=total_race_percent_TX_df, \n",
        "                 orient='h',\n",
        "                 palette=sns.color_palette(\"autumn_r\", n_colors=len(total_race_percent_TX_df) - 4))\n",
        "\n",
        "ax.figure.set_size_inches(15, 5)    # Personalizando o tamanho da figura\n",
        "\n",
        "ax.set_title('Texas percentual deaths per race %', fontsize=24)    # Configurando o título do gráfico\n",
        "\n",
        "ax.set_ylabel('', fontsize=14)    # Configurando o label do eixo Y\n",
        "ax.set_xlabel('', fontsize=14)    # Configurando o label do eixo X\n",
        "\n",
        "ax"
      ],
      "execution_count": 144,
      "outputs": [
        {
          "output_type": "execute_result",
          "data": {
            "text/plain": [
              "<matplotlib.axes._subplots.AxesSubplot at 0x7fec6cdd8160>"
            ]
          },
          "metadata": {
            "tags": []
          },
          "execution_count": 144
        },
        {
          "output_type": "display_data",
          "data": {
            "image/png": "[encoded data removed]",
            "text/plain": [
              "<Figure size 1080x360 with 1 Axes>"
            ]
          },
          "metadata": {
            "tags": []
          }
        }
      ]
    },
    {
      "cell_type": "markdown",
      "metadata": {
        "id": "6_mhc1cVaBs4",
        "colab_type": "text"
      },
      "source": [
        "# **Fatal Shooting per race in Florida**"
      ]
    },
    {
      "cell_type": "code",
      "metadata": {
        "id": "UG0ruVAfaHec",
        "colab_type": "code",
        "colab": {
          "base_uri": "https://localhost:8080/",
          "height": 136
        },
        "outputId": "5ae8f77d-5423-4555-f72e-84ef7a7153d9"
      },
      "source": [
        "total_race_percent_FL = round(Fatal_police.query('state == \"FL\"')['race'].value_counts(normalize=True) * 100)\n",
        "total_race_percent_FL.rename(index = race, inplace = True)\n",
        "\n",
        "total_race_percent_FL"
      ],
      "execution_count": 145,
      "outputs": [
        {
          "output_type": "execute_result",
          "data": {
            "text/plain": [
              "White           44.0\n",
              "Black           31.0\n",
              "Hispanic        14.0\n",
              "Not Informed    10.0\n",
              "Other            1.0\n",
              "Asian            0.0\n",
              "Name: race, dtype: float64"
            ]
          },
          "metadata": {
            "tags": []
          },
          "execution_count": 145
        }
      ]
    },
    {
      "cell_type": "code",
      "metadata": {
        "id": "e6IU0P9yaEr8",
        "colab_type": "code",
        "colab": {
          "base_uri": "https://localhost:8080/",
          "height": 362
        },
        "outputId": "cb163805-828e-4174-8190-d2f35187fa61"
      },
      "source": [
        "total_race_percent_FL_df = pd.DataFrame(total_race_percent_FL)\n",
        "total_race_percent_FL_df.reset_index(level=0, inplace=True)\n",
        "\n",
        "total_race_percent_FL_df.columns = [\"race\", \"deaths_total\"] \n",
        "\n",
        "# total_race_percent_TX_df.head()\n",
        "\n",
        "sns.set_style(\"darkgrid\")\n",
        "ax = sns.barplot(x=total_race_percent_FL_df.deaths_total, \n",
        "                 y=total_race_percent_FL_df.race, \n",
        "                 data=total_race_percent_FL_df, \n",
        "                 orient='h',\n",
        "                 palette=sns.color_palette(\"autumn_r\", n_colors=len(total_race_percent_FL_df) - 4))\n",
        "\n",
        "ax.figure.set_size_inches(15, 5)    # Personalizando o tamanho da figura\n",
        "\n",
        "ax.set_title('Florida percentual deaths per race %', fontsize=24)    # Configurando o título do gráfico\n",
        "\n",
        "ax.set_ylabel('', fontsize=14)    # Configurando o label do eixo Y\n",
        "ax.set_xlabel('', fontsize=14)    # Configurando o label do eixo X\n",
        "\n",
        "ax"
      ],
      "execution_count": 146,
      "outputs": [
        {
          "output_type": "execute_result",
          "data": {
            "text/plain": [
              "<matplotlib.axes._subplots.AxesSubplot at 0x7fec6ce6f358>"
            ]
          },
          "metadata": {
            "tags": []
          },
          "execution_count": 146
        },
        {
          "output_type": "display_data",
          "data": {
            "image/png": "[encoded data removed]",
            "text/plain": [
              "<Figure size 1080x360 with 1 Axes>"
            ]
          },
          "metadata": {
            "tags": []
          }
        }
      ]
    },
    {
      "cell_type": "markdown",
      "metadata": {
        "id": "2k7y3eP_bRnh",
        "colab_type": "text"
      },
      "source": [
        "# **Fatal Shooting per race in Arizona**"
      ]
    },
    {
      "cell_type": "code",
      "metadata": {
        "id": "pREQOsoAbSjR",
        "colab_type": "code",
        "colab": {
          "base_uri": "https://localhost:8080/",
          "height": 119
        },
        "outputId": "9b78b4b9-36f5-4b82-ab6f-0c8776ee9451"
      },
      "source": [
        "total_race_percent_AZ = round(Fatal_police.query('state == \"AZ\"')['race'].value_counts(normalize=True) * 100)\n",
        "total_race_percent_AZ.rename(index = race, inplace = True)\n",
        "\n",
        "total_race_percent_AZ"
      ],
      "execution_count": 147,
      "outputs": [
        {
          "output_type": "execute_result",
          "data": {
            "text/plain": [
              "White              42.0\n",
              "Hispanic           33.0\n",
              "Not Informed       14.0\n",
              "Black               7.0\n",
              "Native American     5.0\n",
              "Name: race, dtype: float64"
            ]
          },
          "metadata": {
            "tags": []
          },
          "execution_count": 147
        }
      ]
    },
    {
      "cell_type": "code",
      "metadata": {
        "id": "lIPw2etkbWR9",
        "colab_type": "code",
        "colab": {
          "base_uri": "https://localhost:8080/",
          "height": 362
        },
        "outputId": "aadae826-ae14-48d7-e645-8810c1a342b0"
      },
      "source": [
        "total_race_percent_AZ_df = pd.DataFrame(total_race_percent_AZ)\n",
        "total_race_percent_AZ_df.reset_index(level=0, inplace=True)\n",
        "\n",
        "total_race_percent_AZ_df.columns = [\"race\", \"deaths_total\"] \n",
        "\n",
        "# total_race_percent_TX_df.head()\n",
        "\n",
        "sns.set_style(\"darkgrid\")\n",
        "ax = sns.barplot(x=total_race_percent_AZ_df.deaths_total, \n",
        "                 y=total_race_percent_AZ_df.race, \n",
        "                 data=total_race_percent_AZ_df, \n",
        "                 orient='h',\n",
        "                 palette=sns.color_palette(\"autumn_r\", n_colors=len(total_race_percent_AZ_df) - 4))\n",
        "\n",
        "ax.figure.set_size_inches(15, 5)    # Personalizando o tamanho da figura\n",
        "\n",
        "ax.set_title('Arizona percentual deaths per race %', fontsize=24)    # Configurando o título do gráfico\n",
        "\n",
        "ax.set_ylabel('', fontsize=14)    # Configurando o label do eixo Y\n",
        "ax.set_xlabel('', fontsize=14)    # Configurando o label do eixo X\n",
        "\n",
        "ax"
      ],
      "execution_count": 148,
      "outputs": [
        {
          "output_type": "execute_result",
          "data": {
            "text/plain": [
              "<matplotlib.axes._subplots.AxesSubplot at 0x7fec6fbe9c88>"
            ]
          },
          "metadata": {
            "tags": []
          },
          "execution_count": 148
        },
        {
          "output_type": "display_data",
          "data": {
            "image/png": "[encoded data removed]",
            "text/plain": [
              "<Figure size 1080x360 with 1 Axes>"
            ]
          },
          "metadata": {
            "tags": []
          }
        }
      ]
    },
    {
      "cell_type": "code",
      "metadata": {
        "id": "9az-DqvMZDRZ",
        "colab_type": "code",
        "colab": {
          "base_uri": "https://localhost:8080/",
          "height": 508
        },
        "outputId": "5d72d055-6fac-47e4-bb29-d921bcbf71ee"
      },
      "source": [
        "df1 = Fatal_police.query('state in [\"CA\",\"TX\",\"FL\",\"AZ\"]')\n",
        "\n",
        "# sort_values(by='state')\n",
        "\n",
        "plt.figure(figsize=(15,8))\n",
        "fig = sns.countplot(x='state',data=df1,hue='race')\n",
        "fig.set_title('The most 4 Fatal states per race', fontsize=24)    # Configurando o título do gráfico\n",
        "\n",
        "plt.legend(title='Race', labels=['White', 'Hispanic','Black', 'Other','Native American', 'Asian','Not Informed'], fontsize=14)\n",
        "\n",
        "\n",
        "plt.ylabel('')\n",
        "plt.xlabel('')\n",
        "\n",
        "# to save the image\n",
        "# plt.savefig(os.path.join(IMG_PATH,'classificacao_acidentes.png'), format='png')\n",
        "\n",
        "plt.show()"
      ],
      "execution_count": 149,
      "outputs": [
        {
          "output_type": "display_data",
          "data": {
            "image/png": "[encoded data removed]",
            "text/plain": [
              "<Figure size 1080x576 with 1 Axes>"
            ]
          },
          "metadata": {
            "tags": []
          }
        }
      ]
    },
    {
      "cell_type": "code",
      "metadata": {
        "id": "uQqNfivc8tz8",
        "colab_type": "code",
        "colab": {
          "base_uri": "https://localhost:8080/",
          "height": 297
        },
        "outputId": "97d501a1-48dc-43e1-b2ac-291f05f98f2b"
      },
      "source": [
        "Fatal_police.describe()"
      ],
      "execution_count": 150,
      "outputs": [
        {
          "output_type": "execute_result",
          "data": {
            "text/html": [
              "<div>\n",
              "<style scoped>\n",
              "    .dataframe tbody tr th:only-of-type {\n",
              "        vertical-align: middle;\n",
              "    }\n",
              "\n",
              "    .dataframe tbody tr th {\n",
              "        vertical-align: top;\n",
              "    }\n",
              "\n",
              "    .dataframe thead th {\n",
              "        text-align: right;\n",
              "    }\n",
              "</style>\n",
              "<table border=\"1\" class=\"dataframe\">\n",
              "  <thead>\n",
              "    <tr style=\"text-align: right;\">\n",
              "      <th></th>\n",
              "      <th>id</th>\n",
              "      <th>age</th>\n",
              "    </tr>\n",
              "  </thead>\n",
              "  <tbody>\n",
              "    <tr>\n",
              "      <th>count</th>\n",
              "      <td>5573.000000</td>\n",
              "      <td>5325.000000</td>\n",
              "    </tr>\n",
              "    <tr>\n",
              "      <th>mean</th>\n",
              "      <td>3096.198636</td>\n",
              "      <td>37.118685</td>\n",
              "    </tr>\n",
              "    <tr>\n",
              "      <th>std</th>\n",
              "      <td>1745.644408</td>\n",
              "      <td>13.102332</td>\n",
              "    </tr>\n",
              "    <tr>\n",
              "      <th>min</th>\n",
              "      <td>3.000000</td>\n",
              "      <td>6.000000</td>\n",
              "    </tr>\n",
              "    <tr>\n",
              "      <th>25%</th>\n",
              "      <td>1587.000000</td>\n",
              "      <td>27.000000</td>\n",
              "    </tr>\n",
              "    <tr>\n",
              "      <th>50%</th>\n",
              "      <td>3100.000000</td>\n",
              "      <td>35.000000</td>\n",
              "    </tr>\n",
              "    <tr>\n",
              "      <th>75%</th>\n",
              "      <td>4619.000000</td>\n",
              "      <td>46.000000</td>\n",
              "    </tr>\n",
              "    <tr>\n",
              "      <th>max</th>\n",
              "      <td>6097.000000</td>\n",
              "      <td>91.000000</td>\n",
              "    </tr>\n",
              "  </tbody>\n",
              "</table>\n",
              "</div>"
            ],
            "text/plain": [
              "                id          age\n",
              "count  5573.000000  5325.000000\n",
              "mean   3096.198636    37.118685\n",
              "std    1745.644408    13.102332\n",
              "min       3.000000     6.000000\n",
              "25%    1587.000000    27.000000\n",
              "50%    3100.000000    35.000000\n",
              "75%    4619.000000    46.000000\n",
              "max    6097.000000    91.000000"
            ]
          },
          "metadata": {
            "tags": []
          },
          "execution_count": 150
        }
      ]
    },
    {
      "cell_type": "markdown",
      "metadata": {
        "id": "AZxKCULg0-Ga",
        "colab_type": "text"
      },
      "source": [
        "##Fazendo Query"
      ]
    },
    {
      "cell_type": "markdown",
      "metadata": {
        "id": "2Z19TkRh1Oh1",
        "colab_type": "text"
      },
      "source": [
        "##Fazendo Sorted, valores unicos"
      ]
    },
    {
      "cell_type": "code",
      "metadata": {
        "id": "n2zsxvpnpGyz",
        "colab_type": "code",
        "colab": {
          "base_uri": "https://localhost:8080/",
          "height": 1000
        },
        "outputId": "e75c2f07-eec1-4340-bd38-e4f778b9b580"
      },
      "source": [
        "sorted(Fatal_police['age'].unique())"
      ],
      "execution_count": 151,
      "outputs": [
        {
          "output_type": "execute_result",
          "data": {
            "text/plain": [
              "[6.0,\n",
              " 12.0,\n",
              " 13.0,\n",
              " 14.0,\n",
              " 15.0,\n",
              " 16.0,\n",
              " 17.0,\n",
              " 18.0,\n",
              " 19.0,\n",
              " 20.0,\n",
              " 21.0,\n",
              " 22.0,\n",
              " 23.0,\n",
              " 24.0,\n",
              " 25.0,\n",
              " 26.0,\n",
              " 27.0,\n",
              " 28.0,\n",
              " 29.0,\n",
              " 30.0,\n",
              " 31.0,\n",
              " 32.0,\n",
              " 33.0,\n",
              " 34.0,\n",
              " 35.0,\n",
              " 36.0,\n",
              " 37.0,\n",
              " 38.0,\n",
              " 39.0,\n",
              " 40.0,\n",
              " 41.0,\n",
              " 42.0,\n",
              " 43.0,\n",
              " 44.0,\n",
              " 45.0,\n",
              " 46.0,\n",
              " 47.0,\n",
              " 48.0,\n",
              " 49.0,\n",
              " 50.0,\n",
              " 51.0,\n",
              " 52.0,\n",
              " 53.0,\n",
              " 54.0,\n",
              " 55.0,\n",
              " 56.0,\n",
              " 57.0,\n",
              " 58.0,\n",
              " 59.0,\n",
              " 60.0,\n",
              " 61.0,\n",
              " 62.0,\n",
              " 63.0,\n",
              " 64.0,\n",
              " 65.0,\n",
              " 66.0,\n",
              " 67.0,\n",
              " 68.0,\n",
              " 69.0,\n",
              " 70.0,\n",
              " 71.0,\n",
              " 72.0,\n",
              " 73.0,\n",
              " 74.0,\n",
              " 75.0,\n",
              " 77.0,\n",
              " nan,\n",
              " 76.0,\n",
              " 78.0,\n",
              " 79.0,\n",
              " 80.0,\n",
              " 81.0,\n",
              " 82.0,\n",
              " 83.0,\n",
              " 84.0,\n",
              " 86.0,\n",
              " 89.0,\n",
              " 91.0]"
            ]
          },
          "metadata": {
            "tags": []
          },
          "execution_count": 151
        }
      ]
    },
    {
      "cell_type": "code",
      "metadata": {
        "id": "M_VRqbdcNnGL",
        "colab_type": "code",
        "colab": {
          "base_uri": "https://localhost:8080/",
          "height": 34
        },
        "outputId": "3552a035-ca9b-4951-f13c-3d9a2b9afea5"
      },
      "source": [
        "sorted(Fatal_police['manner_of_death'].unique())"
      ],
      "execution_count": 152,
      "outputs": [
        {
          "output_type": "execute_result",
          "data": {
            "text/plain": [
              "['shot', 'shot and Tasered']"
            ]
          },
          "metadata": {
            "tags": []
          },
          "execution_count": 152
        }
      ]
    },
    {
      "cell_type": "markdown",
      "metadata": {
        "id": "cVTG01yp1jqM",
        "colab_type": "text"
      },
      "source": [
        ""
      ]
    },
    {
      "cell_type": "code",
      "metadata": {
        "id": "hAtCR3pr4EBH",
        "colab_type": "code",
        "colab": {
          "base_uri": "https://localhost:8080/",
          "height": 68
        },
        "outputId": "e3cf33cb-5f80-43ef-9f74-d3ed9b9b0aaf"
      },
      "source": [
        "Fatal_police['gender'].value_counts()"
      ],
      "execution_count": 153,
      "outputs": [
        {
          "output_type": "execute_result",
          "data": {
            "text/plain": [
              "M    5326\n",
              "F     246\n",
              "Name: gender, dtype: int64"
            ]
          },
          "metadata": {
            "tags": []
          },
          "execution_count": 153
        }
      ]
    },
    {
      "cell_type": "code",
      "metadata": {
        "id": "CnEqBY1f1t_U",
        "colab_type": "code",
        "colab": {
          "base_uri": "https://localhost:8080/",
          "height": 68
        },
        "outputId": "62d10aed-4a80-467a-bd71-dae5a8c1cd3b"
      },
      "source": [
        "Fatal_police['gender'].value_counts(normalize = True) * 100"
      ],
      "execution_count": 154,
      "outputs": [
        {
          "output_type": "execute_result",
          "data": {
            "text/plain": [
              "M    95.585068\n",
              "F     4.414932\n",
              "Name: gender, dtype: float64"
            ]
          },
          "metadata": {
            "tags": []
          },
          "execution_count": 154
        }
      ]
    },
    {
      "cell_type": "code",
      "metadata": {
        "id": "SIzYrsZN2v8l",
        "colab_type": "code",
        "colab": {
          "base_uri": "https://localhost:8080/",
          "height": 68
        },
        "outputId": "a7203496-bd09-4329-ed79-980ebe534ebb"
      },
      "source": [
        "frequencia = Fatal_police['gender'].value_counts()\n",
        "frequencia"
      ],
      "execution_count": 155,
      "outputs": [
        {
          "output_type": "execute_result",
          "data": {
            "text/plain": [
              "M    5326\n",
              "F     246\n",
              "Name: gender, dtype: int64"
            ]
          },
          "metadata": {
            "tags": []
          },
          "execution_count": 155
        }
      ]
    },
    {
      "cell_type": "code",
      "metadata": {
        "id": "oGKca-QY3Jf7",
        "colab_type": "code",
        "colab": {
          "base_uri": "https://localhost:8080/",
          "height": 68
        },
        "outputId": "21fdf3f4-dfb0-42e7-cf5c-df49f11f63c2"
      },
      "source": [
        "percentual = Fatal_police['gender'].value_counts(normalize = True) * 100\n",
        "percentual"
      ],
      "execution_count": 156,
      "outputs": [
        {
          "output_type": "execute_result",
          "data": {
            "text/plain": [
              "M    95.585068\n",
              "F     4.414932\n",
              "Name: gender, dtype: float64"
            ]
          },
          "metadata": {
            "tags": []
          },
          "execution_count": 156
        }
      ]
    },
    {
      "cell_type": "code",
      "metadata": {
        "id": "Bx470yY53Yd7",
        "colab_type": "code",
        "colab": {
          "base_uri": "https://localhost:8080/",
          "height": 111
        },
        "outputId": "5132d461-c152-47ec-be46-65d97cfc4910"
      },
      "source": [
        "dist_freq_qualitativas = pd.DataFrame({'Frequência': frequencia, 'Porcentagem (%)': percentual})\n",
        "dist_freq_qualitativas"
      ],
      "execution_count": 157,
      "outputs": [
        {
          "output_type": "execute_result",
          "data": {
            "text/html": [
              "<div>\n",
              "<style scoped>\n",
              "    .dataframe tbody tr th:only-of-type {\n",
              "        vertical-align: middle;\n",
              "    }\n",
              "\n",
              "    .dataframe tbody tr th {\n",
              "        vertical-align: top;\n",
              "    }\n",
              "\n",
              "    .dataframe thead th {\n",
              "        text-align: right;\n",
              "    }\n",
              "</style>\n",
              "<table border=\"1\" class=\"dataframe\">\n",
              "  <thead>\n",
              "    <tr style=\"text-align: right;\">\n",
              "      <th></th>\n",
              "      <th>Frequência</th>\n",
              "      <th>Porcentagem (%)</th>\n",
              "    </tr>\n",
              "  </thead>\n",
              "  <tbody>\n",
              "    <tr>\n",
              "      <th>M</th>\n",
              "      <td>5326</td>\n",
              "      <td>95.585068</td>\n",
              "    </tr>\n",
              "    <tr>\n",
              "      <th>F</th>\n",
              "      <td>246</td>\n",
              "      <td>4.414932</td>\n",
              "    </tr>\n",
              "  </tbody>\n",
              "</table>\n",
              "</div>"
            ],
            "text/plain": [
              "   Frequência  Porcentagem (%)\n",
              "M        5326        95.585068\n",
              "F         246         4.414932"
            ]
          },
          "metadata": {
            "tags": []
          },
          "execution_count": 157
        }
      ]
    },
    {
      "cell_type": "code",
      "metadata": {
        "id": "gqDzoiu535vU",
        "colab_type": "code",
        "colab": {
          "base_uri": "https://localhost:8080/",
          "height": 111
        },
        "outputId": "a413b08f-5946-4377-d94e-4c869a84fb28"
      },
      "source": [
        "dist_freq_qualitativas.rename_axis('Sexo', axis= 'columns', inplace = True)\n",
        "dist_freq_qualitativas"
      ],
      "execution_count": 158,
      "outputs": [
        {
          "output_type": "execute_result",
          "data": {
            "text/html": [
              "<div>\n",
              "<style scoped>\n",
              "    .dataframe tbody tr th:only-of-type {\n",
              "        vertical-align: middle;\n",
              "    }\n",
              "\n",
              "    .dataframe tbody tr th {\n",
              "        vertical-align: top;\n",
              "    }\n",
              "\n",
              "    .dataframe thead th {\n",
              "        text-align: right;\n",
              "    }\n",
              "</style>\n",
              "<table border=\"1\" class=\"dataframe\">\n",
              "  <thead>\n",
              "    <tr style=\"text-align: right;\">\n",
              "      <th>Sexo</th>\n",
              "      <th>Frequência</th>\n",
              "      <th>Porcentagem (%)</th>\n",
              "    </tr>\n",
              "  </thead>\n",
              "  <tbody>\n",
              "    <tr>\n",
              "      <th>M</th>\n",
              "      <td>5326</td>\n",
              "      <td>95.585068</td>\n",
              "    </tr>\n",
              "    <tr>\n",
              "      <th>F</th>\n",
              "      <td>246</td>\n",
              "      <td>4.414932</td>\n",
              "    </tr>\n",
              "  </tbody>\n",
              "</table>\n",
              "</div>"
            ],
            "text/plain": [
              "Sexo  Frequência  Porcentagem (%)\n",
              "M           5326        95.585068\n",
              "F            246         4.414932"
            ]
          },
          "metadata": {
            "tags": []
          },
          "execution_count": 158
        }
      ]
    },
    {
      "cell_type": "markdown",
      "metadata": {
        "id": "9Rws-5ep5UJN",
        "colab_type": "text"
      },
      "source": [
        "## Fazendo o CrossTab\n",
        "https://pandas.pydata.org/pandas-docs/version/0.22/generated/pandas.crosstab.html"
      ]
    },
    {
      "cell_type": "code",
      "metadata": {
        "id": "OpxeWp2K918I",
        "colab_type": "code",
        "colab": {
          "base_uri": "https://localhost:8080/",
          "height": 272
        },
        "outputId": "8188a15a-2324-462b-e55a-09c0cd8de2df"
      },
      "source": [
        "Fatal_police.isnull().sum()"
      ],
      "execution_count": 159,
      "outputs": [
        {
          "output_type": "execute_result",
          "data": {
            "text/plain": [
              "id                           0\n",
              "name                         0\n",
              "date                         0\n",
              "manner_of_death              0\n",
              "armed                      214\n",
              "age                        248\n",
              "gender                       1\n",
              "race                         0\n",
              "city                         0\n",
              "state                        0\n",
              "signs_of_mental_illness      0\n",
              "threat_level                 0\n",
              "flee                       264\n",
              "body_camera                  0\n",
              "dtype: int64"
            ]
          },
          "metadata": {
            "tags": []
          },
          "execution_count": 159
        }
      ]
    },
    {
      "cell_type": "code",
      "metadata": {
        "id": "iYeueEut9_TR",
        "colab_type": "code",
        "colab": {
          "base_uri": "https://localhost:8080/",
          "height": 34
        },
        "outputId": "ed8319b5-d8c3-49f8-aa75-6366a99ff712"
      },
      "source": [
        "# Checando os dados\n",
        "sorted(Fatal_police['race'].unique())"
      ],
      "execution_count": 160,
      "outputs": [
        {
          "output_type": "execute_result",
          "data": {
            "text/plain": [
              "['A', 'B', 'H', 'N', 'Not Informed', 'O', 'W']"
            ]
          },
          "metadata": {
            "tags": []
          },
          "execution_count": 160
        }
      ]
    },
    {
      "cell_type": "code",
      "metadata": {
        "id": "RxSTBUtF-LWP",
        "colab_type": "code",
        "colab": {
          "base_uri": "https://localhost:8080/",
          "height": 142
        },
        "outputId": "dda6c247-3bb9-4d2a-c8c1-f5d00d6ad252"
      },
      "source": [
        "frequencia = pd.crosstab(Fatal_police.gender, Fatal_police.race)\n",
        "frequencia.rename(index = sex, inplace = True)\n",
        "frequencia.rename(columns = race, inplace = True)\n",
        "frequencia"
      ],
      "execution_count": 161,
      "outputs": [
        {
          "output_type": "execute_result",
          "data": {
            "text/html": [
              "<div>\n",
              "<style scoped>\n",
              "    .dataframe tbody tr th:only-of-type {\n",
              "        vertical-align: middle;\n",
              "    }\n",
              "\n",
              "    .dataframe tbody tr th {\n",
              "        vertical-align: top;\n",
              "    }\n",
              "\n",
              "    .dataframe thead th {\n",
              "        text-align: right;\n",
              "    }\n",
              "</style>\n",
              "<table border=\"1\" class=\"dataframe\">\n",
              "  <thead>\n",
              "    <tr style=\"text-align: right;\">\n",
              "      <th>race</th>\n",
              "      <th>Asian</th>\n",
              "      <th>Black</th>\n",
              "      <th>Hispanic</th>\n",
              "      <th>Native American</th>\n",
              "      <th>Not Informed</th>\n",
              "      <th>Other</th>\n",
              "      <th>White</th>\n",
              "    </tr>\n",
              "    <tr>\n",
              "      <th>gender</th>\n",
              "      <th></th>\n",
              "      <th></th>\n",
              "      <th></th>\n",
              "      <th></th>\n",
              "      <th></th>\n",
              "      <th></th>\n",
              "      <th></th>\n",
              "    </tr>\n",
              "  </thead>\n",
              "  <tbody>\n",
              "    <tr>\n",
              "      <th>Female</th>\n",
              "      <td>5</td>\n",
              "      <td>47</td>\n",
              "      <td>27</td>\n",
              "      <td>5</td>\n",
              "      <td>13</td>\n",
              "      <td>4</td>\n",
              "      <td>145</td>\n",
              "    </tr>\n",
              "    <tr>\n",
              "      <th>Male</th>\n",
              "      <td>89</td>\n",
              "      <td>1268</td>\n",
              "      <td>890</td>\n",
              "      <td>73</td>\n",
              "      <td>585</td>\n",
              "      <td>44</td>\n",
              "      <td>2377</td>\n",
              "    </tr>\n",
              "  </tbody>\n",
              "</table>\n",
              "</div>"
            ],
            "text/plain": [
              "race    Asian  Black  Hispanic  Native American  Not Informed  Other  White\n",
              "gender                                                                     \n",
              "Female      5     47        27                5            13      4    145\n",
              "Male       89   1268       890               73           585     44   2377"
            ]
          },
          "metadata": {
            "tags": []
          },
          "execution_count": 161
        }
      ]
    },
    {
      "cell_type": "code",
      "metadata": {
        "id": "yAoDJEmgB3pc",
        "colab_type": "code",
        "colab": {
          "base_uri": "https://localhost:8080/",
          "height": 142
        },
        "outputId": "478b31f1-4883-42f3-f3bd-9c753b1844c1"
      },
      "source": [
        "percentual = pd.crosstab(Fatal_police.gender, Fatal_police.race, \n",
        "                         normalize = True) * 100\n",
        "percentual.rename(index = sex, inplace = True)\n",
        "percentual.rename(columns = race, inplace = True)\n",
        "percentual"
      ],
      "execution_count": 162,
      "outputs": [
        {
          "output_type": "execute_result",
          "data": {
            "text/html": [
              "<div>\n",
              "<style scoped>\n",
              "    .dataframe tbody tr th:only-of-type {\n",
              "        vertical-align: middle;\n",
              "    }\n",
              "\n",
              "    .dataframe tbody tr th {\n",
              "        vertical-align: top;\n",
              "    }\n",
              "\n",
              "    .dataframe thead th {\n",
              "        text-align: right;\n",
              "    }\n",
              "</style>\n",
              "<table border=\"1\" class=\"dataframe\">\n",
              "  <thead>\n",
              "    <tr style=\"text-align: right;\">\n",
              "      <th>race</th>\n",
              "      <th>Asian</th>\n",
              "      <th>Black</th>\n",
              "      <th>Hispanic</th>\n",
              "      <th>Native American</th>\n",
              "      <th>Not Informed</th>\n",
              "      <th>Other</th>\n",
              "      <th>White</th>\n",
              "    </tr>\n",
              "    <tr>\n",
              "      <th>gender</th>\n",
              "      <th></th>\n",
              "      <th></th>\n",
              "      <th></th>\n",
              "      <th></th>\n",
              "      <th></th>\n",
              "      <th></th>\n",
              "      <th></th>\n",
              "    </tr>\n",
              "  </thead>\n",
              "  <tbody>\n",
              "    <tr>\n",
              "      <th>Female</th>\n",
              "      <td>0.089734</td>\n",
              "      <td>0.843503</td>\n",
              "      <td>0.484566</td>\n",
              "      <td>0.089734</td>\n",
              "      <td>0.233309</td>\n",
              "      <td>0.071788</td>\n",
              "      <td>2.602297</td>\n",
              "    </tr>\n",
              "    <tr>\n",
              "      <th>Male</th>\n",
              "      <td>1.597272</td>\n",
              "      <td>22.756640</td>\n",
              "      <td>15.972721</td>\n",
              "      <td>1.310122</td>\n",
              "      <td>10.498923</td>\n",
              "      <td>0.789663</td>\n",
              "      <td>42.659727</td>\n",
              "    </tr>\n",
              "  </tbody>\n",
              "</table>\n",
              "</div>"
            ],
            "text/plain": [
              "race       Asian      Black   Hispanic  ...  Not Informed     Other      White\n",
              "gender                                  ...                                   \n",
              "Female  0.089734   0.843503   0.484566  ...      0.233309  0.071788   2.602297\n",
              "Male    1.597272  22.756640  15.972721  ...     10.498923  0.789663  42.659727\n",
              "\n",
              "[2 rows x 7 columns]"
            ]
          },
          "metadata": {
            "tags": []
          },
          "execution_count": 162
        }
      ]
    },
    {
      "cell_type": "code",
      "metadata": {
        "id": "nU5Q0RotIX-M",
        "colab_type": "code",
        "colab": {
          "base_uri": "https://localhost:8080/",
          "height": 142
        },
        "outputId": "39ad768f-5b4a-4198-884d-0daedd1d6103"
      },
      "source": [
        "percentual = pd.crosstab(Fatal_police.gender, \n",
        "                         Fatal_police.race, \n",
        "                         aggfunc = 'mean',\n",
        "                         values = Fatal_police.age)\n",
        "percentual.rename(index = sex, inplace = True)\n",
        "percentual.rename(columns = race, inplace = True)\n",
        "percentual"
      ],
      "execution_count": 163,
      "outputs": [
        {
          "output_type": "execute_result",
          "data": {
            "text/html": [
              "<div>\n",
              "<style scoped>\n",
              "    .dataframe tbody tr th:only-of-type {\n",
              "        vertical-align: middle;\n",
              "    }\n",
              "\n",
              "    .dataframe tbody tr th {\n",
              "        vertical-align: top;\n",
              "    }\n",
              "\n",
              "    .dataframe thead th {\n",
              "        text-align: right;\n",
              "    }\n",
              "</style>\n",
              "<table border=\"1\" class=\"dataframe\">\n",
              "  <thead>\n",
              "    <tr style=\"text-align: right;\">\n",
              "      <th>race</th>\n",
              "      <th>Asian</th>\n",
              "      <th>Black</th>\n",
              "      <th>Hispanic</th>\n",
              "      <th>Native American</th>\n",
              "      <th>Not Informed</th>\n",
              "      <th>Other</th>\n",
              "      <th>White</th>\n",
              "    </tr>\n",
              "    <tr>\n",
              "      <th>gender</th>\n",
              "      <th></th>\n",
              "      <th></th>\n",
              "      <th></th>\n",
              "      <th></th>\n",
              "      <th></th>\n",
              "      <th></th>\n",
              "      <th></th>\n",
              "    </tr>\n",
              "  </thead>\n",
              "  <tbody>\n",
              "    <tr>\n",
              "      <th>Female</th>\n",
              "      <td>38.000000</td>\n",
              "      <td>34.808511</td>\n",
              "      <td>31.148148</td>\n",
              "      <td>31.200000</td>\n",
              "      <td>38.777778</td>\n",
              "      <td>31.250000</td>\n",
              "      <td>39.486111</td>\n",
              "    </tr>\n",
              "    <tr>\n",
              "      <th>Male</th>\n",
              "      <td>36.482759</td>\n",
              "      <td>32.391479</td>\n",
              "      <td>33.591696</td>\n",
              "      <td>31.694444</td>\n",
              "      <td>43.766355</td>\n",
              "      <td>33.139535</td>\n",
              "      <td>39.973965</td>\n",
              "    </tr>\n",
              "  </tbody>\n",
              "</table>\n",
              "</div>"
            ],
            "text/plain": [
              "race        Asian      Black   Hispanic  ...  Not Informed      Other      White\n",
              "gender                                   ...                                    \n",
              "Female  38.000000  34.808511  31.148148  ...     38.777778  31.250000  39.486111\n",
              "Male    36.482759  32.391479  33.591696  ...     43.766355  33.139535  39.973965\n",
              "\n",
              "[2 rows x 7 columns]"
            ]
          },
          "metadata": {
            "tags": []
          },
          "execution_count": 163
        }
      ]
    },
    {
      "cell_type": "markdown",
      "metadata": {
        "id": "3OAkOrgWPmqn",
        "colab_type": "text"
      },
      "source": [
        "## Histogramas"
      ]
    },
    {
      "cell_type": "code",
      "metadata": {
        "id": "dyFpjXGdOdCi",
        "colab_type": "code",
        "colab": {
          "base_uri": "https://localhost:8080/",
          "height": 538
        },
        "outputId": "f4413fc7-342a-4f9c-c2cf-135d29b75478"
      },
      "source": [
        "ax = sns.distplot(Fatal_police.age, kde = False)\n",
        "\n",
        "ax.figure.set_size_inches(16, 8)\n",
        "ax.set_title('Distribuição de Frequências - Age', fontsize=18)\n",
        "ax.set_xlabel('Age', fontsize=14)\n",
        "ax"
      ],
      "execution_count": 164,
      "outputs": [
        {
          "output_type": "execute_result",
          "data": {
            "text/plain": [
              "<matplotlib.axes._subplots.AxesSubplot at 0x7fec6e1c62b0>"
            ]
          },
          "metadata": {
            "tags": []
          },
          "execution_count": 164
        },
        {
          "output_type": "display_data",
          "data": {
            "image/png": "[encoded data removed]",
            "text/plain": [
              "<Figure size 1152x576 with 1 Axes>"
            ]
          },
          "metadata": {
            "tags": []
          }
        }
      ]
    },
    {
      "cell_type": "code",
      "metadata": {
        "id": "nPAthv3TP6CZ",
        "colab_type": "code",
        "colab": {
          "base_uri": "https://localhost:8080/",
          "height": 538
        },
        "outputId": "010a7922-d2d0-4b95-a003-a2d13ed6021f"
      },
      "source": [
        "ax = sns.distplot(Fatal_police.age)\n",
        "\n",
        "\n",
        "ax.figure.set_size_inches(16, 8)\n",
        "ax.set_title('Distribuição de Frequências - Age - KDE', fontsize=18)\n",
        "ax.set_xlabel('Age', fontsize=14)\n",
        "ax"
      ],
      "execution_count": 165,
      "outputs": [
        {
          "output_type": "execute_result",
          "data": {
            "text/plain": [
              "<matplotlib.axes._subplots.AxesSubplot at 0x7fec6cbe7e80>"
            ]
          },
          "metadata": {
            "tags": []
          },
          "execution_count": 165
        },
        {
          "output_type": "display_data",
          "data": {
            "image/png": "[encoded data removed]",
            "text/plain": [
              "<Figure size 1152x576 with 1 Axes>"
            ]
          },
          "metadata": {
            "tags": []
          }
        }
      ]
    },
    {
      "cell_type": "code",
      "metadata": {
        "id": "qnRK4QudQPAG",
        "colab_type": "code",
        "colab": {
          "base_uri": "https://localhost:8080/",
          "height": 500
        },
        "outputId": "280a11df-78c4-44ab-ec9e-f3b854392081"
      },
      "source": [
        "Fatal_police.age.hist(bins = 50, figsize=(16, 8))"
      ],
      "execution_count": 166,
      "outputs": [
        {
          "output_type": "execute_result",
          "data": {
            "text/plain": [
              "<matplotlib.axes._subplots.AxesSubplot at 0x7fec6cb2e668>"
            ]
          },
          "metadata": {
            "tags": []
          },
          "execution_count": 166
        },
        {
          "output_type": "display_data",
          "data": {
            "image/png": "[encoded data removed]",
            "text/plain": [
              "<Figure size 1152x576 with 1 Axes>"
            ]
          },
          "metadata": {
            "tags": []
          }
        }
      ]
    },
    {
      "cell_type": "markdown",
      "metadata": {
        "id": "BHqgvbBcQxLE",
        "colab_type": "text"
      },
      "source": [
        "## Boxplot Seaborn"
      ]
    },
    {
      "cell_type": "code",
      "metadata": {
        "id": "wGPgyERFQdEQ",
        "colab_type": "code",
        "colab": {
          "base_uri": "https://localhost:8080/",
          "height": 534
        },
        "outputId": "aff36d4b-1b38-4916-bbe9-b4c4dba5be71"
      },
      "source": [
        "\n",
        "ax = sns.boxplot(x = 'age', data = Fatal_police, orient='h')\n",
        "ax.figure.set_size_inches(16, 8)\n",
        "ax.set_title('Age', fontsize=18)\n",
        "# ax.set_xlabel('Years', fontsize=14)\n",
        "ax"
      ],
      "execution_count": 167,
      "outputs": [
        {
          "output_type": "execute_result",
          "data": {
            "text/plain": [
              "<matplotlib.axes._subplots.AxesSubplot at 0x7fec6ca54a58>"
            ]
          },
          "metadata": {
            "tags": []
          },
          "execution_count": 167
        },
        {
          "output_type": "display_data",
          "data": {
            "image/png": "[encoded data removed]",
            "text/plain": [
              "<Figure size 1152x576 with 1 Axes>"
            ]
          },
          "metadata": {
            "tags": []
          }
        }
      ]
    },
    {
      "cell_type": "code",
      "metadata": {
        "id": "vKU5aIODRbV3",
        "colab_type": "code",
        "colab": {
          "base_uri": "https://localhost:8080/",
          "height": 534
        },
        "outputId": "60ca4a30-a80c-4b46-fe6e-8840b758ecc3"
      },
      "source": [
        "ax = sns.boxplot(x = 'age', y = 'gender', data = Fatal_police, orient = 'h')\n",
        "ax.figure.set_size_inches(16, 8)\n",
        "ax.set_title('Age', fontsize=18)\n",
        "# ax.set_xlabel('years', fontsize=14)\n",
        "ax"
      ],
      "execution_count": 168,
      "outputs": [
        {
          "output_type": "execute_result",
          "data": {
            "text/plain": [
              "<matplotlib.axes._subplots.AxesSubplot at 0x7fec6c9fbba8>"
            ]
          },
          "metadata": {
            "tags": []
          },
          "execution_count": 168
        },
        {
          "output_type": "display_data",
          "data": {
            "image/png": "[encoded data removed]",
            "text/plain": [
              "<Figure size 1152x576 with 1 Axes>"
            ]
          },
          "metadata": {
            "tags": []
          }
        }
      ]
    },
    {
      "cell_type": "markdown",
      "metadata": {
        "id": "QkiNA5cgDUot",
        "colab_type": "text"
      },
      "source": [
        "# **BoxPlots per The most 4 fatal states**"
      ]
    },
    {
      "cell_type": "code",
      "metadata": {
        "id": "UBzcUy5fUNaN",
        "colab_type": "code",
        "colab": {
          "base_uri": "https://localhost:8080/",
          "height": 520
        },
        "outputId": "0575abde-4655-41c7-ca1e-97719228c1e5"
      },
      "source": [
        "ax = sns.boxplot(x = 'age', y = 'gender', data = Fatal_police.query('state == \"CA\"'), orient = 'h')\n",
        "ax.figure.set_size_inches(16, 8)\n",
        "ax.set_title('California State BoxPlot - Age per Gender', fontsize=18)\n",
        "ax.set_xlabel('', fontsize=14)\n",
        "ax.set_ylabel('Gender', fontsize=14)\n",
        "ax"
      ],
      "execution_count": 169,
      "outputs": [
        {
          "output_type": "execute_result",
          "data": {
            "text/plain": [
              "<matplotlib.axes._subplots.AxesSubplot at 0x7fec6c9f4160>"
            ]
          },
          "metadata": {
            "tags": []
          },
          "execution_count": 169
        },
        {
          "output_type": "display_data",
          "data": {
            "image/png": "[encoded data removed]",
            "text/plain": [
              "<Figure size 1152x576 with 1 Axes>"
            ]
          },
          "metadata": {
            "tags": []
          }
        }
      ]
    },
    {
      "cell_type": "code",
      "metadata": {
        "id": "3vNwwJk6yTKw",
        "colab_type": "code",
        "colab": {
          "base_uri": "https://localhost:8080/",
          "height": 520
        },
        "outputId": "8986a72b-0563-45b6-a800-538b2d94065b"
      },
      "source": [
        "ax = sns.boxplot(x = 'age', y = 'gender', data = Fatal_police.query('state == \"TX\"'), orient = 'h')\n",
        "ax.figure.set_size_inches(16, 8)\n",
        "ax.set_title('Texas State BoxPlot - Age per Gender', fontsize=18)\n",
        "ax.set_xlabel('', fontsize=14)\n",
        "ax.set_ylabel('Gender', fontsize=14)\n",
        "ax"
      ],
      "execution_count": 170,
      "outputs": [
        {
          "output_type": "execute_result",
          "data": {
            "text/plain": [
              "<matplotlib.axes._subplots.AxesSubplot at 0x7fec6c8d3fd0>"
            ]
          },
          "metadata": {
            "tags": []
          },
          "execution_count": 170
        },
        {
          "output_type": "display_data",
          "data": {
            "image/png": "[encoded data removed]",
            "text/plain": [
              "<Figure size 1152x576 with 1 Axes>"
            ]
          },
          "metadata": {
            "tags": []
          }
        }
      ]
    },
    {
      "cell_type": "code",
      "metadata": {
        "id": "ANwUdXpRy2Fe",
        "colab_type": "code",
        "colab": {
          "base_uri": "https://localhost:8080/",
          "height": 520
        },
        "outputId": "eb0d5825-8aec-4efc-9fdf-99ba99822f7e"
      },
      "source": [
        "ax = sns.boxplot(x = 'age', y = 'gender', data = Fatal_police.query('state == \"FL\"'), orient = 'h')\n",
        "ax.figure.set_size_inches(16, 8)\n",
        "ax.set_title('Florida State BoxPlot - Age per Gender', fontsize=18)\n",
        "ax.set_xlabel('', fontsize=14)\n",
        "ax.set_ylabel('Gender', fontsize=14)\n",
        "ax"
      ],
      "execution_count": 171,
      "outputs": [
        {
          "output_type": "execute_result",
          "data": {
            "text/plain": [
              "<matplotlib.axes._subplots.AxesSubplot at 0x7fec6c858898>"
            ]
          },
          "metadata": {
            "tags": []
          },
          "execution_count": 171
        },
        {
          "output_type": "display_data",
          "data": {
            "image/png": "[encoded data removed]",
            "text/plain": [
              "<Figure size 1152x576 with 1 Axes>"
            ]
          },
          "metadata": {
            "tags": []
          }
        }
      ]
    },
    {
      "cell_type": "code",
      "metadata": {
        "id": "Whh0_DEFDIMj",
        "colab_type": "code",
        "colab": {
          "base_uri": "https://localhost:8080/",
          "height": 520
        },
        "outputId": "091c6b9f-ffc9-4c84-e72e-b1cf45123d9e"
      },
      "source": [
        "ax = sns.boxplot(x = 'age', y = 'gender', data = Fatal_police.query('state == \"AZ\"'), orient = 'h')\n",
        "ax.figure.set_size_inches(16, 8)\n",
        "ax.set_title('Arizona State BoxPlot - Age per Gender', fontsize=18)\n",
        "ax.set_xlabel('', fontsize=14)\n",
        "ax.set_ylabel('Gender', fontsize=14)\n",
        "ax"
      ],
      "execution_count": 172,
      "outputs": [
        {
          "output_type": "execute_result",
          "data": {
            "text/plain": [
              "<matplotlib.axes._subplots.AxesSubplot at 0x7fec6c832278>"
            ]
          },
          "metadata": {
            "tags": []
          },
          "execution_count": 172
        },
        {
          "output_type": "display_data",
          "data": {
            "image/png": "[encoded data removed]",
            "text/plain": [
              "<Figure size 1152x576 with 1 Axes>"
            ]
          },
          "metadata": {
            "tags": []
          }
        }
      ]
    },
    {
      "cell_type": "code",
      "metadata": {
        "id": "3SbzG8NdzZ4K",
        "colab_type": "code",
        "colab": {
          "base_uri": "https://localhost:8080/",
          "height": 519
        },
        "outputId": "ebcab58d-e22f-4931-8e29-cde9986e52ac"
      },
      "source": [
        "# Estados com maior numeros de tiros pela policia\n",
        "ax = sns.boxplot(x = 'age', y = 'state', data = Fatal_police.query('state in [\"CA\",\"TX\",\"FL\",\"AZ\"]'), orient = 'h')\n",
        "\n",
        "ax.figure.set_size_inches(16, 8)    # Personalizando o tamanho da figura\n",
        "\n",
        "ax.set_title('Age per the most Fatal States', fontsize=18)    # Configurando o título do gráfico\n",
        "\n",
        "ax.set_xlabel('', fontsize=14)    # Configurando o label do eixo X\n",
        "\n",
        "ax.set_ylabel('State', fontsize=14)    # Configurando o label do eixo Y\n",
        "# ax.set_yticklabels([key for key in uf.values()], fontsize=12)    # Configurando o label de cada categoria do eixo Y\n",
        "\n",
        "ax\n"
      ],
      "execution_count": 173,
      "outputs": [
        {
          "output_type": "execute_result",
          "data": {
            "text/plain": [
              "<matplotlib.axes._subplots.AxesSubplot at 0x7fec6c7b9e48>"
            ]
          },
          "metadata": {
            "tags": []
          },
          "execution_count": 173
        },
        {
          "output_type": "display_data",
          "data": {
            "image/png": "[encoded data removed]",
            "text/plain": [
              "<Figure size 1152x576 with 1 Axes>"
            ]
          },
          "metadata": {
            "tags": []
          }
        }
      ]
    },
    {
      "cell_type": "code",
      "metadata": {
        "id": "vf6K6fLN1PiW",
        "colab_type": "code",
        "colab": {
          "base_uri": "https://localhost:8080/",
          "height": 520
        },
        "outputId": "2593043d-af37-448c-c73c-228c0d31f146"
      },
      "source": [
        "# ax = sns.boxplot(x = 'age', y = 'race', hue = 'gender', data=Fatal_police.query('state == \"CA\"'), orient='h')\n",
        "ax = sns.boxplot(x = 'age', y = 'race', hue = 'gender', data=Fatal_police, orient='h')\n",
        "\n",
        "ax.figure.set_size_inches(14, 8)    # Personalizando o tamanho da figura\n",
        "\n",
        "# ax.set_title('Box-plot da RENDA por SEXO e COR', fontsize=18)    # Configurando o título do gráfico\n",
        "ax.set_title('Age per race and gender BoxPlot', fontsize=18)    # Configurando o título do gráfico\n",
        "\n",
        "ax.set_xlabel('', fontsize=14)    # Configurando o label do eixo X\n",
        "\n",
        "ax.set_ylabel('Race', fontsize=14)    # Configurando o label do eixo Y\n",
        "\n",
        "# ax.set_yticklabels(['Asian', 'White', 'Hispanic', 'Black', 'Other', 'Não Informada', 'Native American'], fontsize=10)    \n",
        "# Configurando o label de cada categoria do eixo Y\n",
        "\n",
        "# Configurações da legenda do gráfico (Sexo)\n",
        "handles, _ = ax.get_legend_handles_labels()\n",
        "ax.legend(handles, ['Male', 'Female'], fontsize=12)\n",
        "\n",
        "ax"
      ],
      "execution_count": 174,
      "outputs": [
        {
          "output_type": "execute_result",
          "data": {
            "text/plain": [
              "<matplotlib.axes._subplots.AxesSubplot at 0x7fec6c711390>"
            ]
          },
          "metadata": {
            "tags": []
          },
          "execution_count": 174
        },
        {
          "output_type": "display_data",
          "data": {
            "image/png": "[encoded data removed]",
            "text/plain": [
              "<Figure size 1008x576 with 1 Axes>"
            ]
          },
          "metadata": {
            "tags": []
          }
        }
      ]
    },
    {
      "cell_type": "code",
      "metadata": {
        "id": "J6GiDOkE310I",
        "colab_type": "code",
        "colab": {
          "base_uri": "https://localhost:8080/",
          "height": 520
        },
        "outputId": "59ca4e45-8a9c-4619-b776-177b1bb5d3f6"
      },
      "source": [
        "ax = sns.boxplot(x = 'age', y = 'gender', data = Fatal_police.query('race == \"N\"'), orient = 'h')\n",
        "ax.figure.set_size_inches(14, 8)\n",
        "ax.set_title('Age', fontsize=18)\n",
        "ax.set_xlabel('', fontsize=14)\n",
        "ax"
      ],
      "execution_count": 175,
      "outputs": [
        {
          "output_type": "execute_result",
          "data": {
            "text/plain": [
              "<matplotlib.axes._subplots.AxesSubplot at 0x7fec6c58acf8>"
            ]
          },
          "metadata": {
            "tags": []
          },
          "execution_count": 175
        },
        {
          "output_type": "display_data",
          "data": {
            "image/png": "[encoded data removed]",
            "text/plain": [
              "<Figure size 1008x576 with 1 Axes>"
            ]
          },
          "metadata": {
            "tags": []
          }
        }
      ]
    },
    {
      "cell_type": "code",
      "metadata": {
        "id": "Yin4iqTu1PN-",
        "colab_type": "code",
        "colab": {
          "base_uri": "https://localhost:8080/",
          "height": 538
        },
        "outputId": "aa7bdae8-d9e5-4976-9dc5-56deb11520d4"
      },
      "source": [
        "ax = sns.boxplot(x = 'age', y = 'state', hue = 'race', data=Fatal_police.query('state == \"CA\"'), orient='h')\n",
        "\n",
        "ax.figure.set_size_inches(14, 8)    # Personalizando o tamanho da figura\n",
        "\n",
        "# ax.set_title('Box-plot da RENDA por SEXO e COR', fontsize=18)    # Configurando o título do gráfico\n",
        "ax.set_title('Age per race and gender BoxPlot', fontsize=18)    # Configurando o título do gráfico\n",
        "\n",
        "ax.set_xlabel('Age', fontsize=14)    # Configurando o label do eixo X\n",
        "\n",
        "ax.set_ylabel('State', fontsize=14)    # Configurando o label do eixo Y\n",
        "\n",
        "# ax.set_yticklabels(['Asian', 'White', 'Hispanic', 'Black', 'Other', 'Não Informada', 'Native American'], fontsize=10)    \n",
        "# Configurando o label de cada categoria do eixo Y\n",
        "\n",
        "# Configurações da legenda do gráfico (Sexo)\n",
        "handles, _ = ax.get_legend_handles_labels()\n",
        "ax.legend(handles, ['White', 'Hispanic','Other', 'Asian','Black', 'Not Informed','Native American'], fontsize=12)\n",
        "\n",
        "ax"
      ],
      "execution_count": 176,
      "outputs": [
        {
          "output_type": "execute_result",
          "data": {
            "text/plain": [
              "<matplotlib.axes._subplots.AxesSubplot at 0x7fec6c51ff98>"
            ]
          },
          "metadata": {
            "tags": []
          },
          "execution_count": 176
        },
        {
          "output_type": "display_data",
          "data": {
            "image/png": "[encoded data removed]",
            "text/plain": [
              "<Figure size 1008x576 with 1 Axes>"
            ]
          },
          "metadata": {
            "tags": []
          }
        }
      ]
    },
    {
      "cell_type": "code",
      "metadata": {
        "id": "skI-GFad2GER",
        "colab_type": "code",
        "colab": {
          "base_uri": "https://localhost:8080/",
          "height": 1000
        },
        "outputId": "281a53ac-a9fa-4b67-d624-bad9021603f6"
      },
      "source": [
        "# Media, Mediana, Minimo, Maximo por estado\n",
        "qw = pd.crosstab(Fatal_police.state, \n",
        "                 Fatal_police.gender,                                 \n",
        "                 aggfunc = {'mean', 'median', 'max','min'},\n",
        "                 values = Fatal_police.age).round(2)\n",
        "qw.rename(index = states_names, inplace = True)\n",
        "qw.rename(columns = sex, inplace = True)\n",
        "qw"
      ],
      "execution_count": 177,
      "outputs": [
        {
          "output_type": "execute_result",
          "data": {
            "text/html": [
              "<div>\n",
              "<style scoped>\n",
              "    .dataframe tbody tr th:only-of-type {\n",
              "        vertical-align: middle;\n",
              "    }\n",
              "\n",
              "    .dataframe tbody tr th {\n",
              "        vertical-align: top;\n",
              "    }\n",
              "\n",
              "    .dataframe thead tr th {\n",
              "        text-align: left;\n",
              "    }\n",
              "\n",
              "    .dataframe thead tr:last-of-type th {\n",
              "        text-align: right;\n",
              "    }\n",
              "</style>\n",
              "<table border=\"1\" class=\"dataframe\">\n",
              "  <thead>\n",
              "    <tr>\n",
              "      <th></th>\n",
              "      <th colspan=\"2\" halign=\"left\">max</th>\n",
              "      <th colspan=\"2\" halign=\"left\">mean</th>\n",
              "      <th colspan=\"2\" halign=\"left\">median</th>\n",
              "      <th colspan=\"2\" halign=\"left\">min</th>\n",
              "    </tr>\n",
              "    <tr>\n",
              "      <th>gender</th>\n",
              "      <th>Female</th>\n",
              "      <th>Male</th>\n",
              "      <th>Female</th>\n",
              "      <th>Male</th>\n",
              "      <th>Female</th>\n",
              "      <th>Male</th>\n",
              "      <th>Female</th>\n",
              "      <th>Male</th>\n",
              "    </tr>\n",
              "    <tr>\n",
              "      <th>state</th>\n",
              "      <th></th>\n",
              "      <th></th>\n",
              "      <th></th>\n",
              "      <th></th>\n",
              "      <th></th>\n",
              "      <th></th>\n",
              "      <th></th>\n",
              "      <th></th>\n",
              "    </tr>\n",
              "  </thead>\n",
              "  <tbody>\n",
              "    <tr>\n",
              "      <th>Alaska</th>\n",
              "      <td>38.0</td>\n",
              "      <td>59.0</td>\n",
              "      <td>35.00</td>\n",
              "      <td>33.38</td>\n",
              "      <td>35.0</td>\n",
              "      <td>33.0</td>\n",
              "      <td>32.0</td>\n",
              "      <td>16.0</td>\n",
              "    </tr>\n",
              "    <tr>\n",
              "      <th>Alabama</th>\n",
              "      <td>41.0</td>\n",
              "      <td>77.0</td>\n",
              "      <td>36.71</td>\n",
              "      <td>40.89</td>\n",
              "      <td>36.0</td>\n",
              "      <td>38.0</td>\n",
              "      <td>32.0</td>\n",
              "      <td>16.0</td>\n",
              "    </tr>\n",
              "    <tr>\n",
              "      <th>Arkansas</th>\n",
              "      <td>NaN</td>\n",
              "      <td>83.0</td>\n",
              "      <td>NaN</td>\n",
              "      <td>39.95</td>\n",
              "      <td>NaN</td>\n",
              "      <td>37.0</td>\n",
              "      <td>NaN</td>\n",
              "      <td>16.0</td>\n",
              "    </tr>\n",
              "    <tr>\n",
              "      <th>Arizona</th>\n",
              "      <td>49.0</td>\n",
              "      <td>89.0</td>\n",
              "      <td>34.44</td>\n",
              "      <td>36.80</td>\n",
              "      <td>34.5</td>\n",
              "      <td>34.0</td>\n",
              "      <td>17.0</td>\n",
              "      <td>14.0</td>\n",
              "    </tr>\n",
              "    <tr>\n",
              "      <th>California</th>\n",
              "      <td>62.0</td>\n",
              "      <td>86.0</td>\n",
              "      <td>35.39</td>\n",
              "      <td>35.17</td>\n",
              "      <td>33.0</td>\n",
              "      <td>33.0</td>\n",
              "      <td>16.0</td>\n",
              "      <td>14.0</td>\n",
              "    </tr>\n",
              "    <tr>\n",
              "      <th>Colorado</th>\n",
              "      <td>59.0</td>\n",
              "      <td>72.0</td>\n",
              "      <td>35.20</td>\n",
              "      <td>35.86</td>\n",
              "      <td>32.0</td>\n",
              "      <td>34.0</td>\n",
              "      <td>17.0</td>\n",
              "      <td>17.0</td>\n",
              "    </tr>\n",
              "    <tr>\n",
              "      <th>Connecticut</th>\n",
              "      <td>NaN</td>\n",
              "      <td>62.0</td>\n",
              "      <td>NaN</td>\n",
              "      <td>36.29</td>\n",
              "      <td>NaN</td>\n",
              "      <td>31.0</td>\n",
              "      <td>NaN</td>\n",
              "      <td>16.0</td>\n",
              "    </tr>\n",
              "    <tr>\n",
              "      <th>DC</th>\n",
              "      <td>41.0</td>\n",
              "      <td>63.0</td>\n",
              "      <td>31.00</td>\n",
              "      <td>39.36</td>\n",
              "      <td>31.0</td>\n",
              "      <td>35.0</td>\n",
              "      <td>21.0</td>\n",
              "      <td>21.0</td>\n",
              "    </tr>\n",
              "    <tr>\n",
              "      <th>Delaware</th>\n",
              "      <td>NaN</td>\n",
              "      <td>60.0</td>\n",
              "      <td>NaN</td>\n",
              "      <td>33.00</td>\n",
              "      <td>NaN</td>\n",
              "      <td>28.0</td>\n",
              "      <td>NaN</td>\n",
              "      <td>16.0</td>\n",
              "    </tr>\n",
              "    <tr>\n",
              "      <th>Florida</th>\n",
              "      <td>63.0</td>\n",
              "      <td>84.0</td>\n",
              "      <td>40.38</td>\n",
              "      <td>38.91</td>\n",
              "      <td>42.0</td>\n",
              "      <td>37.0</td>\n",
              "      <td>20.0</td>\n",
              "      <td>15.0</td>\n",
              "    </tr>\n",
              "    <tr>\n",
              "      <th>Georgia</th>\n",
              "      <td>60.0</td>\n",
              "      <td>75.0</td>\n",
              "      <td>39.69</td>\n",
              "      <td>37.78</td>\n",
              "      <td>36.0</td>\n",
              "      <td>35.0</td>\n",
              "      <td>20.0</td>\n",
              "      <td>17.0</td>\n",
              "    </tr>\n",
              "    <tr>\n",
              "      <th>Hawaii</th>\n",
              "      <td>30.0</td>\n",
              "      <td>61.0</td>\n",
              "      <td>28.00</td>\n",
              "      <td>38.93</td>\n",
              "      <td>28.0</td>\n",
              "      <td>36.0</td>\n",
              "      <td>26.0</td>\n",
              "      <td>20.0</td>\n",
              "    </tr>\n",
              "    <tr>\n",
              "      <th>Iowa</th>\n",
              "      <td>39.0</td>\n",
              "      <td>53.0</td>\n",
              "      <td>34.00</td>\n",
              "      <td>31.41</td>\n",
              "      <td>34.0</td>\n",
              "      <td>29.0</td>\n",
              "      <td>29.0</td>\n",
              "      <td>19.0</td>\n",
              "    </tr>\n",
              "    <tr>\n",
              "      <th>Idaho</th>\n",
              "      <td>53.0</td>\n",
              "      <td>62.0</td>\n",
              "      <td>43.00</td>\n",
              "      <td>40.97</td>\n",
              "      <td>43.0</td>\n",
              "      <td>39.5</td>\n",
              "      <td>33.0</td>\n",
              "      <td>23.0</td>\n",
              "    </tr>\n",
              "    <tr>\n",
              "      <th>Illinois</th>\n",
              "      <td>55.0</td>\n",
              "      <td>63.0</td>\n",
              "      <td>43.75</td>\n",
              "      <td>32.25</td>\n",
              "      <td>44.5</td>\n",
              "      <td>32.0</td>\n",
              "      <td>31.0</td>\n",
              "      <td>16.0</td>\n",
              "    </tr>\n",
              "    <tr>\n",
              "      <th>Indiana</th>\n",
              "      <td>49.0</td>\n",
              "      <td>69.0</td>\n",
              "      <td>33.00</td>\n",
              "      <td>39.11</td>\n",
              "      <td>33.0</td>\n",
              "      <td>36.0</td>\n",
              "      <td>17.0</td>\n",
              "      <td>15.0</td>\n",
              "    </tr>\n",
              "    <tr>\n",
              "      <th>Kansas</th>\n",
              "      <td>53.0</td>\n",
              "      <td>65.0</td>\n",
              "      <td>43.33</td>\n",
              "      <td>36.04</td>\n",
              "      <td>51.0</td>\n",
              "      <td>33.0</td>\n",
              "      <td>26.0</td>\n",
              "      <td>17.0</td>\n",
              "    </tr>\n",
              "    <tr>\n",
              "      <th>Kentucky</th>\n",
              "      <td>35.0</td>\n",
              "      <td>75.0</td>\n",
              "      <td>28.75</td>\n",
              "      <td>40.20</td>\n",
              "      <td>28.5</td>\n",
              "      <td>38.0</td>\n",
              "      <td>23.0</td>\n",
              "      <td>18.0</td>\n",
              "    </tr>\n",
              "    <tr>\n",
              "      <th>Louisiana</th>\n",
              "      <td>71.0</td>\n",
              "      <td>66.0</td>\n",
              "      <td>58.00</td>\n",
              "      <td>36.07</td>\n",
              "      <td>58.0</td>\n",
              "      <td>34.5</td>\n",
              "      <td>45.0</td>\n",
              "      <td>6.0</td>\n",
              "    </tr>\n",
              "    <tr>\n",
              "      <th>Massachusetts</th>\n",
              "      <td>NaN</td>\n",
              "      <td>59.0</td>\n",
              "      <td>NaN</td>\n",
              "      <td>37.76</td>\n",
              "      <td>NaN</td>\n",
              "      <td>39.0</td>\n",
              "      <td>NaN</td>\n",
              "      <td>19.0</td>\n",
              "    </tr>\n",
              "    <tr>\n",
              "      <th>Maryland</th>\n",
              "      <td>45.0</td>\n",
              "      <td>76.0</td>\n",
              "      <td>30.00</td>\n",
              "      <td>35.76</td>\n",
              "      <td>26.0</td>\n",
              "      <td>33.0</td>\n",
              "      <td>23.0</td>\n",
              "      <td>16.0</td>\n",
              "    </tr>\n",
              "    <tr>\n",
              "      <th>Maine</th>\n",
              "      <td>18.0</td>\n",
              "      <td>65.0</td>\n",
              "      <td>18.00</td>\n",
              "      <td>41.14</td>\n",
              "      <td>18.0</td>\n",
              "      <td>37.0</td>\n",
              "      <td>18.0</td>\n",
              "      <td>16.0</td>\n",
              "    </tr>\n",
              "    <tr>\n",
              "      <th>Michigan</th>\n",
              "      <td>36.0</td>\n",
              "      <td>73.0</td>\n",
              "      <td>33.50</td>\n",
              "      <td>37.23</td>\n",
              "      <td>33.5</td>\n",
              "      <td>37.0</td>\n",
              "      <td>31.0</td>\n",
              "      <td>16.0</td>\n",
              "    </tr>\n",
              "    <tr>\n",
              "      <th>Minnesota</th>\n",
              "      <td>50.0</td>\n",
              "      <td>68.0</td>\n",
              "      <td>45.00</td>\n",
              "      <td>34.87</td>\n",
              "      <td>45.0</td>\n",
              "      <td>32.0</td>\n",
              "      <td>40.0</td>\n",
              "      <td>16.0</td>\n",
              "    </tr>\n",
              "    <tr>\n",
              "      <th>Missouri</th>\n",
              "      <td>61.0</td>\n",
              "      <td>70.0</td>\n",
              "      <td>33.90</td>\n",
              "      <td>36.02</td>\n",
              "      <td>29.0</td>\n",
              "      <td>33.0</td>\n",
              "      <td>21.0</td>\n",
              "      <td>15.0</td>\n",
              "    </tr>\n",
              "    <tr>\n",
              "      <th>Mississippi</th>\n",
              "      <td>24.0</td>\n",
              "      <td>76.0</td>\n",
              "      <td>22.50</td>\n",
              "      <td>38.09</td>\n",
              "      <td>22.5</td>\n",
              "      <td>36.0</td>\n",
              "      <td>21.0</td>\n",
              "      <td>15.0</td>\n",
              "    </tr>\n",
              "    <tr>\n",
              "      <th>Montana</th>\n",
              "      <td>49.0</td>\n",
              "      <td>59.0</td>\n",
              "      <td>49.00</td>\n",
              "      <td>36.65</td>\n",
              "      <td>49.0</td>\n",
              "      <td>36.0</td>\n",
              "      <td>49.0</td>\n",
              "      <td>19.0</td>\n",
              "    </tr>\n",
              "    <tr>\n",
              "      <th>North Carolina</th>\n",
              "      <td>60.0</td>\n",
              "      <td>83.0</td>\n",
              "      <td>43.60</td>\n",
              "      <td>39.53</td>\n",
              "      <td>45.0</td>\n",
              "      <td>37.0</td>\n",
              "      <td>20.0</td>\n",
              "      <td>18.0</td>\n",
              "    </tr>\n",
              "    <tr>\n",
              "      <th>North Dakota</th>\n",
              "      <td>NaN</td>\n",
              "      <td>42.0</td>\n",
              "      <td>NaN</td>\n",
              "      <td>31.00</td>\n",
              "      <td>NaN</td>\n",
              "      <td>30.0</td>\n",
              "      <td>NaN</td>\n",
              "      <td>24.0</td>\n",
              "    </tr>\n",
              "    <tr>\n",
              "      <th>Nebraska</th>\n",
              "      <td>39.0</td>\n",
              "      <td>66.0</td>\n",
              "      <td>39.00</td>\n",
              "      <td>36.96</td>\n",
              "      <td>39.0</td>\n",
              "      <td>33.0</td>\n",
              "      <td>39.0</td>\n",
              "      <td>22.0</td>\n",
              "    </tr>\n",
              "    <tr>\n",
              "      <th>New Hampshire</th>\n",
              "      <td>NaN</td>\n",
              "      <td>62.0</td>\n",
              "      <td>NaN</td>\n",
              "      <td>38.54</td>\n",
              "      <td>NaN</td>\n",
              "      <td>40.0</td>\n",
              "      <td>NaN</td>\n",
              "      <td>19.0</td>\n",
              "    </tr>\n",
              "    <tr>\n",
              "      <th>New Jersey</th>\n",
              "      <td>50.0</td>\n",
              "      <td>75.0</td>\n",
              "      <td>43.00</td>\n",
              "      <td>37.28</td>\n",
              "      <td>43.0</td>\n",
              "      <td>36.0</td>\n",
              "      <td>36.0</td>\n",
              "      <td>18.0</td>\n",
              "    </tr>\n",
              "    <tr>\n",
              "      <th>New Mexico</th>\n",
              "      <td>47.0</td>\n",
              "      <td>81.0</td>\n",
              "      <td>33.50</td>\n",
              "      <td>36.62</td>\n",
              "      <td>32.5</td>\n",
              "      <td>34.0</td>\n",
              "      <td>24.0</td>\n",
              "      <td>16.0</td>\n",
              "    </tr>\n",
              "    <tr>\n",
              "      <th>Nevada</th>\n",
              "      <td>50.0</td>\n",
              "      <td>77.0</td>\n",
              "      <td>45.00</td>\n",
              "      <td>38.05</td>\n",
              "      <td>48.0</td>\n",
              "      <td>36.0</td>\n",
              "      <td>37.0</td>\n",
              "      <td>18.0</td>\n",
              "    </tr>\n",
              "    <tr>\n",
              "      <th>New York</th>\n",
              "      <td>66.0</td>\n",
              "      <td>81.0</td>\n",
              "      <td>50.00</td>\n",
              "      <td>39.06</td>\n",
              "      <td>51.0</td>\n",
              "      <td>36.0</td>\n",
              "      <td>32.0</td>\n",
              "      <td>17.0</td>\n",
              "    </tr>\n",
              "    <tr>\n",
              "      <th>Ohio</th>\n",
              "      <td>36.0</td>\n",
              "      <td>76.0</td>\n",
              "      <td>28.67</td>\n",
              "      <td>36.89</td>\n",
              "      <td>28.0</td>\n",
              "      <td>34.0</td>\n",
              "      <td>22.0</td>\n",
              "      <td>13.0</td>\n",
              "    </tr>\n",
              "    <tr>\n",
              "      <th>Oklahoma</th>\n",
              "      <td>72.0</td>\n",
              "      <td>83.0</td>\n",
              "      <td>48.33</td>\n",
              "      <td>37.89</td>\n",
              "      <td>39.0</td>\n",
              "      <td>36.5</td>\n",
              "      <td>34.0</td>\n",
              "      <td>16.0</td>\n",
              "    </tr>\n",
              "    <tr>\n",
              "      <th>Oregon</th>\n",
              "      <td>55.0</td>\n",
              "      <td>77.0</td>\n",
              "      <td>44.00</td>\n",
              "      <td>39.87</td>\n",
              "      <td>44.0</td>\n",
              "      <td>38.0</td>\n",
              "      <td>33.0</td>\n",
              "      <td>17.0</td>\n",
              "    </tr>\n",
              "    <tr>\n",
              "      <th>Pennsylvania</th>\n",
              "      <td>47.0</td>\n",
              "      <td>91.0</td>\n",
              "      <td>33.67</td>\n",
              "      <td>37.64</td>\n",
              "      <td>42.0</td>\n",
              "      <td>33.0</td>\n",
              "      <td>12.0</td>\n",
              "      <td>16.0</td>\n",
              "    </tr>\n",
              "    <tr>\n",
              "      <th>Rhode Island</th>\n",
              "      <td>NaN</td>\n",
              "      <td>80.0</td>\n",
              "      <td>NaN</td>\n",
              "      <td>41.00</td>\n",
              "      <td>NaN</td>\n",
              "      <td>30.0</td>\n",
              "      <td>NaN</td>\n",
              "      <td>24.0</td>\n",
              "    </tr>\n",
              "    <tr>\n",
              "      <th>South Carolina</th>\n",
              "      <td>47.0</td>\n",
              "      <td>81.0</td>\n",
              "      <td>39.50</td>\n",
              "      <td>39.85</td>\n",
              "      <td>38.5</td>\n",
              "      <td>36.0</td>\n",
              "      <td>34.0</td>\n",
              "      <td>17.0</td>\n",
              "    </tr>\n",
              "    <tr>\n",
              "      <th>South Dakota</th>\n",
              "      <td>NaN</td>\n",
              "      <td>53.0</td>\n",
              "      <td>NaN</td>\n",
              "      <td>35.44</td>\n",
              "      <td>NaN</td>\n",
              "      <td>34.5</td>\n",
              "      <td>NaN</td>\n",
              "      <td>19.0</td>\n",
              "    </tr>\n",
              "    <tr>\n",
              "      <th>Tennessee</th>\n",
              "      <td>59.0</td>\n",
              "      <td>86.0</td>\n",
              "      <td>39.57</td>\n",
              "      <td>39.51</td>\n",
              "      <td>39.0</td>\n",
              "      <td>36.0</td>\n",
              "      <td>23.0</td>\n",
              "      <td>18.0</td>\n",
              "    </tr>\n",
              "    <tr>\n",
              "      <th>Texas</th>\n",
              "      <td>84.0</td>\n",
              "      <td>76.0</td>\n",
              "      <td>38.48</td>\n",
              "      <td>35.61</td>\n",
              "      <td>38.0</td>\n",
              "      <td>34.0</td>\n",
              "      <td>17.0</td>\n",
              "      <td>6.0</td>\n",
              "    </tr>\n",
              "    <tr>\n",
              "      <th>Utah</th>\n",
              "      <td>NaN</td>\n",
              "      <td>64.0</td>\n",
              "      <td>NaN</td>\n",
              "      <td>34.21</td>\n",
              "      <td>NaN</td>\n",
              "      <td>32.5</td>\n",
              "      <td>NaN</td>\n",
              "      <td>17.0</td>\n",
              "    </tr>\n",
              "    <tr>\n",
              "      <th>Virginia</th>\n",
              "      <td>57.0</td>\n",
              "      <td>71.0</td>\n",
              "      <td>36.67</td>\n",
              "      <td>36.70</td>\n",
              "      <td>29.5</td>\n",
              "      <td>33.5</td>\n",
              "      <td>25.0</td>\n",
              "      <td>15.0</td>\n",
              "    </tr>\n",
              "    <tr>\n",
              "      <th>Vermont</th>\n",
              "      <td>NaN</td>\n",
              "      <td>76.0</td>\n",
              "      <td>NaN</td>\n",
              "      <td>44.67</td>\n",
              "      <td>NaN</td>\n",
              "      <td>39.0</td>\n",
              "      <td>NaN</td>\n",
              "      <td>29.0</td>\n",
              "    </tr>\n",
              "    <tr>\n",
              "      <th>Washington</th>\n",
              "      <td>38.0</td>\n",
              "      <td>69.0</td>\n",
              "      <td>31.00</td>\n",
              "      <td>37.07</td>\n",
              "      <td>32.0</td>\n",
              "      <td>36.0</td>\n",
              "      <td>23.0</td>\n",
              "      <td>16.0</td>\n",
              "    </tr>\n",
              "    <tr>\n",
              "      <th>Wisconsin</th>\n",
              "      <td>25.0</td>\n",
              "      <td>77.0</td>\n",
              "      <td>25.00</td>\n",
              "      <td>37.21</td>\n",
              "      <td>25.0</td>\n",
              "      <td>35.0</td>\n",
              "      <td>25.0</td>\n",
              "      <td>14.0</td>\n",
              "    </tr>\n",
              "    <tr>\n",
              "      <th>West Virginia</th>\n",
              "      <td>49.0</td>\n",
              "      <td>82.0</td>\n",
              "      <td>47.00</td>\n",
              "      <td>42.67</td>\n",
              "      <td>47.0</td>\n",
              "      <td>41.0</td>\n",
              "      <td>45.0</td>\n",
              "      <td>21.0</td>\n",
              "    </tr>\n",
              "    <tr>\n",
              "      <th>Wyoming</th>\n",
              "      <td>39.0</td>\n",
              "      <td>58.0</td>\n",
              "      <td>39.00</td>\n",
              "      <td>39.92</td>\n",
              "      <td>39.0</td>\n",
              "      <td>39.0</td>\n",
              "      <td>39.0</td>\n",
              "      <td>21.0</td>\n",
              "    </tr>\n",
              "  </tbody>\n",
              "</table>\n",
              "</div>"
            ],
            "text/plain": [
              "                  max         mean        median          min      \n",
              "gender         Female  Male Female   Male Female  Male Female  Male\n",
              "state                                                              \n",
              "Alaska           38.0  59.0  35.00  33.38   35.0  33.0   32.0  16.0\n",
              "Alabama          41.0  77.0  36.71  40.89   36.0  38.0   32.0  16.0\n",
              "Arkansas          NaN  83.0    NaN  39.95    NaN  37.0    NaN  16.0\n",
              "Arizona          49.0  89.0  34.44  36.80   34.5  34.0   17.0  14.0\n",
              "California       62.0  86.0  35.39  35.17   33.0  33.0   16.0  14.0\n",
              "Colorado         59.0  72.0  35.20  35.86   32.0  34.0   17.0  17.0\n",
              "Connecticut       NaN  62.0    NaN  36.29    NaN  31.0    NaN  16.0\n",
              "DC               41.0  63.0  31.00  39.36   31.0  35.0   21.0  21.0\n",
              "Delaware          NaN  60.0    NaN  33.00    NaN  28.0    NaN  16.0\n",
              "Florida          63.0  84.0  40.38  38.91   42.0  37.0   20.0  15.0\n",
              "Georgia          60.0  75.0  39.69  37.78   36.0  35.0   20.0  17.0\n",
              "Hawaii           30.0  61.0  28.00  38.93   28.0  36.0   26.0  20.0\n",
              "Iowa             39.0  53.0  34.00  31.41   34.0  29.0   29.0  19.0\n",
              "Idaho            53.0  62.0  43.00  40.97   43.0  39.5   33.0  23.0\n",
              "Illinois         55.0  63.0  43.75  32.25   44.5  32.0   31.0  16.0\n",
              "Indiana          49.0  69.0  33.00  39.11   33.0  36.0   17.0  15.0\n",
              "Kansas           53.0  65.0  43.33  36.04   51.0  33.0   26.0  17.0\n",
              "Kentucky         35.0  75.0  28.75  40.20   28.5  38.0   23.0  18.0\n",
              "Louisiana        71.0  66.0  58.00  36.07   58.0  34.5   45.0   6.0\n",
              "Massachusetts     NaN  59.0    NaN  37.76    NaN  39.0    NaN  19.0\n",
              "Maryland         45.0  76.0  30.00  35.76   26.0  33.0   23.0  16.0\n",
              "Maine            18.0  65.0  18.00  41.14   18.0  37.0   18.0  16.0\n",
              "Michigan         36.0  73.0  33.50  37.23   33.5  37.0   31.0  16.0\n",
              "Minnesota        50.0  68.0  45.00  34.87   45.0  32.0   40.0  16.0\n",
              "Missouri         61.0  70.0  33.90  36.02   29.0  33.0   21.0  15.0\n",
              "Mississippi      24.0  76.0  22.50  38.09   22.5  36.0   21.0  15.0\n",
              "Montana          49.0  59.0  49.00  36.65   49.0  36.0   49.0  19.0\n",
              "North Carolina   60.0  83.0  43.60  39.53   45.0  37.0   20.0  18.0\n",
              "North Dakota      NaN  42.0    NaN  31.00    NaN  30.0    NaN  24.0\n",
              "Nebraska         39.0  66.0  39.00  36.96   39.0  33.0   39.0  22.0\n",
              "New Hampshire     NaN  62.0    NaN  38.54    NaN  40.0    NaN  19.0\n",
              "New Jersey       50.0  75.0  43.00  37.28   43.0  36.0   36.0  18.0\n",
              "New Mexico       47.0  81.0  33.50  36.62   32.5  34.0   24.0  16.0\n",
              "Nevada           50.0  77.0  45.00  38.05   48.0  36.0   37.0  18.0\n",
              "New York         66.0  81.0  50.00  39.06   51.0  36.0   32.0  17.0\n",
              "Ohio             36.0  76.0  28.67  36.89   28.0  34.0   22.0  13.0\n",
              "Oklahoma         72.0  83.0  48.33  37.89   39.0  36.5   34.0  16.0\n",
              "Oregon           55.0  77.0  44.00  39.87   44.0  38.0   33.0  17.0\n",
              "Pennsylvania     47.0  91.0  33.67  37.64   42.0  33.0   12.0  16.0\n",
              "Rhode Island      NaN  80.0    NaN  41.00    NaN  30.0    NaN  24.0\n",
              "South Carolina   47.0  81.0  39.50  39.85   38.5  36.0   34.0  17.0\n",
              "South Dakota      NaN  53.0    NaN  35.44    NaN  34.5    NaN  19.0\n",
              "Tennessee        59.0  86.0  39.57  39.51   39.0  36.0   23.0  18.0\n",
              "Texas            84.0  76.0  38.48  35.61   38.0  34.0   17.0   6.0\n",
              "Utah              NaN  64.0    NaN  34.21    NaN  32.5    NaN  17.0\n",
              "Virginia         57.0  71.0  36.67  36.70   29.5  33.5   25.0  15.0\n",
              "Vermont           NaN  76.0    NaN  44.67    NaN  39.0    NaN  29.0\n",
              "Washington       38.0  69.0  31.00  37.07   32.0  36.0   23.0  16.0\n",
              "Wisconsin        25.0  77.0  25.00  37.21   25.0  35.0   25.0  14.0\n",
              "West Virginia    49.0  82.0  47.00  42.67   47.0  41.0   45.0  21.0\n",
              "Wyoming          39.0  58.0  39.00  39.92   39.0  39.0   39.0  21.0"
            ]
          },
          "metadata": {
            "tags": []
          },
          "execution_count": 177
        }
      ]
    },
    {
      "cell_type": "code",
      "metadata": {
        "id": "i8207yJkFPlO",
        "colab_type": "code",
        "colab": {
          "base_uri": "https://localhost:8080/",
          "height": 1000
        },
        "outputId": "465f13fa-384d-4335-b773-c87f9f6ad285"
      },
      "source": [
        "state_race = pd.crosstab(Fatal_police.state, Fatal_police.race)\n",
        "state_race.rename(index = states_names, inplace = True)\n",
        "state_race.rename(columns = race, inplace = True)\n",
        "state_race"
      ],
      "execution_count": 178,
      "outputs": [
        {
          "output_type": "execute_result",
          "data": {
            "text/html": [
              "<div>\n",
              "<style scoped>\n",
              "    .dataframe tbody tr th:only-of-type {\n",
              "        vertical-align: middle;\n",
              "    }\n",
              "\n",
              "    .dataframe tbody tr th {\n",
              "        vertical-align: top;\n",
              "    }\n",
              "\n",
              "    .dataframe thead th {\n",
              "        text-align: right;\n",
              "    }\n",
              "</style>\n",
              "<table border=\"1\" class=\"dataframe\">\n",
              "  <thead>\n",
              "    <tr style=\"text-align: right;\">\n",
              "      <th>race</th>\n",
              "      <th>Asian</th>\n",
              "      <th>Black</th>\n",
              "      <th>Hispanic</th>\n",
              "      <th>Native American</th>\n",
              "      <th>Not Informed</th>\n",
              "      <th>Other</th>\n",
              "      <th>White</th>\n",
              "    </tr>\n",
              "    <tr>\n",
              "      <th>state</th>\n",
              "      <th></th>\n",
              "      <th></th>\n",
              "      <th></th>\n",
              "      <th></th>\n",
              "      <th></th>\n",
              "      <th></th>\n",
              "      <th></th>\n",
              "    </tr>\n",
              "  </thead>\n",
              "  <tbody>\n",
              "    <tr>\n",
              "      <th>Alaska</th>\n",
              "      <td>2</td>\n",
              "      <td>3</td>\n",
              "      <td>0</td>\n",
              "      <td>9</td>\n",
              "      <td>4</td>\n",
              "      <td>0</td>\n",
              "      <td>22</td>\n",
              "    </tr>\n",
              "    <tr>\n",
              "      <th>Alabama</th>\n",
              "      <td>0</td>\n",
              "      <td>31</td>\n",
              "      <td>1</td>\n",
              "      <td>0</td>\n",
              "      <td>9</td>\n",
              "      <td>0</td>\n",
              "      <td>63</td>\n",
              "    </tr>\n",
              "    <tr>\n",
              "      <th>Arkansas</th>\n",
              "      <td>1</td>\n",
              "      <td>25</td>\n",
              "      <td>0</td>\n",
              "      <td>0</td>\n",
              "      <td>11</td>\n",
              "      <td>0</td>\n",
              "      <td>46</td>\n",
              "    </tr>\n",
              "    <tr>\n",
              "      <th>Arizona</th>\n",
              "      <td>0</td>\n",
              "      <td>17</td>\n",
              "      <td>84</td>\n",
              "      <td>13</td>\n",
              "      <td>35</td>\n",
              "      <td>0</td>\n",
              "      <td>109</td>\n",
              "    </tr>\n",
              "    <tr>\n",
              "      <th>California</th>\n",
              "      <td>30</td>\n",
              "      <td>125</td>\n",
              "      <td>321</td>\n",
              "      <td>4</td>\n",
              "      <td>113</td>\n",
              "      <td>9</td>\n",
              "      <td>223</td>\n",
              "    </tr>\n",
              "    <tr>\n",
              "      <th>Colorado</th>\n",
              "      <td>5</td>\n",
              "      <td>18</td>\n",
              "      <td>49</td>\n",
              "      <td>4</td>\n",
              "      <td>31</td>\n",
              "      <td>2</td>\n",
              "      <td>95</td>\n",
              "    </tr>\n",
              "    <tr>\n",
              "      <th>Connecticut</th>\n",
              "      <td>0</td>\n",
              "      <td>3</td>\n",
              "      <td>6</td>\n",
              "      <td>0</td>\n",
              "      <td>1</td>\n",
              "      <td>0</td>\n",
              "      <td>11</td>\n",
              "    </tr>\n",
              "    <tr>\n",
              "      <th>DC</th>\n",
              "      <td>0</td>\n",
              "      <td>12</td>\n",
              "      <td>0</td>\n",
              "      <td>0</td>\n",
              "      <td>0</td>\n",
              "      <td>0</td>\n",
              "      <td>1</td>\n",
              "    </tr>\n",
              "    <tr>\n",
              "      <th>Delaware</th>\n",
              "      <td>0</td>\n",
              "      <td>5</td>\n",
              "      <td>0</td>\n",
              "      <td>0</td>\n",
              "      <td>3</td>\n",
              "      <td>0</td>\n",
              "      <td>5</td>\n",
              "    </tr>\n",
              "    <tr>\n",
              "      <th>Florida</th>\n",
              "      <td>1</td>\n",
              "      <td>113</td>\n",
              "      <td>52</td>\n",
              "      <td>0</td>\n",
              "      <td>35</td>\n",
              "      <td>5</td>\n",
              "      <td>162</td>\n",
              "    </tr>\n",
              "    <tr>\n",
              "      <th>Georgia</th>\n",
              "      <td>4</td>\n",
              "      <td>72</td>\n",
              "      <td>10</td>\n",
              "      <td>0</td>\n",
              "      <td>23</td>\n",
              "      <td>0</td>\n",
              "      <td>79</td>\n",
              "    </tr>\n",
              "    <tr>\n",
              "      <th>Hawaii</th>\n",
              "      <td>9</td>\n",
              "      <td>1</td>\n",
              "      <td>1</td>\n",
              "      <td>0</td>\n",
              "      <td>1</td>\n",
              "      <td>15</td>\n",
              "      <td>3</td>\n",
              "    </tr>\n",
              "    <tr>\n",
              "      <th>Iowa</th>\n",
              "      <td>0</td>\n",
              "      <td>7</td>\n",
              "      <td>0</td>\n",
              "      <td>0</td>\n",
              "      <td>1</td>\n",
              "      <td>0</td>\n",
              "      <td>24</td>\n",
              "    </tr>\n",
              "    <tr>\n",
              "      <th>Idaho</th>\n",
              "      <td>0</td>\n",
              "      <td>1</td>\n",
              "      <td>5</td>\n",
              "      <td>1</td>\n",
              "      <td>4</td>\n",
              "      <td>0</td>\n",
              "      <td>31</td>\n",
              "    </tr>\n",
              "    <tr>\n",
              "      <th>Illinois</th>\n",
              "      <td>0</td>\n",
              "      <td>59</td>\n",
              "      <td>13</td>\n",
              "      <td>0</td>\n",
              "      <td>5</td>\n",
              "      <td>0</td>\n",
              "      <td>28</td>\n",
              "    </tr>\n",
              "    <tr>\n",
              "      <th>Indiana</th>\n",
              "      <td>0</td>\n",
              "      <td>30</td>\n",
              "      <td>4</td>\n",
              "      <td>0</td>\n",
              "      <td>7</td>\n",
              "      <td>0</td>\n",
              "      <td>58</td>\n",
              "    </tr>\n",
              "    <tr>\n",
              "      <th>Kansas</th>\n",
              "      <td>0</td>\n",
              "      <td>6</td>\n",
              "      <td>8</td>\n",
              "      <td>1</td>\n",
              "      <td>1</td>\n",
              "      <td>0</td>\n",
              "      <td>34</td>\n",
              "    </tr>\n",
              "    <tr>\n",
              "      <th>Kentucky</th>\n",
              "      <td>1</td>\n",
              "      <td>15</td>\n",
              "      <td>3</td>\n",
              "      <td>1</td>\n",
              "      <td>8</td>\n",
              "      <td>0</td>\n",
              "      <td>70</td>\n",
              "    </tr>\n",
              "    <tr>\n",
              "      <th>Louisiana</th>\n",
              "      <td>2</td>\n",
              "      <td>62</td>\n",
              "      <td>1</td>\n",
              "      <td>0</td>\n",
              "      <td>9</td>\n",
              "      <td>0</td>\n",
              "      <td>39</td>\n",
              "    </tr>\n",
              "    <tr>\n",
              "      <th>Massachusetts</th>\n",
              "      <td>0</td>\n",
              "      <td>8</td>\n",
              "      <td>7</td>\n",
              "      <td>0</td>\n",
              "      <td>2</td>\n",
              "      <td>1</td>\n",
              "      <td>17</td>\n",
              "    </tr>\n",
              "    <tr>\n",
              "      <th>Maryland</th>\n",
              "      <td>1</td>\n",
              "      <td>47</td>\n",
              "      <td>3</td>\n",
              "      <td>0</td>\n",
              "      <td>2</td>\n",
              "      <td>0</td>\n",
              "      <td>26</td>\n",
              "    </tr>\n",
              "    <tr>\n",
              "      <th>Maine</th>\n",
              "      <td>0</td>\n",
              "      <td>1</td>\n",
              "      <td>1</td>\n",
              "      <td>0</td>\n",
              "      <td>1</td>\n",
              "      <td>1</td>\n",
              "      <td>18</td>\n",
              "    </tr>\n",
              "    <tr>\n",
              "      <th>Michigan</th>\n",
              "      <td>1</td>\n",
              "      <td>26</td>\n",
              "      <td>2</td>\n",
              "      <td>0</td>\n",
              "      <td>8</td>\n",
              "      <td>1</td>\n",
              "      <td>44</td>\n",
              "    </tr>\n",
              "    <tr>\n",
              "      <th>Minnesota</th>\n",
              "      <td>3</td>\n",
              "      <td>10</td>\n",
              "      <td>3</td>\n",
              "      <td>4</td>\n",
              "      <td>1</td>\n",
              "      <td>3</td>\n",
              "      <td>38</td>\n",
              "    </tr>\n",
              "    <tr>\n",
              "      <th>Missouri</th>\n",
              "      <td>1</td>\n",
              "      <td>49</td>\n",
              "      <td>3</td>\n",
              "      <td>0</td>\n",
              "      <td>19</td>\n",
              "      <td>0</td>\n",
              "      <td>73</td>\n",
              "    </tr>\n",
              "    <tr>\n",
              "      <th>Mississippi</th>\n",
              "      <td>1</td>\n",
              "      <td>23</td>\n",
              "      <td>1</td>\n",
              "      <td>0</td>\n",
              "      <td>4</td>\n",
              "      <td>0</td>\n",
              "      <td>37</td>\n",
              "    </tr>\n",
              "    <tr>\n",
              "      <th>Montana</th>\n",
              "      <td>0</td>\n",
              "      <td>0</td>\n",
              "      <td>0</td>\n",
              "      <td>4</td>\n",
              "      <td>3</td>\n",
              "      <td>0</td>\n",
              "      <td>26</td>\n",
              "    </tr>\n",
              "    <tr>\n",
              "      <th>North Carolina</th>\n",
              "      <td>1</td>\n",
              "      <td>52</td>\n",
              "      <td>8</td>\n",
              "      <td>0</td>\n",
              "      <td>13</td>\n",
              "      <td>0</td>\n",
              "      <td>88</td>\n",
              "    </tr>\n",
              "    <tr>\n",
              "      <th>North Dakota</th>\n",
              "      <td>0</td>\n",
              "      <td>0</td>\n",
              "      <td>0</td>\n",
              "      <td>5</td>\n",
              "      <td>0</td>\n",
              "      <td>0</td>\n",
              "      <td>6</td>\n",
              "    </tr>\n",
              "    <tr>\n",
              "      <th>Nebraska</th>\n",
              "      <td>0</td>\n",
              "      <td>5</td>\n",
              "      <td>2</td>\n",
              "      <td>1</td>\n",
              "      <td>1</td>\n",
              "      <td>0</td>\n",
              "      <td>16</td>\n",
              "    </tr>\n",
              "    <tr>\n",
              "      <th>New Hampshire</th>\n",
              "      <td>0</td>\n",
              "      <td>0</td>\n",
              "      <td>0</td>\n",
              "      <td>0</td>\n",
              "      <td>1</td>\n",
              "      <td>0</td>\n",
              "      <td>12</td>\n",
              "    </tr>\n",
              "    <tr>\n",
              "      <th>New Jersey</th>\n",
              "      <td>1</td>\n",
              "      <td>30</td>\n",
              "      <td>8</td>\n",
              "      <td>0</td>\n",
              "      <td>10</td>\n",
              "      <td>0</td>\n",
              "      <td>21</td>\n",
              "    </tr>\n",
              "    <tr>\n",
              "      <th>New Mexico</th>\n",
              "      <td>0</td>\n",
              "      <td>1</td>\n",
              "      <td>64</td>\n",
              "      <td>2</td>\n",
              "      <td>14</td>\n",
              "      <td>0</td>\n",
              "      <td>27</td>\n",
              "    </tr>\n",
              "    <tr>\n",
              "      <th>Nevada</th>\n",
              "      <td>2</td>\n",
              "      <td>15</td>\n",
              "      <td>28</td>\n",
              "      <td>1</td>\n",
              "      <td>13</td>\n",
              "      <td>0</td>\n",
              "      <td>43</td>\n",
              "    </tr>\n",
              "    <tr>\n",
              "      <th>New York</th>\n",
              "      <td>1</td>\n",
              "      <td>46</td>\n",
              "      <td>8</td>\n",
              "      <td>0</td>\n",
              "      <td>11</td>\n",
              "      <td>0</td>\n",
              "      <td>36</td>\n",
              "    </tr>\n",
              "    <tr>\n",
              "      <th>Ohio</th>\n",
              "      <td>2</td>\n",
              "      <td>56</td>\n",
              "      <td>1</td>\n",
              "      <td>0</td>\n",
              "      <td>11</td>\n",
              "      <td>3</td>\n",
              "      <td>86</td>\n",
              "    </tr>\n",
              "    <tr>\n",
              "      <th>Oklahoma</th>\n",
              "      <td>3</td>\n",
              "      <td>32</td>\n",
              "      <td>9</td>\n",
              "      <td>7</td>\n",
              "      <td>17</td>\n",
              "      <td>0</td>\n",
              "      <td>102</td>\n",
              "    </tr>\n",
              "    <tr>\n",
              "      <th>Oregon</th>\n",
              "      <td>0</td>\n",
              "      <td>7</td>\n",
              "      <td>6</td>\n",
              "      <td>0</td>\n",
              "      <td>12</td>\n",
              "      <td>0</td>\n",
              "      <td>62</td>\n",
              "    </tr>\n",
              "    <tr>\n",
              "      <th>Pennsylvania</th>\n",
              "      <td>0</td>\n",
              "      <td>42</td>\n",
              "      <td>6</td>\n",
              "      <td>0</td>\n",
              "      <td>14</td>\n",
              "      <td>0</td>\n",
              "      <td>49</td>\n",
              "    </tr>\n",
              "    <tr>\n",
              "      <th>Rhode Island</th>\n",
              "      <td>0</td>\n",
              "      <td>2</td>\n",
              "      <td>1</td>\n",
              "      <td>0</td>\n",
              "      <td>0</td>\n",
              "      <td>0</td>\n",
              "      <td>1</td>\n",
              "    </tr>\n",
              "    <tr>\n",
              "      <th>South Carolina</th>\n",
              "      <td>1</td>\n",
              "      <td>27</td>\n",
              "      <td>2</td>\n",
              "      <td>0</td>\n",
              "      <td>11</td>\n",
              "      <td>0</td>\n",
              "      <td>50</td>\n",
              "    </tr>\n",
              "    <tr>\n",
              "      <th>South Dakota</th>\n",
              "      <td>1</td>\n",
              "      <td>0</td>\n",
              "      <td>0</td>\n",
              "      <td>3</td>\n",
              "      <td>3</td>\n",
              "      <td>0</td>\n",
              "      <td>10</td>\n",
              "    </tr>\n",
              "    <tr>\n",
              "      <th>Tennessee</th>\n",
              "      <td>1</td>\n",
              "      <td>31</td>\n",
              "      <td>4</td>\n",
              "      <td>0</td>\n",
              "      <td>19</td>\n",
              "      <td>1</td>\n",
              "      <td>91</td>\n",
              "    </tr>\n",
              "    <tr>\n",
              "      <th>Texas</th>\n",
              "      <td>6</td>\n",
              "      <td>101</td>\n",
              "      <td>147</td>\n",
              "      <td>1</td>\n",
              "      <td>57</td>\n",
              "      <td>3</td>\n",
              "      <td>179</td>\n",
              "    </tr>\n",
              "    <tr>\n",
              "      <th>Utah</th>\n",
              "      <td>0</td>\n",
              "      <td>7</td>\n",
              "      <td>12</td>\n",
              "      <td>2</td>\n",
              "      <td>5</td>\n",
              "      <td>1</td>\n",
              "      <td>39</td>\n",
              "    </tr>\n",
              "    <tr>\n",
              "      <th>Virginia</th>\n",
              "      <td>1</td>\n",
              "      <td>41</td>\n",
              "      <td>4</td>\n",
              "      <td>1</td>\n",
              "      <td>3</td>\n",
              "      <td>1</td>\n",
              "      <td>45</td>\n",
              "    </tr>\n",
              "    <tr>\n",
              "      <th>Vermont</th>\n",
              "      <td>0</td>\n",
              "      <td>0</td>\n",
              "      <td>0</td>\n",
              "      <td>1</td>\n",
              "      <td>1</td>\n",
              "      <td>0</td>\n",
              "      <td>7</td>\n",
              "    </tr>\n",
              "    <tr>\n",
              "      <th>Washington</th>\n",
              "      <td>9</td>\n",
              "      <td>21</td>\n",
              "      <td>21</td>\n",
              "      <td>7</td>\n",
              "      <td>28</td>\n",
              "      <td>2</td>\n",
              "      <td>68</td>\n",
              "    </tr>\n",
              "    <tr>\n",
              "      <th>Wisconsin</th>\n",
              "      <td>2</td>\n",
              "      <td>22</td>\n",
              "      <td>6</td>\n",
              "      <td>4</td>\n",
              "      <td>4</td>\n",
              "      <td>0</td>\n",
              "      <td>57</td>\n",
              "    </tr>\n",
              "    <tr>\n",
              "      <th>West Virginia</th>\n",
              "      <td>1</td>\n",
              "      <td>8</td>\n",
              "      <td>0</td>\n",
              "      <td>0</td>\n",
              "      <td>8</td>\n",
              "      <td>0</td>\n",
              "      <td>37</td>\n",
              "    </tr>\n",
              "    <tr>\n",
              "      <th>Wyoming</th>\n",
              "      <td>0</td>\n",
              "      <td>0</td>\n",
              "      <td>2</td>\n",
              "      <td>2</td>\n",
              "      <td>1</td>\n",
              "      <td>0</td>\n",
              "      <td>9</td>\n",
              "    </tr>\n",
              "  </tbody>\n",
              "</table>\n",
              "</div>"
            ],
            "text/plain": [
              "race            Asian  Black  Hispanic  ...  Not Informed  Other  White\n",
              "state                                   ...                            \n",
              "Alaska              2      3         0  ...             4      0     22\n",
              "Alabama             0     31         1  ...             9      0     63\n",
              "Arkansas            1     25         0  ...            11      0     46\n",
              "Arizona             0     17        84  ...            35      0    109\n",
              "California         30    125       321  ...           113      9    223\n",
              "Colorado            5     18        49  ...            31      2     95\n",
              "Connecticut         0      3         6  ...             1      0     11\n",
              "DC                  0     12         0  ...             0      0      1\n",
              "Delaware            0      5         0  ...             3      0      5\n",
              "Florida             1    113        52  ...            35      5    162\n",
              "Georgia             4     72        10  ...            23      0     79\n",
              "Hawaii              9      1         1  ...             1     15      3\n",
              "Iowa                0      7         0  ...             1      0     24\n",
              "Idaho               0      1         5  ...             4      0     31\n",
              "Illinois            0     59        13  ...             5      0     28\n",
              "Indiana             0     30         4  ...             7      0     58\n",
              "Kansas              0      6         8  ...             1      0     34\n",
              "Kentucky            1     15         3  ...             8      0     70\n",
              "Louisiana           2     62         1  ...             9      0     39\n",
              "Massachusetts       0      8         7  ...             2      1     17\n",
              "Maryland            1     47         3  ...             2      0     26\n",
              "Maine               0      1         1  ...             1      1     18\n",
              "Michigan            1     26         2  ...             8      1     44\n",
              "Minnesota           3     10         3  ...             1      3     38\n",
              "Missouri            1     49         3  ...            19      0     73\n",
              "Mississippi         1     23         1  ...             4      0     37\n",
              "Montana             0      0         0  ...             3      0     26\n",
              "North Carolina      1     52         8  ...            13      0     88\n",
              "North Dakota        0      0         0  ...             0      0      6\n",
              "Nebraska            0      5         2  ...             1      0     16\n",
              "New Hampshire       0      0         0  ...             1      0     12\n",
              "New Jersey          1     30         8  ...            10      0     21\n",
              "New Mexico          0      1        64  ...            14      0     27\n",
              "Nevada              2     15        28  ...            13      0     43\n",
              "New York            1     46         8  ...            11      0     36\n",
              "Ohio                2     56         1  ...            11      3     86\n",
              "Oklahoma            3     32         9  ...            17      0    102\n",
              "Oregon              0      7         6  ...            12      0     62\n",
              "Pennsylvania        0     42         6  ...            14      0     49\n",
              "Rhode Island        0      2         1  ...             0      0      1\n",
              "South Carolina      1     27         2  ...            11      0     50\n",
              "South Dakota        1      0         0  ...             3      0     10\n",
              "Tennessee           1     31         4  ...            19      1     91\n",
              "Texas               6    101       147  ...            57      3    179\n",
              "Utah                0      7        12  ...             5      1     39\n",
              "Virginia            1     41         4  ...             3      1     45\n",
              "Vermont             0      0         0  ...             1      0      7\n",
              "Washington          9     21        21  ...            28      2     68\n",
              "Wisconsin           2     22         6  ...             4      0     57\n",
              "West Virginia       1      8         0  ...             8      0     37\n",
              "Wyoming             0      0         2  ...             1      0      9\n",
              "\n",
              "[51 rows x 7 columns]"
            ]
          },
          "metadata": {
            "tags": []
          },
          "execution_count": 178
        }
      ]
    },
    {
      "cell_type": "code",
      "metadata": {
        "id": "gnZ8AJnoIaoN",
        "colab_type": "code",
        "colab": {
          "base_uri": "https://localhost:8080/",
          "height": 34
        },
        "outputId": "66059d9a-dec5-47ff-ff3d-02cd5acdff6a"
      },
      "source": [
        "# Testando o crosstab Pandas acima\n",
        "estado = Fatal_police.query('state == \"AZ\"')\n",
        "estado[\"state\"].count()\n",
        "race = estado.query('race == \"H\"')\n",
        "race[\"race\"].count()"
      ],
      "execution_count": 179,
      "outputs": [
        {
          "output_type": "execute_result",
          "data": {
            "text/plain": [
              "84"
            ]
          },
          "metadata": {
            "tags": []
          },
          "execution_count": 179
        }
      ]
    },
    {
      "cell_type": "code",
      "metadata": {
        "id": "b1kaJ29jGemC",
        "colab_type": "code",
        "colab": {
          "base_uri": "https://localhost:8080/",
          "height": 1000
        },
        "outputId": "a0b2f7bf-9e2d-4026-a4f8-b928dafb6e23"
      },
      "source": [
        "state_race.reset_index(level=0, inplace=True)\n",
        "\n",
        "# state_count = pd.DataFrame(ad)\n",
        "# state_count.reset_index(level=0, inplace=True)\n",
        "# state_count.columns = [\"state\", \"deaths_total\"] \n",
        "# state_count.head()\n",
        "\n",
        "state_race"
      ],
      "execution_count": 180,
      "outputs": [
        {
          "output_type": "execute_result",
          "data": {
            "text/html": [
              "<div>\n",
              "<style scoped>\n",
              "    .dataframe tbody tr th:only-of-type {\n",
              "        vertical-align: middle;\n",
              "    }\n",
              "\n",
              "    .dataframe tbody tr th {\n",
              "        vertical-align: top;\n",
              "    }\n",
              "\n",
              "    .dataframe thead th {\n",
              "        text-align: right;\n",
              "    }\n",
              "</style>\n",
              "<table border=\"1\" class=\"dataframe\">\n",
              "  <thead>\n",
              "    <tr style=\"text-align: right;\">\n",
              "      <th>race</th>\n",
              "      <th>state</th>\n",
              "      <th>Asian</th>\n",
              "      <th>Black</th>\n",
              "      <th>Hispanic</th>\n",
              "      <th>Native American</th>\n",
              "      <th>Not Informed</th>\n",
              "      <th>Other</th>\n",
              "      <th>White</th>\n",
              "    </tr>\n",
              "  </thead>\n",
              "  <tbody>\n",
              "    <tr>\n",
              "      <th>0</th>\n",
              "      <td>Alaska</td>\n",
              "      <td>2</td>\n",
              "      <td>3</td>\n",
              "      <td>0</td>\n",
              "      <td>9</td>\n",
              "      <td>4</td>\n",
              "      <td>0</td>\n",
              "      <td>22</td>\n",
              "    </tr>\n",
              "    <tr>\n",
              "      <th>1</th>\n",
              "      <td>Alabama</td>\n",
              "      <td>0</td>\n",
              "      <td>31</td>\n",
              "      <td>1</td>\n",
              "      <td>0</td>\n",
              "      <td>9</td>\n",
              "      <td>0</td>\n",
              "      <td>63</td>\n",
              "    </tr>\n",
              "    <tr>\n",
              "      <th>2</th>\n",
              "      <td>Arkansas</td>\n",
              "      <td>1</td>\n",
              "      <td>25</td>\n",
              "      <td>0</td>\n",
              "      <td>0</td>\n",
              "      <td>11</td>\n",
              "      <td>0</td>\n",
              "      <td>46</td>\n",
              "    </tr>\n",
              "    <tr>\n",
              "      <th>3</th>\n",
              "      <td>Arizona</td>\n",
              "      <td>0</td>\n",
              "      <td>17</td>\n",
              "      <td>84</td>\n",
              "      <td>13</td>\n",
              "      <td>35</td>\n",
              "      <td>0</td>\n",
              "      <td>109</td>\n",
              "    </tr>\n",
              "    <tr>\n",
              "      <th>4</th>\n",
              "      <td>California</td>\n",
              "      <td>30</td>\n",
              "      <td>125</td>\n",
              "      <td>321</td>\n",
              "      <td>4</td>\n",
              "      <td>113</td>\n",
              "      <td>9</td>\n",
              "      <td>223</td>\n",
              "    </tr>\n",
              "    <tr>\n",
              "      <th>5</th>\n",
              "      <td>Colorado</td>\n",
              "      <td>5</td>\n",
              "      <td>18</td>\n",
              "      <td>49</td>\n",
              "      <td>4</td>\n",
              "      <td>31</td>\n",
              "      <td>2</td>\n",
              "      <td>95</td>\n",
              "    </tr>\n",
              "    <tr>\n",
              "      <th>6</th>\n",
              "      <td>Connecticut</td>\n",
              "      <td>0</td>\n",
              "      <td>3</td>\n",
              "      <td>6</td>\n",
              "      <td>0</td>\n",
              "      <td>1</td>\n",
              "      <td>0</td>\n",
              "      <td>11</td>\n",
              "    </tr>\n",
              "    <tr>\n",
              "      <th>7</th>\n",
              "      <td>DC</td>\n",
              "      <td>0</td>\n",
              "      <td>12</td>\n",
              "      <td>0</td>\n",
              "      <td>0</td>\n",
              "      <td>0</td>\n",
              "      <td>0</td>\n",
              "      <td>1</td>\n",
              "    </tr>\n",
              "    <tr>\n",
              "      <th>8</th>\n",
              "      <td>Delaware</td>\n",
              "      <td>0</td>\n",
              "      <td>5</td>\n",
              "      <td>0</td>\n",
              "      <td>0</td>\n",
              "      <td>3</td>\n",
              "      <td>0</td>\n",
              "      <td>5</td>\n",
              "    </tr>\n",
              "    <tr>\n",
              "      <th>9</th>\n",
              "      <td>Florida</td>\n",
              "      <td>1</td>\n",
              "      <td>113</td>\n",
              "      <td>52</td>\n",
              "      <td>0</td>\n",
              "      <td>35</td>\n",
              "      <td>5</td>\n",
              "      <td>162</td>\n",
              "    </tr>\n",
              "    <tr>\n",
              "      <th>10</th>\n",
              "      <td>Georgia</td>\n",
              "      <td>4</td>\n",
              "      <td>72</td>\n",
              "      <td>10</td>\n",
              "      <td>0</td>\n",
              "      <td>23</td>\n",
              "      <td>0</td>\n",
              "      <td>79</td>\n",
              "    </tr>\n",
              "    <tr>\n",
              "      <th>11</th>\n",
              "      <td>Hawaii</td>\n",
              "      <td>9</td>\n",
              "      <td>1</td>\n",
              "      <td>1</td>\n",
              "      <td>0</td>\n",
              "      <td>1</td>\n",
              "      <td>15</td>\n",
              "      <td>3</td>\n",
              "    </tr>\n",
              "    <tr>\n",
              "      <th>12</th>\n",
              "      <td>Iowa</td>\n",
              "      <td>0</td>\n",
              "      <td>7</td>\n",
              "      <td>0</td>\n",
              "      <td>0</td>\n",
              "      <td>1</td>\n",
              "      <td>0</td>\n",
              "      <td>24</td>\n",
              "    </tr>\n",
              "    <tr>\n",
              "      <th>13</th>\n",
              "      <td>Idaho</td>\n",
              "      <td>0</td>\n",
              "      <td>1</td>\n",
              "      <td>5</td>\n",
              "      <td>1</td>\n",
              "      <td>4</td>\n",
              "      <td>0</td>\n",
              "      <td>31</td>\n",
              "    </tr>\n",
              "    <tr>\n",
              "      <th>14</th>\n",
              "      <td>Illinois</td>\n",
              "      <td>0</td>\n",
              "      <td>59</td>\n",
              "      <td>13</td>\n",
              "      <td>0</td>\n",
              "      <td>5</td>\n",
              "      <td>0</td>\n",
              "      <td>28</td>\n",
              "    </tr>\n",
              "    <tr>\n",
              "      <th>15</th>\n",
              "      <td>Indiana</td>\n",
              "      <td>0</td>\n",
              "      <td>30</td>\n",
              "      <td>4</td>\n",
              "      <td>0</td>\n",
              "      <td>7</td>\n",
              "      <td>0</td>\n",
              "      <td>58</td>\n",
              "    </tr>\n",
              "    <tr>\n",
              "      <th>16</th>\n",
              "      <td>Kansas</td>\n",
              "      <td>0</td>\n",
              "      <td>6</td>\n",
              "      <td>8</td>\n",
              "      <td>1</td>\n",
              "      <td>1</td>\n",
              "      <td>0</td>\n",
              "      <td>34</td>\n",
              "    </tr>\n",
              "    <tr>\n",
              "      <th>17</th>\n",
              "      <td>Kentucky</td>\n",
              "      <td>1</td>\n",
              "      <td>15</td>\n",
              "      <td>3</td>\n",
              "      <td>1</td>\n",
              "      <td>8</td>\n",
              "      <td>0</td>\n",
              "      <td>70</td>\n",
              "    </tr>\n",
              "    <tr>\n",
              "      <th>18</th>\n",
              "      <td>Louisiana</td>\n",
              "      <td>2</td>\n",
              "      <td>62</td>\n",
              "      <td>1</td>\n",
              "      <td>0</td>\n",
              "      <td>9</td>\n",
              "      <td>0</td>\n",
              "      <td>39</td>\n",
              "    </tr>\n",
              "    <tr>\n",
              "      <th>19</th>\n",
              "      <td>Massachusetts</td>\n",
              "      <td>0</td>\n",
              "      <td>8</td>\n",
              "      <td>7</td>\n",
              "      <td>0</td>\n",
              "      <td>2</td>\n",
              "      <td>1</td>\n",
              "      <td>17</td>\n",
              "    </tr>\n",
              "    <tr>\n",
              "      <th>20</th>\n",
              "      <td>Maryland</td>\n",
              "      <td>1</td>\n",
              "      <td>47</td>\n",
              "      <td>3</td>\n",
              "      <td>0</td>\n",
              "      <td>2</td>\n",
              "      <td>0</td>\n",
              "      <td>26</td>\n",
              "    </tr>\n",
              "    <tr>\n",
              "      <th>21</th>\n",
              "      <td>Maine</td>\n",
              "      <td>0</td>\n",
              "      <td>1</td>\n",
              "      <td>1</td>\n",
              "      <td>0</td>\n",
              "      <td>1</td>\n",
              "      <td>1</td>\n",
              "      <td>18</td>\n",
              "    </tr>\n",
              "    <tr>\n",
              "      <th>22</th>\n",
              "      <td>Michigan</td>\n",
              "      <td>1</td>\n",
              "      <td>26</td>\n",
              "      <td>2</td>\n",
              "      <td>0</td>\n",
              "      <td>8</td>\n",
              "      <td>1</td>\n",
              "      <td>44</td>\n",
              "    </tr>\n",
              "    <tr>\n",
              "      <th>23</th>\n",
              "      <td>Minnesota</td>\n",
              "      <td>3</td>\n",
              "      <td>10</td>\n",
              "      <td>3</td>\n",
              "      <td>4</td>\n",
              "      <td>1</td>\n",
              "      <td>3</td>\n",
              "      <td>38</td>\n",
              "    </tr>\n",
              "    <tr>\n",
              "      <th>24</th>\n",
              "      <td>Missouri</td>\n",
              "      <td>1</td>\n",
              "      <td>49</td>\n",
              "      <td>3</td>\n",
              "      <td>0</td>\n",
              "      <td>19</td>\n",
              "      <td>0</td>\n",
              "      <td>73</td>\n",
              "    </tr>\n",
              "    <tr>\n",
              "      <th>25</th>\n",
              "      <td>Mississippi</td>\n",
              "      <td>1</td>\n",
              "      <td>23</td>\n",
              "      <td>1</td>\n",
              "      <td>0</td>\n",
              "      <td>4</td>\n",
              "      <td>0</td>\n",
              "      <td>37</td>\n",
              "    </tr>\n",
              "    <tr>\n",
              "      <th>26</th>\n",
              "      <td>Montana</td>\n",
              "      <td>0</td>\n",
              "      <td>0</td>\n",
              "      <td>0</td>\n",
              "      <td>4</td>\n",
              "      <td>3</td>\n",
              "      <td>0</td>\n",
              "      <td>26</td>\n",
              "    </tr>\n",
              "    <tr>\n",
              "      <th>27</th>\n",
              "      <td>North Carolina</td>\n",
              "      <td>1</td>\n",
              "      <td>52</td>\n",
              "      <td>8</td>\n",
              "      <td>0</td>\n",
              "      <td>13</td>\n",
              "      <td>0</td>\n",
              "      <td>88</td>\n",
              "    </tr>\n",
              "    <tr>\n",
              "      <th>28</th>\n",
              "      <td>North Dakota</td>\n",
              "      <td>0</td>\n",
              "      <td>0</td>\n",
              "      <td>0</td>\n",
              "      <td>5</td>\n",
              "      <td>0</td>\n",
              "      <td>0</td>\n",
              "      <td>6</td>\n",
              "    </tr>\n",
              "    <tr>\n",
              "      <th>29</th>\n",
              "      <td>Nebraska</td>\n",
              "      <td>0</td>\n",
              "      <td>5</td>\n",
              "      <td>2</td>\n",
              "      <td>1</td>\n",
              "      <td>1</td>\n",
              "      <td>0</td>\n",
              "      <td>16</td>\n",
              "    </tr>\n",
              "    <tr>\n",
              "      <th>30</th>\n",
              "      <td>New Hampshire</td>\n",
              "      <td>0</td>\n",
              "      <td>0</td>\n",
              "      <td>0</td>\n",
              "      <td>0</td>\n",
              "      <td>1</td>\n",
              "      <td>0</td>\n",
              "      <td>12</td>\n",
              "    </tr>\n",
              "    <tr>\n",
              "      <th>31</th>\n",
              "      <td>New Jersey</td>\n",
              "      <td>1</td>\n",
              "      <td>30</td>\n",
              "      <td>8</td>\n",
              "      <td>0</td>\n",
              "      <td>10</td>\n",
              "      <td>0</td>\n",
              "      <td>21</td>\n",
              "    </tr>\n",
              "    <tr>\n",
              "      <th>32</th>\n",
              "      <td>New Mexico</td>\n",
              "      <td>0</td>\n",
              "      <td>1</td>\n",
              "      <td>64</td>\n",
              "      <td>2</td>\n",
              "      <td>14</td>\n",
              "      <td>0</td>\n",
              "      <td>27</td>\n",
              "    </tr>\n",
              "    <tr>\n",
              "      <th>33</th>\n",
              "      <td>Nevada</td>\n",
              "      <td>2</td>\n",
              "      <td>15</td>\n",
              "      <td>28</td>\n",
              "      <td>1</td>\n",
              "      <td>13</td>\n",
              "      <td>0</td>\n",
              "      <td>43</td>\n",
              "    </tr>\n",
              "    <tr>\n",
              "      <th>34</th>\n",
              "      <td>New York</td>\n",
              "      <td>1</td>\n",
              "      <td>46</td>\n",
              "      <td>8</td>\n",
              "      <td>0</td>\n",
              "      <td>11</td>\n",
              "      <td>0</td>\n",
              "      <td>36</td>\n",
              "    </tr>\n",
              "    <tr>\n",
              "      <th>35</th>\n",
              "      <td>Ohio</td>\n",
              "      <td>2</td>\n",
              "      <td>56</td>\n",
              "      <td>1</td>\n",
              "      <td>0</td>\n",
              "      <td>11</td>\n",
              "      <td>3</td>\n",
              "      <td>86</td>\n",
              "    </tr>\n",
              "    <tr>\n",
              "      <th>36</th>\n",
              "      <td>Oklahoma</td>\n",
              "      <td>3</td>\n",
              "      <td>32</td>\n",
              "      <td>9</td>\n",
              "      <td>7</td>\n",
              "      <td>17</td>\n",
              "      <td>0</td>\n",
              "      <td>102</td>\n",
              "    </tr>\n",
              "    <tr>\n",
              "      <th>37</th>\n",
              "      <td>Oregon</td>\n",
              "      <td>0</td>\n",
              "      <td>7</td>\n",
              "      <td>6</td>\n",
              "      <td>0</td>\n",
              "      <td>12</td>\n",
              "      <td>0</td>\n",
              "      <td>62</td>\n",
              "    </tr>\n",
              "    <tr>\n",
              "      <th>38</th>\n",
              "      <td>Pennsylvania</td>\n",
              "      <td>0</td>\n",
              "      <td>42</td>\n",
              "      <td>6</td>\n",
              "      <td>0</td>\n",
              "      <td>14</td>\n",
              "      <td>0</td>\n",
              "      <td>49</td>\n",
              "    </tr>\n",
              "    <tr>\n",
              "      <th>39</th>\n",
              "      <td>Rhode Island</td>\n",
              "      <td>0</td>\n",
              "      <td>2</td>\n",
              "      <td>1</td>\n",
              "      <td>0</td>\n",
              "      <td>0</td>\n",
              "      <td>0</td>\n",
              "      <td>1</td>\n",
              "    </tr>\n",
              "    <tr>\n",
              "      <th>40</th>\n",
              "      <td>South Carolina</td>\n",
              "      <td>1</td>\n",
              "      <td>27</td>\n",
              "      <td>2</td>\n",
              "      <td>0</td>\n",
              "      <td>11</td>\n",
              "      <td>0</td>\n",
              "      <td>50</td>\n",
              "    </tr>\n",
              "    <tr>\n",
              "      <th>41</th>\n",
              "      <td>South Dakota</td>\n",
              "      <td>1</td>\n",
              "      <td>0</td>\n",
              "      <td>0</td>\n",
              "      <td>3</td>\n",
              "      <td>3</td>\n",
              "      <td>0</td>\n",
              "      <td>10</td>\n",
              "    </tr>\n",
              "    <tr>\n",
              "      <th>42</th>\n",
              "      <td>Tennessee</td>\n",
              "      <td>1</td>\n",
              "      <td>31</td>\n",
              "      <td>4</td>\n",
              "      <td>0</td>\n",
              "      <td>19</td>\n",
              "      <td>1</td>\n",
              "      <td>91</td>\n",
              "    </tr>\n",
              "    <tr>\n",
              "      <th>43</th>\n",
              "      <td>Texas</td>\n",
              "      <td>6</td>\n",
              "      <td>101</td>\n",
              "      <td>147</td>\n",
              "      <td>1</td>\n",
              "      <td>57</td>\n",
              "      <td>3</td>\n",
              "      <td>179</td>\n",
              "    </tr>\n",
              "    <tr>\n",
              "      <th>44</th>\n",
              "      <td>Utah</td>\n",
              "      <td>0</td>\n",
              "      <td>7</td>\n",
              "      <td>12</td>\n",
              "      <td>2</td>\n",
              "      <td>5</td>\n",
              "      <td>1</td>\n",
              "      <td>39</td>\n",
              "    </tr>\n",
              "    <tr>\n",
              "      <th>45</th>\n",
              "      <td>Virginia</td>\n",
              "      <td>1</td>\n",
              "      <td>41</td>\n",
              "      <td>4</td>\n",
              "      <td>1</td>\n",
              "      <td>3</td>\n",
              "      <td>1</td>\n",
              "      <td>45</td>\n",
              "    </tr>\n",
              "    <tr>\n",
              "      <th>46</th>\n",
              "      <td>Vermont</td>\n",
              "      <td>0</td>\n",
              "      <td>0</td>\n",
              "      <td>0</td>\n",
              "      <td>1</td>\n",
              "      <td>1</td>\n",
              "      <td>0</td>\n",
              "      <td>7</td>\n",
              "    </tr>\n",
              "    <tr>\n",
              "      <th>47</th>\n",
              "      <td>Washington</td>\n",
              "      <td>9</td>\n",
              "      <td>21</td>\n",
              "      <td>21</td>\n",
              "      <td>7</td>\n",
              "      <td>28</td>\n",
              "      <td>2</td>\n",
              "      <td>68</td>\n",
              "    </tr>\n",
              "    <tr>\n",
              "      <th>48</th>\n",
              "      <td>Wisconsin</td>\n",
              "      <td>2</td>\n",
              "      <td>22</td>\n",
              "      <td>6</td>\n",
              "      <td>4</td>\n",
              "      <td>4</td>\n",
              "      <td>0</td>\n",
              "      <td>57</td>\n",
              "    </tr>\n",
              "    <tr>\n",
              "      <th>49</th>\n",
              "      <td>West Virginia</td>\n",
              "      <td>1</td>\n",
              "      <td>8</td>\n",
              "      <td>0</td>\n",
              "      <td>0</td>\n",
              "      <td>8</td>\n",
              "      <td>0</td>\n",
              "      <td>37</td>\n",
              "    </tr>\n",
              "    <tr>\n",
              "      <th>50</th>\n",
              "      <td>Wyoming</td>\n",
              "      <td>0</td>\n",
              "      <td>0</td>\n",
              "      <td>2</td>\n",
              "      <td>2</td>\n",
              "      <td>1</td>\n",
              "      <td>0</td>\n",
              "      <td>9</td>\n",
              "    </tr>\n",
              "  </tbody>\n",
              "</table>\n",
              "</div>"
            ],
            "text/plain": [
              "race           state  Asian  Black  ...  Not Informed  Other  White\n",
              "0             Alaska      2      3  ...             4      0     22\n",
              "1            Alabama      0     31  ...             9      0     63\n",
              "2           Arkansas      1     25  ...            11      0     46\n",
              "3            Arizona      0     17  ...            35      0    109\n",
              "4         California     30    125  ...           113      9    223\n",
              "5           Colorado      5     18  ...            31      2     95\n",
              "6        Connecticut      0      3  ...             1      0     11\n",
              "7                 DC      0     12  ...             0      0      1\n",
              "8           Delaware      0      5  ...             3      0      5\n",
              "9            Florida      1    113  ...            35      5    162\n",
              "10           Georgia      4     72  ...            23      0     79\n",
              "11            Hawaii      9      1  ...             1     15      3\n",
              "12              Iowa      0      7  ...             1      0     24\n",
              "13             Idaho      0      1  ...             4      0     31\n",
              "14          Illinois      0     59  ...             5      0     28\n",
              "15           Indiana      0     30  ...             7      0     58\n",
              "16            Kansas      0      6  ...             1      0     34\n",
              "17          Kentucky      1     15  ...             8      0     70\n",
              "18         Louisiana      2     62  ...             9      0     39\n",
              "19     Massachusetts      0      8  ...             2      1     17\n",
              "20          Maryland      1     47  ...             2      0     26\n",
              "21             Maine      0      1  ...             1      1     18\n",
              "22          Michigan      1     26  ...             8      1     44\n",
              "23         Minnesota      3     10  ...             1      3     38\n",
              "24          Missouri      1     49  ...            19      0     73\n",
              "25       Mississippi      1     23  ...             4      0     37\n",
              "26           Montana      0      0  ...             3      0     26\n",
              "27    North Carolina      1     52  ...            13      0     88\n",
              "28      North Dakota      0      0  ...             0      0      6\n",
              "29          Nebraska      0      5  ...             1      0     16\n",
              "30     New Hampshire      0      0  ...             1      0     12\n",
              "31        New Jersey      1     30  ...            10      0     21\n",
              "32        New Mexico      0      1  ...            14      0     27\n",
              "33            Nevada      2     15  ...            13      0     43\n",
              "34          New York      1     46  ...            11      0     36\n",
              "35              Ohio      2     56  ...            11      3     86\n",
              "36          Oklahoma      3     32  ...            17      0    102\n",
              "37            Oregon      0      7  ...            12      0     62\n",
              "38      Pennsylvania      0     42  ...            14      0     49\n",
              "39      Rhode Island      0      2  ...             0      0      1\n",
              "40    South Carolina      1     27  ...            11      0     50\n",
              "41      South Dakota      1      0  ...             3      0     10\n",
              "42         Tennessee      1     31  ...            19      1     91\n",
              "43             Texas      6    101  ...            57      3    179\n",
              "44              Utah      0      7  ...             5      1     39\n",
              "45          Virginia      1     41  ...             3      1     45\n",
              "46           Vermont      0      0  ...             1      0      7\n",
              "47        Washington      9     21  ...            28      2     68\n",
              "48         Wisconsin      2     22  ...             4      0     57\n",
              "49     West Virginia      1      8  ...             8      0     37\n",
              "50           Wyoming      0      0  ...             1      0      9\n",
              "\n",
              "[51 rows x 8 columns]"
            ]
          },
          "metadata": {
            "tags": []
          },
          "execution_count": 180
        }
      ]
    },
    {
      "cell_type": "code",
      "metadata": {
        "id": "vVFXzPtCFjoq",
        "colab_type": "code",
        "colab": {
          "base_uri": "https://localhost:8080/",
          "height": 423
        },
        "outputId": "91f87bac-8c8c-4988-8d38-02cefc055a3c"
      },
      "source": [
        "state_race_sort = state_race.sort_values('Black',ascending=False)\n",
        "\n",
        "state_race_graf =  state_race_sort.query('Black > 30')\n",
        "\n",
        "sns.set_style(\"whitegrid\")\n",
        "ax = sns.barplot(x= state_race_graf.state, \n",
        "                 y= state_race_graf.Black, \n",
        "                 data=state_race_graf, \n",
        "                 orient='v',\n",
        "                 palette=sns.color_palette(\"BuGn_r\", n_colors=len(state_race_graf) + 4))\n",
        "\n",
        "ax.figure.set_size_inches(15, 5)    # Personalizando o tamanho da figura\n",
        "\n",
        "ax.set_title('Black People per state', fontsize=18)    # Configurando o título do gráfico\n",
        "\n",
        "ax.set_xlabel('States', fontsize=14)    # Configurando o label do eixo X\n",
        "\n",
        "ax.set_ylabel('Black People', fontsize=14)    # Configurando o label do eixo Y\n",
        "plt.xticks(rotation=45)\n",
        "ax"
      ],
      "execution_count": 181,
      "outputs": [
        {
          "output_type": "execute_result",
          "data": {
            "text/plain": [
              "<matplotlib.axes._subplots.AxesSubplot at 0x7fec6c432b38>"
            ]
          },
          "metadata": {
            "tags": []
          },
          "execution_count": 181
        },
        {
          "output_type": "display_data",
          "data": {
            "image/png": "[encoded data removed]",
            "text/plain": [
              "<Figure size 1080x360 with 1 Axes>"
            ]
          },
          "metadata": {
            "tags": []
          }
        }
      ]
    },
    {
      "cell_type": "code",
      "metadata": {
        "id": "g4F22PgQQzzG",
        "colab_type": "code",
        "colab": {
          "base_uri": "https://localhost:8080/",
          "height": 1000
        },
        "outputId": "a3f533bd-ffa6-465b-f1e4-6e8c61f85515"
      },
      "source": [
        "xc = state_race.sort_values('Black',ascending=False)\n",
        "xc.head(100)"
      ],
      "execution_count": 182,
      "outputs": [
        {
          "output_type": "execute_result",
          "data": {
            "text/html": [
              "<div>\n",
              "<style scoped>\n",
              "    .dataframe tbody tr th:only-of-type {\n",
              "        vertical-align: middle;\n",
              "    }\n",
              "\n",
              "    .dataframe tbody tr th {\n",
              "        vertical-align: top;\n",
              "    }\n",
              "\n",
              "    .dataframe thead th {\n",
              "        text-align: right;\n",
              "    }\n",
              "</style>\n",
              "<table border=\"1\" class=\"dataframe\">\n",
              "  <thead>\n",
              "    <tr style=\"text-align: right;\">\n",
              "      <th>race</th>\n",
              "      <th>state</th>\n",
              "      <th>Asian</th>\n",
              "      <th>Black</th>\n",
              "      <th>Hispanic</th>\n",
              "      <th>Native American</th>\n",
              "      <th>Not Informed</th>\n",
              "      <th>Other</th>\n",
              "      <th>White</th>\n",
              "    </tr>\n",
              "  </thead>\n",
              "  <tbody>\n",
              "    <tr>\n",
              "      <th>4</th>\n",
              "      <td>California</td>\n",
              "      <td>30</td>\n",
              "      <td>125</td>\n",
              "      <td>321</td>\n",
              "      <td>4</td>\n",
              "      <td>113</td>\n",
              "      <td>9</td>\n",
              "      <td>223</td>\n",
              "    </tr>\n",
              "    <tr>\n",
              "      <th>9</th>\n",
              "      <td>Florida</td>\n",
              "      <td>1</td>\n",
              "      <td>113</td>\n",
              "      <td>52</td>\n",
              "      <td>0</td>\n",
              "      <td>35</td>\n",
              "      <td>5</td>\n",
              "      <td>162</td>\n",
              "    </tr>\n",
              "    <tr>\n",
              "      <th>43</th>\n",
              "      <td>Texas</td>\n",
              "      <td>6</td>\n",
              "      <td>101</td>\n",
              "      <td>147</td>\n",
              "      <td>1</td>\n",
              "      <td>57</td>\n",
              "      <td>3</td>\n",
              "      <td>179</td>\n",
              "    </tr>\n",
              "    <tr>\n",
              "      <th>10</th>\n",
              "      <td>Georgia</td>\n",
              "      <td>4</td>\n",
              "      <td>72</td>\n",
              "      <td>10</td>\n",
              "      <td>0</td>\n",
              "      <td>23</td>\n",
              "      <td>0</td>\n",
              "      <td>79</td>\n",
              "    </tr>\n",
              "    <tr>\n",
              "      <th>18</th>\n",
              "      <td>Louisiana</td>\n",
              "      <td>2</td>\n",
              "      <td>62</td>\n",
              "      <td>1</td>\n",
              "      <td>0</td>\n",
              "      <td>9</td>\n",
              "      <td>0</td>\n",
              "      <td>39</td>\n",
              "    </tr>\n",
              "    <tr>\n",
              "      <th>14</th>\n",
              "      <td>Illinois</td>\n",
              "      <td>0</td>\n",
              "      <td>59</td>\n",
              "      <td>13</td>\n",
              "      <td>0</td>\n",
              "      <td>5</td>\n",
              "      <td>0</td>\n",
              "      <td>28</td>\n",
              "    </tr>\n",
              "    <tr>\n",
              "      <th>35</th>\n",
              "      <td>Ohio</td>\n",
              "      <td>2</td>\n",
              "      <td>56</td>\n",
              "      <td>1</td>\n",
              "      <td>0</td>\n",
              "      <td>11</td>\n",
              "      <td>3</td>\n",
              "      <td>86</td>\n",
              "    </tr>\n",
              "    <tr>\n",
              "      <th>27</th>\n",
              "      <td>North Carolina</td>\n",
              "      <td>1</td>\n",
              "      <td>52</td>\n",
              "      <td>8</td>\n",
              "      <td>0</td>\n",
              "      <td>13</td>\n",
              "      <td>0</td>\n",
              "      <td>88</td>\n",
              "    </tr>\n",
              "    <tr>\n",
              "      <th>24</th>\n",
              "      <td>Missouri</td>\n",
              "      <td>1</td>\n",
              "      <td>49</td>\n",
              "      <td>3</td>\n",
              "      <td>0</td>\n",
              "      <td>19</td>\n",
              "      <td>0</td>\n",
              "      <td>73</td>\n",
              "    </tr>\n",
              "    <tr>\n",
              "      <th>20</th>\n",
              "      <td>Maryland</td>\n",
              "      <td>1</td>\n",
              "      <td>47</td>\n",
              "      <td>3</td>\n",
              "      <td>0</td>\n",
              "      <td>2</td>\n",
              "      <td>0</td>\n",
              "      <td>26</td>\n",
              "    </tr>\n",
              "    <tr>\n",
              "      <th>34</th>\n",
              "      <td>New York</td>\n",
              "      <td>1</td>\n",
              "      <td>46</td>\n",
              "      <td>8</td>\n",
              "      <td>0</td>\n",
              "      <td>11</td>\n",
              "      <td>0</td>\n",
              "      <td>36</td>\n",
              "    </tr>\n",
              "    <tr>\n",
              "      <th>38</th>\n",
              "      <td>Pennsylvania</td>\n",
              "      <td>0</td>\n",
              "      <td>42</td>\n",
              "      <td>6</td>\n",
              "      <td>0</td>\n",
              "      <td>14</td>\n",
              "      <td>0</td>\n",
              "      <td>49</td>\n",
              "    </tr>\n",
              "    <tr>\n",
              "      <th>45</th>\n",
              "      <td>Virginia</td>\n",
              "      <td>1</td>\n",
              "      <td>41</td>\n",
              "      <td>4</td>\n",
              "      <td>1</td>\n",
              "      <td>3</td>\n",
              "      <td>1</td>\n",
              "      <td>45</td>\n",
              "    </tr>\n",
              "    <tr>\n",
              "      <th>36</th>\n",
              "      <td>Oklahoma</td>\n",
              "      <td>3</td>\n",
              "      <td>32</td>\n",
              "      <td>9</td>\n",
              "      <td>7</td>\n",
              "      <td>17</td>\n",
              "      <td>0</td>\n",
              "      <td>102</td>\n",
              "    </tr>\n",
              "    <tr>\n",
              "      <th>1</th>\n",
              "      <td>Alabama</td>\n",
              "      <td>0</td>\n",
              "      <td>31</td>\n",
              "      <td>1</td>\n",
              "      <td>0</td>\n",
              "      <td>9</td>\n",
              "      <td>0</td>\n",
              "      <td>63</td>\n",
              "    </tr>\n",
              "    <tr>\n",
              "      <th>42</th>\n",
              "      <td>Tennessee</td>\n",
              "      <td>1</td>\n",
              "      <td>31</td>\n",
              "      <td>4</td>\n",
              "      <td>0</td>\n",
              "      <td>19</td>\n",
              "      <td>1</td>\n",
              "      <td>91</td>\n",
              "    </tr>\n",
              "    <tr>\n",
              "      <th>15</th>\n",
              "      <td>Indiana</td>\n",
              "      <td>0</td>\n",
              "      <td>30</td>\n",
              "      <td>4</td>\n",
              "      <td>0</td>\n",
              "      <td>7</td>\n",
              "      <td>0</td>\n",
              "      <td>58</td>\n",
              "    </tr>\n",
              "    <tr>\n",
              "      <th>31</th>\n",
              "      <td>New Jersey</td>\n",
              "      <td>1</td>\n",
              "      <td>30</td>\n",
              "      <td>8</td>\n",
              "      <td>0</td>\n",
              "      <td>10</td>\n",
              "      <td>0</td>\n",
              "      <td>21</td>\n",
              "    </tr>\n",
              "    <tr>\n",
              "      <th>40</th>\n",
              "      <td>South Carolina</td>\n",
              "      <td>1</td>\n",
              "      <td>27</td>\n",
              "      <td>2</td>\n",
              "      <td>0</td>\n",
              "      <td>11</td>\n",
              "      <td>0</td>\n",
              "      <td>50</td>\n",
              "    </tr>\n",
              "    <tr>\n",
              "      <th>22</th>\n",
              "      <td>Michigan</td>\n",
              "      <td>1</td>\n",
              "      <td>26</td>\n",
              "      <td>2</td>\n",
              "      <td>0</td>\n",
              "      <td>8</td>\n",
              "      <td>1</td>\n",
              "      <td>44</td>\n",
              "    </tr>\n",
              "    <tr>\n",
              "      <th>2</th>\n",
              "      <td>Arkansas</td>\n",
              "      <td>1</td>\n",
              "      <td>25</td>\n",
              "      <td>0</td>\n",
              "      <td>0</td>\n",
              "      <td>11</td>\n",
              "      <td>0</td>\n",
              "      <td>46</td>\n",
              "    </tr>\n",
              "    <tr>\n",
              "      <th>25</th>\n",
              "      <td>Mississippi</td>\n",
              "      <td>1</td>\n",
              "      <td>23</td>\n",
              "      <td>1</td>\n",
              "      <td>0</td>\n",
              "      <td>4</td>\n",
              "      <td>0</td>\n",
              "      <td>37</td>\n",
              "    </tr>\n",
              "    <tr>\n",
              "      <th>48</th>\n",
              "      <td>Wisconsin</td>\n",
              "      <td>2</td>\n",
              "      <td>22</td>\n",
              "      <td>6</td>\n",
              "      <td>4</td>\n",
              "      <td>4</td>\n",
              "      <td>0</td>\n",
              "      <td>57</td>\n",
              "    </tr>\n",
              "    <tr>\n",
              "      <th>47</th>\n",
              "      <td>Washington</td>\n",
              "      <td>9</td>\n",
              "      <td>21</td>\n",
              "      <td>21</td>\n",
              "      <td>7</td>\n",
              "      <td>28</td>\n",
              "      <td>2</td>\n",
              "      <td>68</td>\n",
              "    </tr>\n",
              "    <tr>\n",
              "      <th>5</th>\n",
              "      <td>Colorado</td>\n",
              "      <td>5</td>\n",
              "      <td>18</td>\n",
              "      <td>49</td>\n",
              "      <td>4</td>\n",
              "      <td>31</td>\n",
              "      <td>2</td>\n",
              "      <td>95</td>\n",
              "    </tr>\n",
              "    <tr>\n",
              "      <th>3</th>\n",
              "      <td>Arizona</td>\n",
              "      <td>0</td>\n",
              "      <td>17</td>\n",
              "      <td>84</td>\n",
              "      <td>13</td>\n",
              "      <td>35</td>\n",
              "      <td>0</td>\n",
              "      <td>109</td>\n",
              "    </tr>\n",
              "    <tr>\n",
              "      <th>17</th>\n",
              "      <td>Kentucky</td>\n",
              "      <td>1</td>\n",
              "      <td>15</td>\n",
              "      <td>3</td>\n",
              "      <td>1</td>\n",
              "      <td>8</td>\n",
              "      <td>0</td>\n",
              "      <td>70</td>\n",
              "    </tr>\n",
              "    <tr>\n",
              "      <th>33</th>\n",
              "      <td>Nevada</td>\n",
              "      <td>2</td>\n",
              "      <td>15</td>\n",
              "      <td>28</td>\n",
              "      <td>1</td>\n",
              "      <td>13</td>\n",
              "      <td>0</td>\n",
              "      <td>43</td>\n",
              "    </tr>\n",
              "    <tr>\n",
              "      <th>7</th>\n",
              "      <td>DC</td>\n",
              "      <td>0</td>\n",
              "      <td>12</td>\n",
              "      <td>0</td>\n",
              "      <td>0</td>\n",
              "      <td>0</td>\n",
              "      <td>0</td>\n",
              "      <td>1</td>\n",
              "    </tr>\n",
              "    <tr>\n",
              "      <th>23</th>\n",
              "      <td>Minnesota</td>\n",
              "      <td>3</td>\n",
              "      <td>10</td>\n",
              "      <td>3</td>\n",
              "      <td>4</td>\n",
              "      <td>1</td>\n",
              "      <td>3</td>\n",
              "      <td>38</td>\n",
              "    </tr>\n",
              "    <tr>\n",
              "      <th>19</th>\n",
              "      <td>Massachusetts</td>\n",
              "      <td>0</td>\n",
              "      <td>8</td>\n",
              "      <td>7</td>\n",
              "      <td>0</td>\n",
              "      <td>2</td>\n",
              "      <td>1</td>\n",
              "      <td>17</td>\n",
              "    </tr>\n",
              "    <tr>\n",
              "      <th>49</th>\n",
              "      <td>West Virginia</td>\n",
              "      <td>1</td>\n",
              "      <td>8</td>\n",
              "      <td>0</td>\n",
              "      <td>0</td>\n",
              "      <td>8</td>\n",
              "      <td>0</td>\n",
              "      <td>37</td>\n",
              "    </tr>\n",
              "    <tr>\n",
              "      <th>44</th>\n",
              "      <td>Utah</td>\n",
              "      <td>0</td>\n",
              "      <td>7</td>\n",
              "      <td>12</td>\n",
              "      <td>2</td>\n",
              "      <td>5</td>\n",
              "      <td>1</td>\n",
              "      <td>39</td>\n",
              "    </tr>\n",
              "    <tr>\n",
              "      <th>12</th>\n",
              "      <td>Iowa</td>\n",
              "      <td>0</td>\n",
              "      <td>7</td>\n",
              "      <td>0</td>\n",
              "      <td>0</td>\n",
              "      <td>1</td>\n",
              "      <td>0</td>\n",
              "      <td>24</td>\n",
              "    </tr>\n",
              "    <tr>\n",
              "      <th>37</th>\n",
              "      <td>Oregon</td>\n",
              "      <td>0</td>\n",
              "      <td>7</td>\n",
              "      <td>6</td>\n",
              "      <td>0</td>\n",
              "      <td>12</td>\n",
              "      <td>0</td>\n",
              "      <td>62</td>\n",
              "    </tr>\n",
              "    <tr>\n",
              "      <th>16</th>\n",
              "      <td>Kansas</td>\n",
              "      <td>0</td>\n",
              "      <td>6</td>\n",
              "      <td>8</td>\n",
              "      <td>1</td>\n",
              "      <td>1</td>\n",
              "      <td>0</td>\n",
              "      <td>34</td>\n",
              "    </tr>\n",
              "    <tr>\n",
              "      <th>29</th>\n",
              "      <td>Nebraska</td>\n",
              "      <td>0</td>\n",
              "      <td>5</td>\n",
              "      <td>2</td>\n",
              "      <td>1</td>\n",
              "      <td>1</td>\n",
              "      <td>0</td>\n",
              "      <td>16</td>\n",
              "    </tr>\n",
              "    <tr>\n",
              "      <th>8</th>\n",
              "      <td>Delaware</td>\n",
              "      <td>0</td>\n",
              "      <td>5</td>\n",
              "      <td>0</td>\n",
              "      <td>0</td>\n",
              "      <td>3</td>\n",
              "      <td>0</td>\n",
              "      <td>5</td>\n",
              "    </tr>\n",
              "    <tr>\n",
              "      <th>0</th>\n",
              "      <td>Alaska</td>\n",
              "      <td>2</td>\n",
              "      <td>3</td>\n",
              "      <td>0</td>\n",
              "      <td>9</td>\n",
              "      <td>4</td>\n",
              "      <td>0</td>\n",
              "      <td>22</td>\n",
              "    </tr>\n",
              "    <tr>\n",
              "      <th>6</th>\n",
              "      <td>Connecticut</td>\n",
              "      <td>0</td>\n",
              "      <td>3</td>\n",
              "      <td>6</td>\n",
              "      <td>0</td>\n",
              "      <td>1</td>\n",
              "      <td>0</td>\n",
              "      <td>11</td>\n",
              "    </tr>\n",
              "    <tr>\n",
              "      <th>39</th>\n",
              "      <td>Rhode Island</td>\n",
              "      <td>0</td>\n",
              "      <td>2</td>\n",
              "      <td>1</td>\n",
              "      <td>0</td>\n",
              "      <td>0</td>\n",
              "      <td>0</td>\n",
              "      <td>1</td>\n",
              "    </tr>\n",
              "    <tr>\n",
              "      <th>32</th>\n",
              "      <td>New Mexico</td>\n",
              "      <td>0</td>\n",
              "      <td>1</td>\n",
              "      <td>64</td>\n",
              "      <td>2</td>\n",
              "      <td>14</td>\n",
              "      <td>0</td>\n",
              "      <td>27</td>\n",
              "    </tr>\n",
              "    <tr>\n",
              "      <th>21</th>\n",
              "      <td>Maine</td>\n",
              "      <td>0</td>\n",
              "      <td>1</td>\n",
              "      <td>1</td>\n",
              "      <td>0</td>\n",
              "      <td>1</td>\n",
              "      <td>1</td>\n",
              "      <td>18</td>\n",
              "    </tr>\n",
              "    <tr>\n",
              "      <th>13</th>\n",
              "      <td>Idaho</td>\n",
              "      <td>0</td>\n",
              "      <td>1</td>\n",
              "      <td>5</td>\n",
              "      <td>1</td>\n",
              "      <td>4</td>\n",
              "      <td>0</td>\n",
              "      <td>31</td>\n",
              "    </tr>\n",
              "    <tr>\n",
              "      <th>11</th>\n",
              "      <td>Hawaii</td>\n",
              "      <td>9</td>\n",
              "      <td>1</td>\n",
              "      <td>1</td>\n",
              "      <td>0</td>\n",
              "      <td>1</td>\n",
              "      <td>15</td>\n",
              "      <td>3</td>\n",
              "    </tr>\n",
              "    <tr>\n",
              "      <th>41</th>\n",
              "      <td>South Dakota</td>\n",
              "      <td>1</td>\n",
              "      <td>0</td>\n",
              "      <td>0</td>\n",
              "      <td>3</td>\n",
              "      <td>3</td>\n",
              "      <td>0</td>\n",
              "      <td>10</td>\n",
              "    </tr>\n",
              "    <tr>\n",
              "      <th>30</th>\n",
              "      <td>New Hampshire</td>\n",
              "      <td>0</td>\n",
              "      <td>0</td>\n",
              "      <td>0</td>\n",
              "      <td>0</td>\n",
              "      <td>1</td>\n",
              "      <td>0</td>\n",
              "      <td>12</td>\n",
              "    </tr>\n",
              "    <tr>\n",
              "      <th>28</th>\n",
              "      <td>North Dakota</td>\n",
              "      <td>0</td>\n",
              "      <td>0</td>\n",
              "      <td>0</td>\n",
              "      <td>5</td>\n",
              "      <td>0</td>\n",
              "      <td>0</td>\n",
              "      <td>6</td>\n",
              "    </tr>\n",
              "    <tr>\n",
              "      <th>26</th>\n",
              "      <td>Montana</td>\n",
              "      <td>0</td>\n",
              "      <td>0</td>\n",
              "      <td>0</td>\n",
              "      <td>4</td>\n",
              "      <td>3</td>\n",
              "      <td>0</td>\n",
              "      <td>26</td>\n",
              "    </tr>\n",
              "    <tr>\n",
              "      <th>46</th>\n",
              "      <td>Vermont</td>\n",
              "      <td>0</td>\n",
              "      <td>0</td>\n",
              "      <td>0</td>\n",
              "      <td>1</td>\n",
              "      <td>1</td>\n",
              "      <td>0</td>\n",
              "      <td>7</td>\n",
              "    </tr>\n",
              "    <tr>\n",
              "      <th>50</th>\n",
              "      <td>Wyoming</td>\n",
              "      <td>0</td>\n",
              "      <td>0</td>\n",
              "      <td>2</td>\n",
              "      <td>2</td>\n",
              "      <td>1</td>\n",
              "      <td>0</td>\n",
              "      <td>9</td>\n",
              "    </tr>\n",
              "  </tbody>\n",
              "</table>\n",
              "</div>"
            ],
            "text/plain": [
              "race           state  Asian  Black  ...  Not Informed  Other  White\n",
              "4         California     30    125  ...           113      9    223\n",
              "9            Florida      1    113  ...            35      5    162\n",
              "43             Texas      6    101  ...            57      3    179\n",
              "10           Georgia      4     72  ...            23      0     79\n",
              "18         Louisiana      2     62  ...             9      0     39\n",
              "14          Illinois      0     59  ...             5      0     28\n",
              "35              Ohio      2     56  ...            11      3     86\n",
              "27    North Carolina      1     52  ...            13      0     88\n",
              "24          Missouri      1     49  ...            19      0     73\n",
              "20          Maryland      1     47  ...             2      0     26\n",
              "34          New York      1     46  ...            11      0     36\n",
              "38      Pennsylvania      0     42  ...            14      0     49\n",
              "45          Virginia      1     41  ...             3      1     45\n",
              "36          Oklahoma      3     32  ...            17      0    102\n",
              "1            Alabama      0     31  ...             9      0     63\n",
              "42         Tennessee      1     31  ...            19      1     91\n",
              "15           Indiana      0     30  ...             7      0     58\n",
              "31        New Jersey      1     30  ...            10      0     21\n",
              "40    South Carolina      1     27  ...            11      0     50\n",
              "22          Michigan      1     26  ...             8      1     44\n",
              "2           Arkansas      1     25  ...            11      0     46\n",
              "25       Mississippi      1     23  ...             4      0     37\n",
              "48         Wisconsin      2     22  ...             4      0     57\n",
              "47        Washington      9     21  ...            28      2     68\n",
              "5           Colorado      5     18  ...            31      2     95\n",
              "3            Arizona      0     17  ...            35      0    109\n",
              "17          Kentucky      1     15  ...             8      0     70\n",
              "33            Nevada      2     15  ...            13      0     43\n",
              "7                 DC      0     12  ...             0      0      1\n",
              "23         Minnesota      3     10  ...             1      3     38\n",
              "19     Massachusetts      0      8  ...             2      1     17\n",
              "49     West Virginia      1      8  ...             8      0     37\n",
              "44              Utah      0      7  ...             5      1     39\n",
              "12              Iowa      0      7  ...             1      0     24\n",
              "37            Oregon      0      7  ...            12      0     62\n",
              "16            Kansas      0      6  ...             1      0     34\n",
              "29          Nebraska      0      5  ...             1      0     16\n",
              "8           Delaware      0      5  ...             3      0      5\n",
              "0             Alaska      2      3  ...             4      0     22\n",
              "6        Connecticut      0      3  ...             1      0     11\n",
              "39      Rhode Island      0      2  ...             0      0      1\n",
              "32        New Mexico      0      1  ...            14      0     27\n",
              "21             Maine      0      1  ...             1      1     18\n",
              "13             Idaho      0      1  ...             4      0     31\n",
              "11            Hawaii      9      1  ...             1     15      3\n",
              "41      South Dakota      1      0  ...             3      0     10\n",
              "30     New Hampshire      0      0  ...             1      0     12\n",
              "28      North Dakota      0      0  ...             0      0      6\n",
              "26           Montana      0      0  ...             3      0     26\n",
              "46           Vermont      0      0  ...             1      0      7\n",
              "50           Wyoming      0      0  ...             1      0      9\n",
              "\n",
              "[51 rows x 8 columns]"
            ]
          },
          "metadata": {
            "tags": []
          },
          "execution_count": 182
        }
      ]
    },
    {
      "cell_type": "code",
      "metadata": {
        "id": "35NzBsYzPzG_",
        "colab_type": "code",
        "colab": {
          "base_uri": "https://localhost:8080/",
          "height": 68
        },
        "outputId": "7365414e-2f43-4030-c711-7c808c473508"
      },
      "source": [
        "# Validations\n",
        "Fatal_police.query('state == \"OK\"')['gender'].value_counts()"
      ],
      "execution_count": 183,
      "outputs": [
        {
          "output_type": "execute_result",
          "data": {
            "text/plain": [
              "M    167\n",
              "F      3\n",
              "Name: gender, dtype: int64"
            ]
          },
          "metadata": {
            "tags": []
          },
          "execution_count": 183
        }
      ]
    },
    {
      "cell_type": "code",
      "metadata": {
        "id": "glZjHwEgxZPc",
        "colab_type": "code",
        "colab": {
          "base_uri": "https://localhost:8080/",
          "height": 119
        },
        "outputId": "288101ab-6438-431b-c886-62857f2d7396"
      },
      "source": [
        "# Per State, count female\n",
        "Fatal_police.query('gender == \"F\"')['state'].value_counts().head()"
      ],
      "execution_count": 184,
      "outputs": [
        {
          "output_type": "execute_result",
          "data": {
            "text/plain": [
              "CA    40\n",
              "TX    32\n",
              "FL    21\n",
              "AZ    17\n",
              "GA    13\n",
              "Name: state, dtype: int64"
            ]
          },
          "metadata": {
            "tags": []
          },
          "execution_count": 184
        }
      ]
    },
    {
      "cell_type": "code",
      "metadata": {
        "id": "mFpybbs3vVcK",
        "colab_type": "code",
        "colab": {
          "base_uri": "https://localhost:8080/",
          "height": 1000
        },
        "outputId": "55310616-1d06-4cf0-c9df-7fb61aa94e18"
      },
      "source": [
        "# Genero por estado\n",
        "# qa = pd.crosstab(Fatal_police.state, \n",
        "#                  Fatal_police.gender,                                 \n",
        "#                  aggfunc = {'count'},\n",
        "#                  values = Fatal_police.id).round(2)\n",
        "\n",
        "# qa.rename(index = states_names, inplace = True)\n",
        "# qa.rename(columns = sex, inplace = True)\n",
        "# qa\n",
        "\n",
        "state_gender = pd.crosstab(Fatal_police.state, Fatal_police.gender)\n",
        "state_gender.rename(index = states_names, inplace = True)\n",
        "state_gender.rename(columns = sex, inplace = True)\n",
        "state_gender"
      ],
      "execution_count": 185,
      "outputs": [
        {
          "output_type": "execute_result",
          "data": {
            "text/html": [
              "<div>\n",
              "<style scoped>\n",
              "    .dataframe tbody tr th:only-of-type {\n",
              "        vertical-align: middle;\n",
              "    }\n",
              "\n",
              "    .dataframe tbody tr th {\n",
              "        vertical-align: top;\n",
              "    }\n",
              "\n",
              "    .dataframe thead th {\n",
              "        text-align: right;\n",
              "    }\n",
              "</style>\n",
              "<table border=\"1\" class=\"dataframe\">\n",
              "  <thead>\n",
              "    <tr style=\"text-align: right;\">\n",
              "      <th>gender</th>\n",
              "      <th>Female</th>\n",
              "      <th>Male</th>\n",
              "    </tr>\n",
              "    <tr>\n",
              "      <th>state</th>\n",
              "      <th></th>\n",
              "      <th></th>\n",
              "    </tr>\n",
              "  </thead>\n",
              "  <tbody>\n",
              "    <tr>\n",
              "      <th>Alaska</th>\n",
              "      <td>2</td>\n",
              "      <td>38</td>\n",
              "    </tr>\n",
              "    <tr>\n",
              "      <th>Alabama</th>\n",
              "      <td>7</td>\n",
              "      <td>97</td>\n",
              "    </tr>\n",
              "    <tr>\n",
              "      <th>Arkansas</th>\n",
              "      <td>1</td>\n",
              "      <td>82</td>\n",
              "    </tr>\n",
              "    <tr>\n",
              "      <th>Arizona</th>\n",
              "      <td>17</td>\n",
              "      <td>241</td>\n",
              "    </tr>\n",
              "    <tr>\n",
              "      <th>California</th>\n",
              "      <td>40</td>\n",
              "      <td>785</td>\n",
              "    </tr>\n",
              "    <tr>\n",
              "      <th>Colorado</th>\n",
              "      <td>6</td>\n",
              "      <td>198</td>\n",
              "    </tr>\n",
              "    <tr>\n",
              "      <th>Connecticut</th>\n",
              "      <td>0</td>\n",
              "      <td>21</td>\n",
              "    </tr>\n",
              "    <tr>\n",
              "      <th>DC</th>\n",
              "      <td>2</td>\n",
              "      <td>11</td>\n",
              "    </tr>\n",
              "    <tr>\n",
              "      <th>Delaware</th>\n",
              "      <td>0</td>\n",
              "      <td>13</td>\n",
              "    </tr>\n",
              "    <tr>\n",
              "      <th>Florida</th>\n",
              "      <td>21</td>\n",
              "      <td>347</td>\n",
              "    </tr>\n",
              "    <tr>\n",
              "      <th>Georgia</th>\n",
              "      <td>13</td>\n",
              "      <td>174</td>\n",
              "    </tr>\n",
              "    <tr>\n",
              "      <th>Hawaii</th>\n",
              "      <td>2</td>\n",
              "      <td>28</td>\n",
              "    </tr>\n",
              "    <tr>\n",
              "      <th>Iowa</th>\n",
              "      <td>3</td>\n",
              "      <td>29</td>\n",
              "    </tr>\n",
              "    <tr>\n",
              "      <th>Idaho</th>\n",
              "      <td>2</td>\n",
              "      <td>40</td>\n",
              "    </tr>\n",
              "    <tr>\n",
              "      <th>Illinois</th>\n",
              "      <td>4</td>\n",
              "      <td>101</td>\n",
              "    </tr>\n",
              "    <tr>\n",
              "      <th>Indiana</th>\n",
              "      <td>2</td>\n",
              "      <td>97</td>\n",
              "    </tr>\n",
              "    <tr>\n",
              "      <th>Kansas</th>\n",
              "      <td>3</td>\n",
              "      <td>47</td>\n",
              "    </tr>\n",
              "    <tr>\n",
              "      <th>Kentucky</th>\n",
              "      <td>4</td>\n",
              "      <td>94</td>\n",
              "    </tr>\n",
              "    <tr>\n",
              "      <th>Louisiana</th>\n",
              "      <td>2</td>\n",
              "      <td>111</td>\n",
              "    </tr>\n",
              "    <tr>\n",
              "      <th>Massachusetts</th>\n",
              "      <td>0</td>\n",
              "      <td>35</td>\n",
              "    </tr>\n",
              "    <tr>\n",
              "      <th>Maryland</th>\n",
              "      <td>4</td>\n",
              "      <td>75</td>\n",
              "    </tr>\n",
              "    <tr>\n",
              "      <th>Maine</th>\n",
              "      <td>1</td>\n",
              "      <td>21</td>\n",
              "    </tr>\n",
              "    <tr>\n",
              "      <th>Michigan</th>\n",
              "      <td>2</td>\n",
              "      <td>80</td>\n",
              "    </tr>\n",
              "    <tr>\n",
              "      <th>Minnesota</th>\n",
              "      <td>2</td>\n",
              "      <td>60</td>\n",
              "    </tr>\n",
              "    <tr>\n",
              "      <th>Missouri</th>\n",
              "      <td>10</td>\n",
              "      <td>135</td>\n",
              "    </tr>\n",
              "    <tr>\n",
              "      <th>Mississippi</th>\n",
              "      <td>2</td>\n",
              "      <td>64</td>\n",
              "    </tr>\n",
              "    <tr>\n",
              "      <th>Montana</th>\n",
              "      <td>1</td>\n",
              "      <td>32</td>\n",
              "    </tr>\n",
              "    <tr>\n",
              "      <th>North Carolina</th>\n",
              "      <td>5</td>\n",
              "      <td>157</td>\n",
              "    </tr>\n",
              "    <tr>\n",
              "      <th>North Dakota</th>\n",
              "      <td>0</td>\n",
              "      <td>11</td>\n",
              "    </tr>\n",
              "    <tr>\n",
              "      <th>Nebraska</th>\n",
              "      <td>1</td>\n",
              "      <td>24</td>\n",
              "    </tr>\n",
              "    <tr>\n",
              "      <th>New Hampshire</th>\n",
              "      <td>0</td>\n",
              "      <td>13</td>\n",
              "    </tr>\n",
              "    <tr>\n",
              "      <th>New Jersey</th>\n",
              "      <td>2</td>\n",
              "      <td>68</td>\n",
              "    </tr>\n",
              "    <tr>\n",
              "      <th>New Mexico</th>\n",
              "      <td>6</td>\n",
              "      <td>102</td>\n",
              "    </tr>\n",
              "    <tr>\n",
              "      <th>Nevada</th>\n",
              "      <td>3</td>\n",
              "      <td>99</td>\n",
              "    </tr>\n",
              "    <tr>\n",
              "      <th>New York</th>\n",
              "      <td>4</td>\n",
              "      <td>98</td>\n",
              "    </tr>\n",
              "    <tr>\n",
              "      <th>Ohio</th>\n",
              "      <td>6</td>\n",
              "      <td>153</td>\n",
              "    </tr>\n",
              "    <tr>\n",
              "      <th>Oklahoma</th>\n",
              "      <td>3</td>\n",
              "      <td>167</td>\n",
              "    </tr>\n",
              "    <tr>\n",
              "      <th>Oregon</th>\n",
              "      <td>2</td>\n",
              "      <td>85</td>\n",
              "    </tr>\n",
              "    <tr>\n",
              "      <th>Pennsylvania</th>\n",
              "      <td>3</td>\n",
              "      <td>108</td>\n",
              "    </tr>\n",
              "    <tr>\n",
              "      <th>Rhode Island</th>\n",
              "      <td>0</td>\n",
              "      <td>4</td>\n",
              "    </tr>\n",
              "    <tr>\n",
              "      <th>South Carolina</th>\n",
              "      <td>4</td>\n",
              "      <td>87</td>\n",
              "    </tr>\n",
              "    <tr>\n",
              "      <th>South Dakota</th>\n",
              "      <td>0</td>\n",
              "      <td>17</td>\n",
              "    </tr>\n",
              "    <tr>\n",
              "      <th>Tennessee</th>\n",
              "      <td>7</td>\n",
              "      <td>140</td>\n",
              "    </tr>\n",
              "    <tr>\n",
              "      <th>Texas</th>\n",
              "      <td>32</td>\n",
              "      <td>462</td>\n",
              "    </tr>\n",
              "    <tr>\n",
              "      <th>Utah</th>\n",
              "      <td>0</td>\n",
              "      <td>66</td>\n",
              "    </tr>\n",
              "    <tr>\n",
              "      <th>Virginia</th>\n",
              "      <td>6</td>\n",
              "      <td>90</td>\n",
              "    </tr>\n",
              "    <tr>\n",
              "      <th>Vermont</th>\n",
              "      <td>0</td>\n",
              "      <td>9</td>\n",
              "    </tr>\n",
              "    <tr>\n",
              "      <th>Washington</th>\n",
              "      <td>5</td>\n",
              "      <td>151</td>\n",
              "    </tr>\n",
              "    <tr>\n",
              "      <th>Wisconsin</th>\n",
              "      <td>1</td>\n",
              "      <td>94</td>\n",
              "    </tr>\n",
              "    <tr>\n",
              "      <th>West Virginia</th>\n",
              "      <td>2</td>\n",
              "      <td>52</td>\n",
              "    </tr>\n",
              "    <tr>\n",
              "      <th>Wyoming</th>\n",
              "      <td>1</td>\n",
              "      <td>13</td>\n",
              "    </tr>\n",
              "  </tbody>\n",
              "</table>\n",
              "</div>"
            ],
            "text/plain": [
              "gender          Female  Male\n",
              "state                       \n",
              "Alaska               2    38\n",
              "Alabama              7    97\n",
              "Arkansas             1    82\n",
              "Arizona             17   241\n",
              "California          40   785\n",
              "Colorado             6   198\n",
              "Connecticut          0    21\n",
              "DC                   2    11\n",
              "Delaware             0    13\n",
              "Florida             21   347\n",
              "Georgia             13   174\n",
              "Hawaii               2    28\n",
              "Iowa                 3    29\n",
              "Idaho                2    40\n",
              "Illinois             4   101\n",
              "Indiana              2    97\n",
              "Kansas               3    47\n",
              "Kentucky             4    94\n",
              "Louisiana            2   111\n",
              "Massachusetts        0    35\n",
              "Maryland             4    75\n",
              "Maine                1    21\n",
              "Michigan             2    80\n",
              "Minnesota            2    60\n",
              "Missouri            10   135\n",
              "Mississippi          2    64\n",
              "Montana              1    32\n",
              "North Carolina       5   157\n",
              "North Dakota         0    11\n",
              "Nebraska             1    24\n",
              "New Hampshire        0    13\n",
              "New Jersey           2    68\n",
              "New Mexico           6   102\n",
              "Nevada               3    99\n",
              "New York             4    98\n",
              "Ohio                 6   153\n",
              "Oklahoma             3   167\n",
              "Oregon               2    85\n",
              "Pennsylvania         3   108\n",
              "Rhode Island         0     4\n",
              "South Carolina       4    87\n",
              "South Dakota         0    17\n",
              "Tennessee            7   140\n",
              "Texas               32   462\n",
              "Utah                 0    66\n",
              "Virginia             6    90\n",
              "Vermont              0     9\n",
              "Washington           5   151\n",
              "Wisconsin            1    94\n",
              "West Virginia        2    52\n",
              "Wyoming              1    13"
            ]
          },
          "metadata": {
            "tags": []
          },
          "execution_count": 185
        }
      ]
    },
    {
      "cell_type": "code",
      "metadata": {
        "id": "RTvOUohr2McQ",
        "colab_type": "code",
        "colab": {}
      },
      "source": [
        ""
      ],
      "execution_count": 185,
      "outputs": []
    }
  ]
}