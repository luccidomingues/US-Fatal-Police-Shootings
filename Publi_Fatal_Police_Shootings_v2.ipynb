{
  "nbformat": 4,
  "nbformat_minor": 0,
  "metadata": {
    "colab": {
      "name": "Publi_Fatal Police Shootings_v2.ipynb",
      "provenance": [],
      "collapsed_sections": [
        "owTg0kqFRP3B",
        "UFADXYFIVGAE"
      ],
      "toc_visible": true,
      "authorship_tag": "ABX9TyNmmRJuyuz8SJXJ0AMgczWq",
      "include_colab_link": true
    },
    "kernelspec": {
      "name": "python3",
      "display_name": "Python 3"
    }
  },
  "cells": [
    {
      "cell_type": "markdown",
      "metadata": {
        "id": "view-in-github",
        "colab_type": "text"
      },
      "source": [
        "<a href=\"https://colab.research.google.com/github/luccidomingues/US-Fatal-Police-Shootings/blob/master/Publi_Fatal_Police_Shootings_v2.ipynb\" target=\"_parent\"><img src=\"https://colab.research.google.com/assets/colab-badge.svg\" alt=\"Open In Colab\"/></a>"
      ]
    },
    {
      "cell_type": "markdown",
      "metadata": {
        "id": "PS31NHEn8el4",
        "colab_type": "text"
      },
      "source": [
        "## Importando bibliotecas"
      ]
    },
    {
      "cell_type": "code",
      "metadata": {
        "id": "wO4vZJgEdATX",
        "colab_type": "code",
        "colab": {
          "base_uri": "https://localhost:8080/",
          "height": 71
        },
        "outputId": "c50a2a9b-f46a-4701-9afb-437e8e6ba462"
      },
      "source": [
        "## Importando bibliotecas\n",
        "import matplotlib.pyplot as plt\n",
        "%matplotlib inline\n",
        "\n",
        "import pandas as pd\n",
        "import numpy as np\n",
        "import seaborn as sns"
      ],
      "execution_count": null,
      "outputs": [
        {
          "output_type": "stream",
          "text": [
            "/usr/local/lib/python3.6/dist-packages/statsmodels/tools/_testing.py:19: FutureWarning: pandas.util.testing is deprecated. Use the functions in the public API at pandas.testing instead.\n",
            "  import pandas.util.testing as tm\n"
          ],
          "name": "stderr"
        }
      ]
    },
    {
      "cell_type": "markdown",
      "metadata": {
        "id": "26b2I5uUxlfi",
        "colab_type": "text"
      },
      "source": [
        "Black Americans are disproportionately killed by police.\n",
        "\n",
        "Although half of the people shot and killed by police are white, black Americans are shot at a disproportionate rate. They account for just 13 percent of the U.S. population, but more than a quarter of police shooting victims. The disparity is even more pronounced among unarmed victims, of whom more than a third are black."
      ]
    },
    {
      "cell_type": "code",
      "metadata": {
        "id": "3Da7E3Lhx7lJ",
        "colab_type": "code",
        "colab": {
          "base_uri": "https://localhost:8080/",
          "height": 483
        },
        "outputId": "dcc83250-3257-4fa6-c4a6-0f9ccf09746e"
      },
      "source": [
        "df = pd.DataFrame(data = {'Percents': [61, 13, 18, 5.9, 1.5, 0.6]}, \n",
        "                  index = ['White', \n",
        "                           'Black', \n",
        "                           'Hispanic', \n",
        "                           'Asian', \n",
        "                           'Native American',\n",
        "                           'Others'])\n",
        "\n",
        "# df.rename_axis('Races', axis = 'columns', inplace = True)\n",
        "# df[\"Percents\"].plot(kind=\"bar\", stacked=True)\n",
        "\n",
        "# polar_data.pivot(\"topic\", \"type\")[\"positive\"].plot(kind=\"bar\", stacked=True)\n",
        "\n",
        "\n",
        "White = 61\n",
        "Black = 13\n",
        "Hispanic = 18\n",
        "Other = 5.9 + 1.5 + 0.6\n",
        "\n",
        "plt.figure(figsize=(4,8))\n",
        "\n",
        "plt.bar('US Census per races', White, color='gold')\n",
        "plt.bar('US Census per races', Black, color='grey', bottom= White)\n",
        "plt.bar('US Census per races', Hispanic, color='saddlebrown',bottom= White + Black)\n",
        "plt.bar('US Census per races', Other, color='green', bottom= White + Black + Hispanic)\n",
        "\n",
        "\n",
        "plt.legend(('White 61%','Black 13%','Hispanic 18%','Other 8%'), loc='lower right',fontsize = 'xx-large')\n",
        "\n",
        "plt.show()"
      ],
      "execution_count": null,
      "outputs": [
        {
          "output_type": "display_data",
          "data": {
            "image/png": "[encoded data removed]",
            "text/plain": [
              "<Figure size 288x576 with 1 Axes>"
            ]
          },
          "metadata": {
            "tags": [],
            "needs_background": "light"
          }
        }
      ]
    },
    {
      "cell_type": "code",
      "metadata": {
        "id": "wNqtchwRdFR6",
        "colab_type": "code",
        "colab": {
          "base_uri": "https://localhost:8080/",
          "height": 309
        },
        "outputId": "bf55b9e5-e259-4699-9d0e-ae057d7cf7da"
      },
      "source": [
        "Fatal_police = pd.read_csv('fatal-police-shootings-data.csv',sep=',')\n",
        "Fatal_police.head()"
      ],
      "execution_count": null,
      "outputs": [
        {
          "output_type": "execute_result",
          "data": {
            "text/html": [
              "<div>\n",
              "<style scoped>\n",
              "    .dataframe tbody tr th:only-of-type {\n",
              "        vertical-align: middle;\n",
              "    }\n",
              "\n",
              "    .dataframe tbody tr th {\n",
              "        vertical-align: top;\n",
              "    }\n",
              "\n",
              "    .dataframe thead th {\n",
              "        text-align: right;\n",
              "    }\n",
              "</style>\n",
              "<table border=\"1\" class=\"dataframe\">\n",
              "  <thead>\n",
              "    <tr style=\"text-align: right;\">\n",
              "      <th></th>\n",
              "      <th>id</th>\n",
              "      <th>name</th>\n",
              "      <th>date</th>\n",
              "      <th>manner_of_death</th>\n",
              "      <th>armed</th>\n",
              "      <th>age</th>\n",
              "      <th>gender</th>\n",
              "      <th>race</th>\n",
              "      <th>city</th>\n",
              "      <th>state</th>\n",
              "      <th>signs_of_mental_illness</th>\n",
              "      <th>threat_level</th>\n",
              "      <th>flee</th>\n",
              "      <th>body_camera</th>\n",
              "    </tr>\n",
              "  </thead>\n",
              "  <tbody>\n",
              "    <tr>\n",
              "      <th>0</th>\n",
              "      <td>3</td>\n",
              "      <td>Tim Elliot</td>\n",
              "      <td>2015-01-02</td>\n",
              "      <td>shot</td>\n",
              "      <td>gun</td>\n",
              "      <td>53.0</td>\n",
              "      <td>M</td>\n",
              "      <td>A</td>\n",
              "      <td>Shelton</td>\n",
              "      <td>WA</td>\n",
              "      <td>True</td>\n",
              "      <td>attack</td>\n",
              "      <td>Not fleeing</td>\n",
              "      <td>False</td>\n",
              "    </tr>\n",
              "    <tr>\n",
              "      <th>1</th>\n",
              "      <td>4</td>\n",
              "      <td>Lewis Lee Lembke</td>\n",
              "      <td>2015-01-02</td>\n",
              "      <td>shot</td>\n",
              "      <td>gun</td>\n",
              "      <td>47.0</td>\n",
              "      <td>M</td>\n",
              "      <td>W</td>\n",
              "      <td>Aloha</td>\n",
              "      <td>OR</td>\n",
              "      <td>False</td>\n",
              "      <td>attack</td>\n",
              "      <td>Not fleeing</td>\n",
              "      <td>False</td>\n",
              "    </tr>\n",
              "    <tr>\n",
              "      <th>2</th>\n",
              "      <td>5</td>\n",
              "      <td>John Paul Quintero</td>\n",
              "      <td>2015-01-03</td>\n",
              "      <td>shot and Tasered</td>\n",
              "      <td>unarmed</td>\n",
              "      <td>23.0</td>\n",
              "      <td>M</td>\n",
              "      <td>H</td>\n",
              "      <td>Wichita</td>\n",
              "      <td>KS</td>\n",
              "      <td>False</td>\n",
              "      <td>other</td>\n",
              "      <td>Not fleeing</td>\n",
              "      <td>False</td>\n",
              "    </tr>\n",
              "    <tr>\n",
              "      <th>3</th>\n",
              "      <td>8</td>\n",
              "      <td>Matthew Hoffman</td>\n",
              "      <td>2015-01-04</td>\n",
              "      <td>shot</td>\n",
              "      <td>toy weapon</td>\n",
              "      <td>32.0</td>\n",
              "      <td>M</td>\n",
              "      <td>W</td>\n",
              "      <td>San Francisco</td>\n",
              "      <td>CA</td>\n",
              "      <td>True</td>\n",
              "      <td>attack</td>\n",
              "      <td>Not fleeing</td>\n",
              "      <td>False</td>\n",
              "    </tr>\n",
              "    <tr>\n",
              "      <th>4</th>\n",
              "      <td>9</td>\n",
              "      <td>Michael Rodriguez</td>\n",
              "      <td>2015-01-04</td>\n",
              "      <td>shot</td>\n",
              "      <td>nail gun</td>\n",
              "      <td>39.0</td>\n",
              "      <td>M</td>\n",
              "      <td>H</td>\n",
              "      <td>Evans</td>\n",
              "      <td>CO</td>\n",
              "      <td>False</td>\n",
              "      <td>attack</td>\n",
              "      <td>Not fleeing</td>\n",
              "      <td>False</td>\n",
              "    </tr>\n",
              "  </tbody>\n",
              "</table>\n",
              "</div>"
            ],
            "text/plain": [
              "   id                name        date  ... threat_level         flee  body_camera\n",
              "0   3          Tim Elliot  2015-01-02  ...       attack  Not fleeing        False\n",
              "1   4    Lewis Lee Lembke  2015-01-02  ...       attack  Not fleeing        False\n",
              "2   5  John Paul Quintero  2015-01-03  ...        other  Not fleeing        False\n",
              "3   8     Matthew Hoffman  2015-01-04  ...       attack  Not fleeing        False\n",
              "4   9   Michael Rodriguez  2015-01-04  ...       attack  Not fleeing        False\n",
              "\n",
              "[5 rows x 14 columns]"
            ]
          },
          "metadata": {
            "tags": []
          },
          "execution_count": 4
        }
      ]
    },
    {
      "cell_type": "code",
      "metadata": {
        "id": "AKy3d6boKE-Y",
        "colab_type": "code",
        "colab": {
          "base_uri": "https://localhost:8080/",
          "height": 272
        },
        "outputId": "0e60df3a-2ae7-4e18-d370-1803e356d80c"
      },
      "source": [
        "Fatal_police.isnull().sum()"
      ],
      "execution_count": null,
      "outputs": [
        {
          "output_type": "execute_result",
          "data": {
            "text/plain": [
              "id                           0\n",
              "name                         0\n",
              "date                         0\n",
              "manner_of_death              0\n",
              "armed                      214\n",
              "age                        248\n",
              "gender                       1\n",
              "race                       598\n",
              "city                         0\n",
              "state                        0\n",
              "signs_of_mental_illness      0\n",
              "threat_level                 0\n",
              "flee                       264\n",
              "body_camera                  0\n",
              "dtype: int64"
            ]
          },
          "metadata": {
            "tags": []
          },
          "execution_count": 5
        }
      ]
    },
    {
      "cell_type": "code",
      "metadata": {
        "id": "uUvZhA1BKIsv",
        "colab_type": "code",
        "colab": {
          "base_uri": "https://localhost:8080/",
          "height": 272
        },
        "outputId": "589b2ab6-31f4-493f-cb9b-173ba784d620"
      },
      "source": [
        "Fatal_police.update(Fatal_police['race'].fillna('Not Informed'))\n",
        "\n",
        "Fatal_police.isnull().sum()"
      ],
      "execution_count": null,
      "outputs": [
        {
          "output_type": "execute_result",
          "data": {
            "text/plain": [
              "id                           0\n",
              "name                         0\n",
              "date                         0\n",
              "manner_of_death              0\n",
              "armed                      214\n",
              "age                        248\n",
              "gender                       1\n",
              "race                         0\n",
              "city                         0\n",
              "state                        0\n",
              "signs_of_mental_illness      0\n",
              "threat_level                 0\n",
              "flee                       264\n",
              "body_camera                  0\n",
              "dtype: int64"
            ]
          },
          "metadata": {
            "tags": []
          },
          "execution_count": 6
        }
      ]
    },
    {
      "cell_type": "code",
      "metadata": {
        "id": "Ybktv0UmGwfk",
        "colab_type": "code",
        "colab": {
          "base_uri": "https://localhost:8080/",
          "height": 153
        },
        "outputId": "08d61eb1-4c72-4a06-8402-aa27ea0f65b0"
      },
      "source": [
        "states_names = {'AK':'Alaska',\n",
        "         'AL':'Alabama',\n",
        "         'AR':'Arkansas','AZ':'Arizona',\n",
        "         'CA':'California','CO':'Colorado',\n",
        "         'CT':'Connecticut',\n",
        "         'DC':'DC',\n",
        "         'DE':'Delaware',\n",
        "         'FL':'Florida',\n",
        "         'GA':'Georgia',\n",
        "         'HI':'Hawaii',\n",
        "         'IA':'Iowa',\n",
        "         'ID':'Idaho',\n",
        "         'IL':'Illinois',\n",
        "         'IN':'Indiana',\n",
        "         'KS':'Kansas',\n",
        "         'KY':'Kentucky',\n",
        "         'LA':'Louisiana',\n",
        "         'MA':'Massachusetts',\n",
        "         'MD':'Maryland',\n",
        "         'ME':'Maine',\n",
        "         'MI':'Michigan',\n",
        "         'MN':'Minnesota',\n",
        "         'MO':'Missouri',\n",
        "         'MS':'Mississippi',\n",
        "         'MT':'Montana',\n",
        "         'NC':'North Carolina',\n",
        "         'ND':'North Dakota',\n",
        "         'NE':'Nebraska',\n",
        "         'NH':'New Hampshire',\n",
        "         'NJ':'New Jersey',\n",
        "         'NM':'New Mexico',\n",
        "         'NV':'Nevada',\n",
        "         'NY':'New York',\n",
        "         'OH':'Ohio',\n",
        "         'OK':'Oklahoma',\n",
        "         'OR':'Oregon',\n",
        "         'PA':'Pennsylvania',\n",
        "         'RI':'Rhode Island',\n",
        "         'SC':'South Carolina',\n",
        "         'SD':'South Dakota',\n",
        "         'TN':'Tennessee',\n",
        "         'TX':'Texas',\n",
        "         'UT':'Utah',\n",
        "         'VA':'Virginia',\n",
        "         'VT':'Vermont',\n",
        "         'WA':'Washington',\n",
        "         'WI':'Wisconsin',\n",
        "         'WV':'West Virginia',\n",
        "         'WY':'Wyoming'}\n",
        "\n",
        "\n",
        "sex = {'M': 'Masculino', 'F': 'Feminino'}\n",
        "\n",
        "\n",
        "race = {'A': 'Asian', \n",
        "       'B': 'Black', \n",
        "       'H': 'Hispanic', \n",
        "       'N': 'Native American', \n",
        "       'O': 'Other', \n",
        "       'W': 'White'}\n",
        "\n",
        "\n",
        "total_race_percent = round(Fatal_police['race'].value_counts(normalize=True) * 100,2)\n",
        "total_race_percent.rename(index = race, inplace = True)\n",
        "\n",
        "total_race_percent"
      ],
      "execution_count": null,
      "outputs": [
        {
          "output_type": "execute_result",
          "data": {
            "text/plain": [
              "White              45.27\n",
              "Black              23.60\n",
              "Hispanic           16.45\n",
              "Not Informed       10.73\n",
              "Asian               1.69\n",
              "Native American     1.40\n",
              "Other               0.86\n",
              "Name: race, dtype: float64"
            ]
          },
          "metadata": {
            "tags": []
          },
          "execution_count": 7
        }
      ]
    },
    {
      "cell_type": "code",
      "metadata": {
        "id": "2_qQBpk3MOMN",
        "colab_type": "code",
        "colab": {
          "base_uri": "https://localhost:8080/",
          "height": 266
        },
        "outputId": "22169acc-7a46-46bc-8410-c86a5f13dbc1"
      },
      "source": [
        "total_race_percent_df = pd.DataFrame(total_race_percent)\n",
        "total_race_percent_df.reset_index(level=0, inplace=True)\n",
        "\n",
        "total_race_percent_df.columns = [\"race\", \"total_percent\"] \n",
        "\n",
        "total_race_percent_df.head(10)"
      ],
      "execution_count": null,
      "outputs": [
        {
          "output_type": "execute_result",
          "data": {
            "text/html": [
              "<div>\n",
              "<style scoped>\n",
              "    .dataframe tbody tr th:only-of-type {\n",
              "        vertical-align: middle;\n",
              "    }\n",
              "\n",
              "    .dataframe tbody tr th {\n",
              "        vertical-align: top;\n",
              "    }\n",
              "\n",
              "    .dataframe thead th {\n",
              "        text-align: right;\n",
              "    }\n",
              "</style>\n",
              "<table border=\"1\" class=\"dataframe\">\n",
              "  <thead>\n",
              "    <tr style=\"text-align: right;\">\n",
              "      <th></th>\n",
              "      <th>race</th>\n",
              "      <th>total_percent</th>\n",
              "    </tr>\n",
              "  </thead>\n",
              "  <tbody>\n",
              "    <tr>\n",
              "      <th>0</th>\n",
              "      <td>White</td>\n",
              "      <td>45.27</td>\n",
              "    </tr>\n",
              "    <tr>\n",
              "      <th>1</th>\n",
              "      <td>Black</td>\n",
              "      <td>23.60</td>\n",
              "    </tr>\n",
              "    <tr>\n",
              "      <th>2</th>\n",
              "      <td>Hispanic</td>\n",
              "      <td>16.45</td>\n",
              "    </tr>\n",
              "    <tr>\n",
              "      <th>3</th>\n",
              "      <td>Not Informed</td>\n",
              "      <td>10.73</td>\n",
              "    </tr>\n",
              "    <tr>\n",
              "      <th>4</th>\n",
              "      <td>Asian</td>\n",
              "      <td>1.69</td>\n",
              "    </tr>\n",
              "    <tr>\n",
              "      <th>5</th>\n",
              "      <td>Native American</td>\n",
              "      <td>1.40</td>\n",
              "    </tr>\n",
              "    <tr>\n",
              "      <th>6</th>\n",
              "      <td>Other</td>\n",
              "      <td>0.86</td>\n",
              "    </tr>\n",
              "  </tbody>\n",
              "</table>\n",
              "</div>"
            ],
            "text/plain": [
              "              race  total_percent\n",
              "0            White          45.27\n",
              "1            Black          23.60\n",
              "2         Hispanic          16.45\n",
              "3     Not Informed          10.73\n",
              "4            Asian           1.69\n",
              "5  Native American           1.40\n",
              "6            Other           0.86"
            ]
          },
          "metadata": {
            "tags": []
          },
          "execution_count": 8
        }
      ]
    },
    {
      "cell_type": "code",
      "metadata": {
        "id": "8JoQVY5xNwn0",
        "colab_type": "code",
        "colab": {
          "base_uri": "https://localhost:8080/",
          "height": 949
        },
        "outputId": "8e479426-be62-4c7a-8549-454e3d1ae13e"
      },
      "source": [
        "White = 61\n",
        "Black = 13\n",
        "Hispanic = 18\n",
        "Other = 5.9 + 1.5 + 0.6\n",
        "\n",
        "plt.figure(figsize=(4,8))\n",
        "\n",
        "plt.bar('US Census per races', White, color='gold')\n",
        "plt.bar('US Census per races', Black, color='grey', bottom= White)\n",
        "plt.bar('US Census per races', Hispanic, color='saddlebrown',bottom= White + Black)\n",
        "plt.bar('US Census per races', Other, color='green', bottom= White + Black + Hispanic)\n",
        "\n",
        "\n",
        "plt.legend(('White 61%','Black 13%','Hispanic 18%','Other 8%'), loc='lower right',fontsize = 'xx-large')\n",
        "\n",
        "plt.show()\n",
        "\n",
        "\n",
        "\n",
        "\n",
        "plt.figure(figsize=(4,8))\n",
        "\n",
        "t_perc_wh = int(round(total_race_percent_df.query('race == \"White\"').total_percent))\n",
        "t_perc_bl = int(round(total_race_percent_df.query('race == \"Black\"').total_percent))\n",
        "t_perc_hi = int(round(total_race_percent_df.query('race == \"Hispanic\"').total_percent))\n",
        "t_perc_as = int(round(total_race_percent_df.query('race == \"Asian\"').total_percent))\n",
        "\n",
        "plt.bar('Fatal Shooting per race', t_perc_wh, color='gold')\n",
        "plt.bar('Fatal Shooting per race', t_perc_bl, color='grey', bottom = t_perc_wh)\n",
        "plt.bar('Fatal Shooting per race', t_perc_hi, color='saddlebrown', bottom = t_perc_wh + t_perc_bl)\n",
        "plt.bar('Fatal Shooting per race', t_perc_as, color='green', bottom = t_perc_wh + t_perc_bl + t_perc_hi)\n",
        "\n",
        "plt.legend(('White 45%','Black 24%','Hispanic 16%','Asian 2%'), loc='lower right',fontsize = 'xx-large')\n",
        "\n",
        "# legend((line1, line2, line3), ('label1', 'label2', 'label3'))\n",
        "\n",
        "plt.show()"
      ],
      "execution_count": null,
      "outputs": [
        {
          "output_type": "display_data",
          "data": {
            "image/png": "[encoded data removed]",
            "text/plain": [
              "<Figure size 288x576 with 1 Axes>"
            ]
          },
          "metadata": {
            "tags": [],
            "needs_background": "light"
          }
        },
        {
          "output_type": "display_data",
          "data": {
            "image/png": "[encoded data removed]",
            "text/plain": [
              "<Figure size 288x576 with 1 Axes>"
            ]
          },
          "metadata": {
            "tags": [],
            "needs_background": "light"
          }
        }
      ]
    },
    {
      "cell_type": "code",
      "metadata": {
        "id": "a5G38irhCaXf",
        "colab_type": "code",
        "colab": {
          "base_uri": "https://localhost:8080/",
          "height": 272
        },
        "outputId": "e408394e-1ae5-48b1-aa38-2906994a90df"
      },
      "source": [
        "Fatal_police.update(Fatal_police['armed'].fillna('Not Informed'))\n",
        "\n",
        "Fatal_police.isnull().sum()\n"
      ],
      "execution_count": null,
      "outputs": [
        {
          "output_type": "execute_result",
          "data": {
            "text/plain": [
              "id                           0\n",
              "name                         0\n",
              "date                         0\n",
              "manner_of_death              0\n",
              "armed                        0\n",
              "age                        248\n",
              "gender                       1\n",
              "race                         0\n",
              "city                         0\n",
              "state                        0\n",
              "signs_of_mental_illness      0\n",
              "threat_level                 0\n",
              "flee                       264\n",
              "body_camera                  0\n",
              "dtype: int64"
            ]
          },
          "metadata": {
            "tags": []
          },
          "execution_count": 10
        }
      ]
    },
    {
      "cell_type": "code",
      "metadata": {
        "id": "uaAHaOotDOXL",
        "colab_type": "code",
        "colab": {
          "base_uri": "https://localhost:8080/",
          "height": 153
        },
        "outputId": "a3e64dd3-7efa-42b9-8fb3-3aa9d1e6ea98"
      },
      "source": [
        "total_race_percent_unarmed = round(Fatal_police.query('armed == \"unarmed\"')['race'].value_counts(normalize=True) * 100)\n",
        "total_race_percent_unarmed.rename(index = race, inplace = True)\n",
        "\n",
        "total_race_percent_unarmed"
      ],
      "execution_count": null,
      "outputs": [
        {
          "output_type": "execute_result",
          "data": {
            "text/plain": [
              "White              41.0\n",
              "Black              35.0\n",
              "Hispanic           18.0\n",
              "Asian               2.0\n",
              "Not Informed        2.0\n",
              "Other               1.0\n",
              "Native American     1.0\n",
              "Name: race, dtype: float64"
            ]
          },
          "metadata": {
            "tags": []
          },
          "execution_count": 11
        }
      ]
    },
    {
      "cell_type": "code",
      "metadata": {
        "id": "nnOeHoCyD2VG",
        "colab_type": "code",
        "colab": {
          "base_uri": "https://localhost:8080/",
          "height": 266
        },
        "outputId": "ad09a2d0-6fe5-4bed-ae2f-6f4612fe2fde"
      },
      "source": [
        "total_race_percent_unarmed_df = pd.DataFrame(total_race_percent_unarmed)\n",
        "total_race_percent_unarmed_df.reset_index(level=0, inplace=True)\n",
        "\n",
        "total_race_percent_unarmed_df.columns = [\"race\", \"total_percent\"] \n",
        "\n",
        "total_race_percent_unarmed_df.head(10)"
      ],
      "execution_count": null,
      "outputs": [
        {
          "output_type": "execute_result",
          "data": {
            "text/html": [
              "<div>\n",
              "<style scoped>\n",
              "    .dataframe tbody tr th:only-of-type {\n",
              "        vertical-align: middle;\n",
              "    }\n",
              "\n",
              "    .dataframe tbody tr th {\n",
              "        vertical-align: top;\n",
              "    }\n",
              "\n",
              "    .dataframe thead th {\n",
              "        text-align: right;\n",
              "    }\n",
              "</style>\n",
              "<table border=\"1\" class=\"dataframe\">\n",
              "  <thead>\n",
              "    <tr style=\"text-align: right;\">\n",
              "      <th></th>\n",
              "      <th>race</th>\n",
              "      <th>total_percent</th>\n",
              "    </tr>\n",
              "  </thead>\n",
              "  <tbody>\n",
              "    <tr>\n",
              "      <th>0</th>\n",
              "      <td>White</td>\n",
              "      <td>41.0</td>\n",
              "    </tr>\n",
              "    <tr>\n",
              "      <th>1</th>\n",
              "      <td>Black</td>\n",
              "      <td>35.0</td>\n",
              "    </tr>\n",
              "    <tr>\n",
              "      <th>2</th>\n",
              "      <td>Hispanic</td>\n",
              "      <td>18.0</td>\n",
              "    </tr>\n",
              "    <tr>\n",
              "      <th>3</th>\n",
              "      <td>Asian</td>\n",
              "      <td>2.0</td>\n",
              "    </tr>\n",
              "    <tr>\n",
              "      <th>4</th>\n",
              "      <td>Not Informed</td>\n",
              "      <td>2.0</td>\n",
              "    </tr>\n",
              "    <tr>\n",
              "      <th>5</th>\n",
              "      <td>Other</td>\n",
              "      <td>1.0</td>\n",
              "    </tr>\n",
              "    <tr>\n",
              "      <th>6</th>\n",
              "      <td>Native American</td>\n",
              "      <td>1.0</td>\n",
              "    </tr>\n",
              "  </tbody>\n",
              "</table>\n",
              "</div>"
            ],
            "text/plain": [
              "              race  total_percent\n",
              "0            White           41.0\n",
              "1            Black           35.0\n",
              "2         Hispanic           18.0\n",
              "3            Asian            2.0\n",
              "4     Not Informed            2.0\n",
              "5            Other            1.0\n",
              "6  Native American            1.0"
            ]
          },
          "metadata": {
            "tags": []
          },
          "execution_count": 12
        }
      ]
    },
    {
      "cell_type": "code",
      "metadata": {
        "id": "ILuU1-a5EVl_",
        "colab_type": "code",
        "colab": {
          "base_uri": "https://localhost:8080/",
          "height": 483
        },
        "outputId": "aa373091-ef55-4777-cbf5-5ff3412fbdb0"
      },
      "source": [
        "plt.figure(figsize=(4,8))\n",
        "\n",
        "t_perc_wh = int(round(total_race_percent_unarmed_df.query('race == \"White\"').total_percent))\n",
        "t_perc_bl = int(round(total_race_percent_unarmed_df.query('race == \"Black\"').total_percent))\n",
        "t_perc_hi = int(round(total_race_percent_unarmed_df.query('race == \"Hispanic\"').total_percent))\n",
        "t_perc_as = int(round(total_race_percent_unarmed_df.query('race == \"Asian\"').total_percent))\n",
        "\n",
        "plt.bar('Unamerd People', t_perc_wh, color='gold')\n",
        "plt.bar('Unamerd People', t_perc_bl, color='grey', bottom = t_perc_wh)\n",
        "plt.bar('Unamerd People', t_perc_hi, color='saddlebrown', bottom = t_perc_wh + t_perc_bl)\n",
        "plt.bar('Unamerd People', t_perc_as, color='green', bottom = t_perc_wh + t_perc_bl + t_perc_hi)\n",
        "\n",
        "plt.legend(('White 41%','Black 35%','Hispanic 18%','Asian 2%'), loc='lower right',fontsize = 'xx-large')\n",
        "\n",
        "# legend((line1, line2, line3), ('label1', 'label2', 'label3'))\n",
        "\n",
        "plt.show()"
      ],
      "execution_count": null,
      "outputs": [
        {
          "output_type": "display_data",
          "data": {
            "image/png": "[encoded data removed]",
            "text/plain": [
              "<Figure size 288x576 with 1 Axes>"
            ]
          },
          "metadata": {
            "tags": [],
            "needs_background": "light"
          }
        }
      ]
    },
    {
      "cell_type": "code",
      "metadata": {
        "id": "0oyF16BaKGlL",
        "colab_type": "code",
        "colab": {}
      },
      "source": [
        "armed_number = Fatal_police['armed'].value_counts()\n",
        "\n",
        "armed_number_df = pd.DataFrame(armed_number)\n",
        "armed_number_df.reset_index(level=0, inplace=True)\n",
        "\n",
        "armed_number_df.columns = [\"armed\", \"total_number\"] "
      ],
      "execution_count": null,
      "outputs": []
    },
    {
      "cell_type": "code",
      "metadata": {
        "id": "WUYd9kUlK5CQ",
        "colab_type": "code",
        "colab": {
          "base_uri": "https://localhost:8080/",
          "height": 365
        },
        "outputId": "c2b9ac63-d01a-4ca4-9d24-66fb3fdc615b"
      },
      "source": [
        "armed_number_df_filter = armed_number_df.query('total_number > 150')\n",
        "\n",
        "sns.set_style(\"whitegrid\")\n",
        "ax = sns.barplot(x=armed_number_df_filter.total_number, \n",
        "                 y=armed_number_df_filter.armed, \n",
        "                 data=armed_number_df_filter, \n",
        "                 orient='h',\n",
        "                 palette=sns.color_palette(\"BuGn_r\", n_colors=len(armed_number_df_filter) + 4))\n",
        "\n",
        "ax.figure.set_size_inches(15, 5)    # Personalizando o tamanho da figura\n",
        "\n",
        "ax.set_title('People´s weapon (numbers)', fontsize=26)    # Configurando o título do gráfico\n",
        "ax.set_xlabel('', fontsize=14)    # Configurando o label do eixo X\n",
        "ax.set_ylabel('', fontsize=14)    # Configurando o label do eixo Y\n",
        "ax"
      ],
      "execution_count": null,
      "outputs": [
        {
          "output_type": "execute_result",
          "data": {
            "text/plain": [
              "<matplotlib.axes._subplots.AxesSubplot at 0x7fbfe50adc88>"
            ]
          },
          "metadata": {
            "tags": []
          },
          "execution_count": 59
        },
        {
          "output_type": "display_data",
          "data": {
            "image/png": "[encoded data removed]",
            "text/plain": [
              "<Figure size 1080x360 with 1 Axes>"
            ]
          },
          "metadata": {
            "tags": []
          }
        }
      ]
    },
    {
      "cell_type": "code",
      "metadata": {
        "id": "1h5bYQXmzlvL",
        "colab_type": "code",
        "colab": {
          "base_uri": "https://localhost:8080/",
          "height": 901
        },
        "outputId": "3bc00e85-3a23-44d4-e8a2-a1a5f058979f"
      },
      "source": [
        "ad = Fatal_police['state'].value_counts()\n",
        "ad.rename(index = states_names, inplace = True)\n",
        "ad"
      ],
      "execution_count": null,
      "outputs": [
        {
          "output_type": "execute_result",
          "data": {
            "text/plain": [
              "California        825\n",
              "Texas             494\n",
              "Florida           368\n",
              "Arizona           258\n",
              "Colorado          204\n",
              "Georgia           188\n",
              "Oklahoma          170\n",
              "North Carolina    162\n",
              "Ohio              159\n",
              "Washington        156\n",
              "Tennessee         147\n",
              "Missouri          145\n",
              "Louisiana         113\n",
              "Pennsylvania      111\n",
              "New Mexico        108\n",
              "Illinois          105\n",
              "Alabama           104\n",
              "Nevada            102\n",
              "New York          102\n",
              "Indiana            99\n",
              "Kentucky           98\n",
              "Virginia           96\n",
              "Wisconsin          95\n",
              "South Carolina     91\n",
              "Oregon             87\n",
              "Arkansas           83\n",
              "Michigan           82\n",
              "Maryland           79\n",
              "New Jersey         70\n",
              "Utah               66\n",
              "Mississippi        66\n",
              "Minnesota          62\n",
              "West Virginia      54\n",
              "Kansas             50\n",
              "Idaho              42\n",
              "Alaska             40\n",
              "Massachusetts      35\n",
              "Montana            33\n",
              "Iowa               32\n",
              "Hawaii             30\n",
              "Nebraska           25\n",
              "Maine              22\n",
              "Connecticut        21\n",
              "South Dakota       17\n",
              "Wyoming            14\n",
              "DC                 13\n",
              "Delaware           13\n",
              "New Hampshire      13\n",
              "North Dakota       11\n",
              "Vermont             9\n",
              "Rhode Island        4\n",
              "Name: state, dtype: int64"
            ]
          },
          "metadata": {
            "tags": []
          },
          "execution_count": 16
        }
      ]
    },
    {
      "cell_type": "code",
      "metadata": {
        "id": "qqB_P7HCKg5t",
        "colab_type": "code",
        "colab": {
          "base_uri": "https://localhost:8080/",
          "height": 204
        },
        "outputId": "15e4226d-ea74-4e26-c47f-e1c394d6ac86"
      },
      "source": [
        "state_count = pd.DataFrame(ad)\n",
        "state_count.reset_index(level=0, inplace=True)\n",
        "\n",
        "state_count.columns = [\"state\", \"deaths_total\"] \n",
        "\n",
        "state_count.head()\n"
      ],
      "execution_count": null,
      "outputs": [
        {
          "output_type": "execute_result",
          "data": {
            "text/html": [
              "<div>\n",
              "<style scoped>\n",
              "    .dataframe tbody tr th:only-of-type {\n",
              "        vertical-align: middle;\n",
              "    }\n",
              "\n",
              "    .dataframe tbody tr th {\n",
              "        vertical-align: top;\n",
              "    }\n",
              "\n",
              "    .dataframe thead th {\n",
              "        text-align: right;\n",
              "    }\n",
              "</style>\n",
              "<table border=\"1\" class=\"dataframe\">\n",
              "  <thead>\n",
              "    <tr style=\"text-align: right;\">\n",
              "      <th></th>\n",
              "      <th>state</th>\n",
              "      <th>deaths_total</th>\n",
              "    </tr>\n",
              "  </thead>\n",
              "  <tbody>\n",
              "    <tr>\n",
              "      <th>0</th>\n",
              "      <td>California</td>\n",
              "      <td>825</td>\n",
              "    </tr>\n",
              "    <tr>\n",
              "      <th>1</th>\n",
              "      <td>Texas</td>\n",
              "      <td>494</td>\n",
              "    </tr>\n",
              "    <tr>\n",
              "      <th>2</th>\n",
              "      <td>Florida</td>\n",
              "      <td>368</td>\n",
              "    </tr>\n",
              "    <tr>\n",
              "      <th>3</th>\n",
              "      <td>Arizona</td>\n",
              "      <td>258</td>\n",
              "    </tr>\n",
              "    <tr>\n",
              "      <th>4</th>\n",
              "      <td>Colorado</td>\n",
              "      <td>204</td>\n",
              "    </tr>\n",
              "  </tbody>\n",
              "</table>\n",
              "</div>"
            ],
            "text/plain": [
              "        state  deaths_total\n",
              "0  California           825\n",
              "1       Texas           494\n",
              "2     Florida           368\n",
              "3     Arizona           258\n",
              "4    Colorado           204"
            ]
          },
          "metadata": {
            "tags": []
          },
          "execution_count": 17
        }
      ]
    },
    {
      "cell_type": "markdown",
      "metadata": {
        "id": "uN4Klwr1RBp1",
        "colab_type": "text"
      },
      "source": [
        "# Total deaths per state in a horizontal bar"
      ]
    },
    {
      "cell_type": "code",
      "metadata": {
        "id": "KmwHXxmg9A2K",
        "colab_type": "code",
        "colab": {
          "base_uri": "https://localhost:8080/",
          "height": 375
        },
        "outputId": "3bf21f80-d147-4437-f701-3c2e4e33121f"
      },
      "source": [
        "state_count_graf = state_count.query('deaths_total > 250')\n",
        "sns.set_style(\"whitegrid\")\n",
        "ax = sns.barplot(x=state_count_graf.deaths_total, \n",
        "                 y=state_count_graf.state, \n",
        "                 data=state_count_graf, \n",
        "                 orient='h',\n",
        "                 palette=sns.color_palette(\"BuGn_r\", n_colors=len(state_count_graf) + 4))\n",
        "\n",
        "ax.figure.set_size_inches(15, 5)    # Personalizando o tamanho da figura\n",
        "\n",
        "ax.set_title('Age per race and gender BoxPlot', fontsize=18)    # Configurando o título do gráfico\n",
        "\n",
        "ax.set_xlabel('Fatal Shooting', fontsize=14)    # Configurando o label do eixo X\n",
        "\n",
        "ax.set_ylabel('State', fontsize=14)    # Configurando o label do eixo Y\n",
        "ax"
      ],
      "execution_count": null,
      "outputs": [
        {
          "output_type": "execute_result",
          "data": {
            "text/plain": [
              "<matplotlib.axes._subplots.AxesSubplot at 0x7fbfe64a6be0>"
            ]
          },
          "metadata": {
            "tags": []
          },
          "execution_count": 18
        },
        {
          "output_type": "display_data",
          "data": {
            "image/png": "[encoded data removed]",
            "text/plain": [
              "<Figure size 1080x360 with 1 Axes>"
            ]
          },
          "metadata": {
            "tags": []
          }
        }
      ]
    },
    {
      "cell_type": "markdown",
      "metadata": {
        "id": "owTg0kqFRP3B",
        "colab_type": "text"
      },
      "source": [
        "# **Fatal Shooting per race in California**"
      ]
    },
    {
      "cell_type": "code",
      "metadata": {
        "id": "pkWcSqqcRQNW",
        "colab_type": "code",
        "colab": {
          "base_uri": "https://localhost:8080/",
          "height": 153
        },
        "outputId": "dfc96f33-f074-4478-ce2b-1290eb7eafcf"
      },
      "source": [
        "total_race_percent_CA = round(Fatal_police.query('state == \"CA\"')['race'].value_counts(normalize=True) * 100)\n",
        "total_race_percent_CA.rename(index = race, inplace = True)\n",
        "\n",
        "total_race_percent_CA"
      ],
      "execution_count": null,
      "outputs": [
        {
          "output_type": "execute_result",
          "data": {
            "text/plain": [
              "Hispanic           39.0\n",
              "White              27.0\n",
              "Black              15.0\n",
              "Not Informed       14.0\n",
              "Asian               4.0\n",
              "Other               1.0\n",
              "Native American     0.0\n",
              "Name: race, dtype: float64"
            ]
          },
          "metadata": {
            "tags": []
          },
          "execution_count": 19
        }
      ]
    },
    {
      "cell_type": "code",
      "metadata": {
        "id": "NwsSBc4mS7uo",
        "colab_type": "code",
        "colab": {
          "base_uri": "https://localhost:8080/",
          "height": 362
        },
        "outputId": "df9038eb-5abe-4bf1-a659-20fc97f0ba41"
      },
      "source": [
        "total_race_percent_CA_df = pd.DataFrame(total_race_percent_CA)\n",
        "total_race_percent_CA_df.reset_index(level=0, inplace=True)\n",
        "\n",
        "total_race_percent_CA_df.columns = [\"race\", \"deaths_total\"] \n",
        "\n",
        "# total_race_percent_CA_df.head()\n",
        "\n",
        "sns.set_style(\"dark\")\n",
        "ax = sns.barplot(x=total_race_percent_CA_df.deaths_total, \n",
        "                 y=total_race_percent_CA_df.race, \n",
        "                 data=total_race_percent_CA_df, \n",
        "                 orient='h',\n",
        "                 palette=sns.color_palette(\"autumn_r\", n_colors=len(total_race_percent_CA_df) - 4))\n",
        "\n",
        "ax.figure.set_size_inches(15, 5)    # Personalizando o tamanho da figura\n",
        "\n",
        "ax.set_title('California percentual deaths per race %', fontsize=24)    # Configurando o título do gráfico\n",
        "\n",
        "ax.set_ylabel('', fontsize=14)    # Configurando o label do eixo Y\n",
        "ax.set_xlabel('', fontsize=14)    # Configurando o label do eixo X\n",
        "\n",
        "ax"
      ],
      "execution_count": null,
      "outputs": [
        {
          "output_type": "execute_result",
          "data": {
            "text/plain": [
              "<matplotlib.axes._subplots.AxesSubplot at 0x7fbfe3ffda90>"
            ]
          },
          "metadata": {
            "tags": []
          },
          "execution_count": 70
        },
        {
          "output_type": "display_data",
          "data": {
            "image/png": "[encoded data removed]",
            "text/plain": [
              "<Figure size 1080x360 with 1 Axes>"
            ]
          },
          "metadata": {
            "tags": []
          }
        }
      ]
    },
    {
      "cell_type": "markdown",
      "metadata": {
        "id": "UFADXYFIVGAE",
        "colab_type": "text"
      },
      "source": [
        "# **Fatal Shooting per race in Texas**"
      ]
    },
    {
      "cell_type": "code",
      "metadata": {
        "id": "EgHvvdHpVM60",
        "colab_type": "code",
        "colab": {
          "base_uri": "https://localhost:8080/",
          "height": 153
        },
        "outputId": "b40ee9dc-434b-4971-d251-e60350d13349"
      },
      "source": [
        "total_race_percent_TX = round(Fatal_police.query('state == \"TX\"')['race'].value_counts(normalize=True) * 100)\n",
        "total_race_percent_TX.rename(index = race, inplace = True)\n",
        "\n",
        "total_race_percent_TX"
      ],
      "execution_count": null,
      "outputs": [
        {
          "output_type": "execute_result",
          "data": {
            "text/plain": [
              "White              36.0\n",
              "Hispanic           30.0\n",
              "Black              20.0\n",
              "Not Informed       12.0\n",
              "Asian               1.0\n",
              "Other               1.0\n",
              "Native American     0.0\n",
              "Name: race, dtype: float64"
            ]
          },
          "metadata": {
            "tags": []
          },
          "execution_count": 60
        }
      ]
    },
    {
      "cell_type": "code",
      "metadata": {
        "id": "prA0a8QHVYwr",
        "colab_type": "code",
        "colab": {
          "base_uri": "https://localhost:8080/",
          "height": 362
        },
        "outputId": "0d221bce-10f2-4ea0-8690-51f7d92ac3f4"
      },
      "source": [
        "total_race_percent_TX_df = pd.DataFrame(total_race_percent_TX)\n",
        "total_race_percent_TX_df.reset_index(level=0, inplace=True)\n",
        "\n",
        "total_race_percent_TX_df.columns = [\"race\", \"deaths_total\"] \n",
        "\n",
        "# total_race_percent_TX_df.head()\n",
        "\n",
        "sns.set_style(\"darkgrid\")\n",
        "ax = sns.barplot(x=total_race_percent_TX_df.deaths_total, \n",
        "                 y=total_race_percent_TX_df.race, \n",
        "                 data=total_race_percent_TX_df, \n",
        "                 orient='h',\n",
        "                 palette=sns.color_palette(\"autumn_r\", n_colors=len(total_race_percent_TX_df) - 4))\n",
        "\n",
        "ax.figure.set_size_inches(15, 5)    # Personalizando o tamanho da figura\n",
        "\n",
        "ax.set_title('Texas percentual deaths per race %', fontsize=24)    # Configurando o título do gráfico\n",
        "\n",
        "ax.set_ylabel('', fontsize=14)    # Configurando o label do eixo Y\n",
        "ax.set_xlabel('', fontsize=14)    # Configurando o label do eixo X\n",
        "\n",
        "ax"
      ],
      "execution_count": null,
      "outputs": [
        {
          "output_type": "execute_result",
          "data": {
            "text/plain": [
              "<matplotlib.axes._subplots.AxesSubplot at 0x7fbfe3f24278>"
            ]
          },
          "metadata": {
            "tags": []
          },
          "execution_count": 72
        },
        {
          "output_type": "display_data",
          "data": {
            "image/png": "[encoded data removed]",
            "text/plain": [
              "<Figure size 1080x360 with 1 Axes>"
            ]
          },
          "metadata": {
            "tags": []
          }
        }
      ]
    },
    {
      "cell_type": "markdown",
      "metadata": {
        "id": "6_mhc1cVaBs4",
        "colab_type": "text"
      },
      "source": [
        "# **Fatal Shooting per race in Florida**"
      ]
    },
    {
      "cell_type": "code",
      "metadata": {
        "id": "UG0ruVAfaHec",
        "colab_type": "code",
        "colab": {
          "base_uri": "https://localhost:8080/",
          "height": 136
        },
        "outputId": "3392e8cc-ddfa-4a96-cadd-17d25bd3ea67"
      },
      "source": [
        "total_race_percent_FL = round(Fatal_police.query('state == \"FL\"')['race'].value_counts(normalize=True) * 100)\n",
        "total_race_percent_FL.rename(index = race, inplace = True)\n",
        "\n",
        "total_race_percent_FL"
      ],
      "execution_count": null,
      "outputs": [
        {
          "output_type": "execute_result",
          "data": {
            "text/plain": [
              "White           44.0\n",
              "Black           31.0\n",
              "Hispanic        14.0\n",
              "Not Informed    10.0\n",
              "Other            1.0\n",
              "Asian            0.0\n",
              "Name: race, dtype: float64"
            ]
          },
          "metadata": {
            "tags": []
          },
          "execution_count": 73
        }
      ]
    },
    {
      "cell_type": "code",
      "metadata": {
        "id": "e6IU0P9yaEr8",
        "colab_type": "code",
        "colab": {
          "base_uri": "https://localhost:8080/",
          "height": 362
        },
        "outputId": "ddf1888c-4d53-40da-c5e6-dc64583ae6d2"
      },
      "source": [
        "total_race_percent_FL_df = pd.DataFrame(total_race_percent_FL)\n",
        "total_race_percent_FL_df.reset_index(level=0, inplace=True)\n",
        "\n",
        "total_race_percent_FL_df.columns = [\"race\", \"deaths_total\"] \n",
        "\n",
        "# total_race_percent_TX_df.head()\n",
        "\n",
        "sns.set_style(\"darkgrid\")\n",
        "ax = sns.barplot(x=total_race_percent_FL_df.deaths_total, \n",
        "                 y=total_race_percent_FL_df.race, \n",
        "                 data=total_race_percent_FL_df, \n",
        "                 orient='h',\n",
        "                 palette=sns.color_palette(\"autumn_r\", n_colors=len(total_race_percent_FL_df) - 4))\n",
        "\n",
        "ax.figure.set_size_inches(15, 5)    # Personalizando o tamanho da figura\n",
        "\n",
        "ax.set_title('Florida percentual deaths per race %', fontsize=24)    # Configurando o título do gráfico\n",
        "\n",
        "ax.set_ylabel('', fontsize=14)    # Configurando o label do eixo Y\n",
        "ax.set_xlabel('', fontsize=14)    # Configurando o label do eixo X\n",
        "\n",
        "ax"
      ],
      "execution_count": null,
      "outputs": [
        {
          "output_type": "execute_result",
          "data": {
            "text/plain": [
              "<matplotlib.axes._subplots.AxesSubplot at 0x7fbfe3ae8668>"
            ]
          },
          "metadata": {
            "tags": []
          },
          "execution_count": 83
        },
        {
          "output_type": "display_data",
          "data": {
            "image/png": "[encoded data removed]",
            "text/plain": [
              "<Figure size 1080x360 with 1 Axes>"
            ]
          },
          "metadata": {
            "tags": []
          }
        }
      ]
    },
    {
      "cell_type": "markdown",
      "metadata": {
        "id": "2k7y3eP_bRnh",
        "colab_type": "text"
      },
      "source": [
        "# **Fatal Shooting per race in Arizona**"
      ]
    },
    {
      "cell_type": "code",
      "metadata": {
        "id": "pREQOsoAbSjR",
        "colab_type": "code",
        "colab": {
          "base_uri": "https://localhost:8080/",
          "height": 119
        },
        "outputId": "f5638b3e-d1df-47f3-a20d-7bf6839e95c1"
      },
      "source": [
        "total_race_percent_AZ = round(Fatal_police.query('state == \"AZ\"')['race'].value_counts(normalize=True) * 100)\n",
        "total_race_percent_AZ.rename(index = race, inplace = True)\n",
        "\n",
        "total_race_percent_AZ"
      ],
      "execution_count": null,
      "outputs": [
        {
          "output_type": "execute_result",
          "data": {
            "text/plain": [
              "White              42.0\n",
              "Hispanic           33.0\n",
              "Not Informed       14.0\n",
              "Black               7.0\n",
              "Native American     5.0\n",
              "Name: race, dtype: float64"
            ]
          },
          "metadata": {
            "tags": []
          },
          "execution_count": 85
        }
      ]
    },
    {
      "cell_type": "code",
      "metadata": {
        "id": "lIPw2etkbWR9",
        "colab_type": "code",
        "colab": {
          "base_uri": "https://localhost:8080/",
          "height": 362
        },
        "outputId": "72ba73b8-5464-4b42-dd7e-c56a408f4e37"
      },
      "source": [
        "total_race_percent_AZ_df = pd.DataFrame(total_race_percent_AZ)\n",
        "total_race_percent_AZ_df.reset_index(level=0, inplace=True)\n",
        "\n",
        "total_race_percent_AZ_df.columns = [\"race\", \"deaths_total\"] \n",
        "\n",
        "# total_race_percent_TX_df.head()\n",
        "\n",
        "sns.set_style(\"darkgrid\")\n",
        "ax = sns.barplot(x=total_race_percent_AZ_df.deaths_total, \n",
        "                 y=total_race_percent_AZ_df.race, \n",
        "                 data=total_race_percent_AZ_df, \n",
        "                 orient='h',\n",
        "                 palette=sns.color_palette(\"autumn_r\", n_colors=len(total_race_percent_AZ_df) - 4))\n",
        "\n",
        "ax.figure.set_size_inches(15, 5)    # Personalizando o tamanho da figura\n",
        "\n",
        "ax.set_title('Florida percentual deaths per race %', fontsize=24)    # Configurando o título do gráfico\n",
        "\n",
        "ax.set_ylabel('', fontsize=14)    # Configurando o label do eixo Y\n",
        "ax.set_xlabel('', fontsize=14)    # Configurando o label do eixo X\n",
        "\n",
        "ax"
      ],
      "execution_count": null,
      "outputs": [
        {
          "output_type": "execute_result",
          "data": {
            "text/plain": [
              "<matplotlib.axes._subplots.AxesSubplot at 0x7fbfe398f358>"
            ]
          },
          "metadata": {
            "tags": []
          },
          "execution_count": 90
        },
        {
          "output_type": "display_data",
          "data": {
            "image/png": "[encoded data removed]",
            "text/plain": [
              "<Figure size 1080x360 with 1 Axes>"
            ]
          },
          "metadata": {
            "tags": []
          }
        }
      ]
    },
    {
      "cell_type": "code",
      "metadata": {
        "id": "PfjhaBlxc17W",
        "colab_type": "code",
        "colab": {
          "base_uri": "https://localhost:8080/",
          "height": 153
        },
        "outputId": "a286f0ea-987a-45a8-ef46-a6c396a773a3"
      },
      "source": [
        "# total_race_percent_CA_F = round(Fatal_police.query('state == \"NY\"' and 'gender == \"F\"')['race'].value_counts(normalize=True) * 100)\n",
        "# total_race_percent_CA_F.rename(index = race, inplace = True)\n",
        "\n",
        "# total_race_percent_CA_F"
      ],
      "execution_count": null,
      "outputs": [
        {
          "output_type": "execute_result",
          "data": {
            "text/plain": [
              "White              59.0\n",
              "Black              19.0\n",
              "Hispanic           11.0\n",
              "Not Informed        5.0\n",
              "Asian               2.0\n",
              "Native American     2.0\n",
              "Other               2.0\n",
              "Name: race, dtype: float64"
            ]
          },
          "metadata": {
            "tags": []
          },
          "execution_count": 99
        }
      ]
    },
    {
      "cell_type": "markdown",
      "metadata": {
        "id": "VDCk8ELjQYYW",
        "colab_type": "text"
      },
      "source": [
        "# Total deaths per state in a vertical bar"
      ]
    },
    {
      "cell_type": "code",
      "metadata": {
        "id": "vSbBEMFjB1FX",
        "colab_type": "code",
        "colab": {
          "base_uri": "https://localhost:8080/",
          "height": 423
        },
        "outputId": "be7877b1-dba0-40fb-9e9a-aefac5cb3195"
      },
      "source": [
        "state_count_graf = state_count.query('deaths_total > 100')\n",
        "sns.set_style(\"whitegrid\")\n",
        "ax = sns.barplot(x=state_count_graf.state, \n",
        "                 y=state_count_graf.deaths_total, \n",
        "                 data=state_count_graf, \n",
        "                 orient='v',\n",
        "                 palette=sns.color_palette(\"BuGn_r\", n_colors=len(state_count_graf) + 4))\n",
        "\n",
        "ax.figure.set_size_inches(15, 5)    # Personalizando o tamanho da figura\n",
        "\n",
        "ax.set_title('Age per race and gender BoxPlot', fontsize=18)    # Configurando o título do gráfico\n",
        "\n",
        "ax.set_xlabel('State', fontsize=14)    # Configurando o label do eixo X\n",
        "\n",
        "ax.set_ylabel('Fatal Shooting', fontsize=14)    # Configurando o label do eixo Y\n",
        "plt.xticks(rotation=45)\n",
        "ax"
      ],
      "execution_count": null,
      "outputs": [
        {
          "output_type": "execute_result",
          "data": {
            "text/plain": [
              "<matplotlib.axes._subplots.AxesSubplot at 0x7fbfe6493c88>"
            ]
          },
          "metadata": {
            "tags": []
          },
          "execution_count": 20
        },
        {
          "output_type": "display_data",
          "data": {
            "image/png": "[encoded data removed]",
            "text/plain": [
              "<Figure size 1080x360 with 1 Axes>"
            ]
          },
          "metadata": {
            "tags": []
          }
        }
      ]
    },
    {
      "cell_type": "code",
      "metadata": {
        "id": "Xgto8WnjdXff",
        "colab_type": "code",
        "colab": {
          "base_uri": "https://localhost:8080/",
          "height": 34
        },
        "outputId": "8a0ea021-2c66-4989-8022-a03dc4437000"
      },
      "source": [
        "Fatal_police.shape"
      ],
      "execution_count": null,
      "outputs": [
        {
          "output_type": "execute_result",
          "data": {
            "text/plain": [
              "(5573, 14)"
            ]
          },
          "metadata": {
            "tags": []
          },
          "execution_count": 21
        }
      ]
    },
    {
      "cell_type": "code",
      "metadata": {
        "id": "uQqNfivc8tz8",
        "colab_type": "code",
        "colab": {
          "base_uri": "https://localhost:8080/",
          "height": 297
        },
        "outputId": "41eaa04d-13c2-46fa-86d9-5330f0b3b86a"
      },
      "source": [
        "Fatal_police.describe()"
      ],
      "execution_count": null,
      "outputs": [
        {
          "output_type": "execute_result",
          "data": {
            "text/html": [
              "<div>\n",
              "<style scoped>\n",
              "    .dataframe tbody tr th:only-of-type {\n",
              "        vertical-align: middle;\n",
              "    }\n",
              "\n",
              "    .dataframe tbody tr th {\n",
              "        vertical-align: top;\n",
              "    }\n",
              "\n",
              "    .dataframe thead th {\n",
              "        text-align: right;\n",
              "    }\n",
              "</style>\n",
              "<table border=\"1\" class=\"dataframe\">\n",
              "  <thead>\n",
              "    <tr style=\"text-align: right;\">\n",
              "      <th></th>\n",
              "      <th>id</th>\n",
              "      <th>age</th>\n",
              "    </tr>\n",
              "  </thead>\n",
              "  <tbody>\n",
              "    <tr>\n",
              "      <th>count</th>\n",
              "      <td>5573.000000</td>\n",
              "      <td>5325.000000</td>\n",
              "    </tr>\n",
              "    <tr>\n",
              "      <th>mean</th>\n",
              "      <td>3096.198636</td>\n",
              "      <td>37.118685</td>\n",
              "    </tr>\n",
              "    <tr>\n",
              "      <th>std</th>\n",
              "      <td>1745.644408</td>\n",
              "      <td>13.102332</td>\n",
              "    </tr>\n",
              "    <tr>\n",
              "      <th>min</th>\n",
              "      <td>3.000000</td>\n",
              "      <td>6.000000</td>\n",
              "    </tr>\n",
              "    <tr>\n",
              "      <th>25%</th>\n",
              "      <td>1587.000000</td>\n",
              "      <td>27.000000</td>\n",
              "    </tr>\n",
              "    <tr>\n",
              "      <th>50%</th>\n",
              "      <td>3100.000000</td>\n",
              "      <td>35.000000</td>\n",
              "    </tr>\n",
              "    <tr>\n",
              "      <th>75%</th>\n",
              "      <td>4619.000000</td>\n",
              "      <td>46.000000</td>\n",
              "    </tr>\n",
              "    <tr>\n",
              "      <th>max</th>\n",
              "      <td>6097.000000</td>\n",
              "      <td>91.000000</td>\n",
              "    </tr>\n",
              "  </tbody>\n",
              "</table>\n",
              "</div>"
            ],
            "text/plain": [
              "                id          age\n",
              "count  5573.000000  5325.000000\n",
              "mean   3096.198636    37.118685\n",
              "std    1745.644408    13.102332\n",
              "min       3.000000     6.000000\n",
              "25%    1587.000000    27.000000\n",
              "50%    3100.000000    35.000000\n",
              "75%    4619.000000    46.000000\n",
              "max    6097.000000    91.000000"
            ]
          },
          "metadata": {
            "tags": []
          },
          "execution_count": 22
        }
      ]
    },
    {
      "cell_type": "markdown",
      "metadata": {
        "id": "AZxKCULg0-Ga",
        "colab_type": "text"
      },
      "source": [
        "##Fazendo Query"
      ]
    },
    {
      "cell_type": "markdown",
      "metadata": {
        "id": "2Z19TkRh1Oh1",
        "colab_type": "text"
      },
      "source": [
        "##Fazendo Sorted, valores unicos"
      ]
    },
    {
      "cell_type": "code",
      "metadata": {
        "id": "n2zsxvpnpGyz",
        "colab_type": "code",
        "colab": {
          "base_uri": "https://localhost:8080/",
          "height": 1000
        },
        "outputId": "182732e2-0d2f-42fd-d8a5-39c77d650c83"
      },
      "source": [
        "sorted(Fatal_police['age'].unique())"
      ],
      "execution_count": null,
      "outputs": [
        {
          "output_type": "execute_result",
          "data": {
            "text/plain": [
              "[6.0,\n",
              " 12.0,\n",
              " 13.0,\n",
              " 14.0,\n",
              " 15.0,\n",
              " 16.0,\n",
              " 17.0,\n",
              " 18.0,\n",
              " 19.0,\n",
              " 20.0,\n",
              " 21.0,\n",
              " 22.0,\n",
              " 23.0,\n",
              " 24.0,\n",
              " 25.0,\n",
              " 26.0,\n",
              " 27.0,\n",
              " 28.0,\n",
              " 29.0,\n",
              " 30.0,\n",
              " 31.0,\n",
              " 32.0,\n",
              " 33.0,\n",
              " 34.0,\n",
              " 35.0,\n",
              " 36.0,\n",
              " 37.0,\n",
              " 38.0,\n",
              " 39.0,\n",
              " 40.0,\n",
              " 41.0,\n",
              " 42.0,\n",
              " 43.0,\n",
              " 44.0,\n",
              " 45.0,\n",
              " 46.0,\n",
              " 47.0,\n",
              " 48.0,\n",
              " 49.0,\n",
              " 50.0,\n",
              " 51.0,\n",
              " 52.0,\n",
              " 53.0,\n",
              " 54.0,\n",
              " 55.0,\n",
              " 56.0,\n",
              " 57.0,\n",
              " 58.0,\n",
              " 59.0,\n",
              " 60.0,\n",
              " 61.0,\n",
              " 62.0,\n",
              " 63.0,\n",
              " 64.0,\n",
              " 65.0,\n",
              " 66.0,\n",
              " 67.0,\n",
              " 68.0,\n",
              " 69.0,\n",
              " 70.0,\n",
              " 71.0,\n",
              " 72.0,\n",
              " 73.0,\n",
              " 74.0,\n",
              " 75.0,\n",
              " 77.0,\n",
              " nan,\n",
              " 76.0,\n",
              " 78.0,\n",
              " 79.0,\n",
              " 80.0,\n",
              " 81.0,\n",
              " 82.0,\n",
              " 83.0,\n",
              " 84.0,\n",
              " 86.0,\n",
              " 89.0,\n",
              " 91.0]"
            ]
          },
          "metadata": {
            "tags": []
          },
          "execution_count": 23
        }
      ]
    },
    {
      "cell_type": "code",
      "metadata": {
        "id": "M_VRqbdcNnGL",
        "colab_type": "code",
        "colab": {
          "base_uri": "https://localhost:8080/",
          "height": 34
        },
        "outputId": "9f6807ad-21e4-4a38-812f-b45b8784666c"
      },
      "source": [
        "sorted(Fatal_police['manner_of_death'].unique())"
      ],
      "execution_count": null,
      "outputs": [
        {
          "output_type": "execute_result",
          "data": {
            "text/plain": [
              "['shot', 'shot and Tasered']"
            ]
          },
          "metadata": {
            "tags": []
          },
          "execution_count": 24
        }
      ]
    },
    {
      "cell_type": "markdown",
      "metadata": {
        "id": "cVTG01yp1jqM",
        "colab_type": "text"
      },
      "source": [
        ""
      ]
    },
    {
      "cell_type": "code",
      "metadata": {
        "id": "hAtCR3pr4EBH",
        "colab_type": "code",
        "colab": {
          "base_uri": "https://localhost:8080/",
          "height": 68
        },
        "outputId": "9993c627-3163-4c6a-d6b5-e1f3efe4faa5"
      },
      "source": [
        "Fatal_police['gender'].value_counts()"
      ],
      "execution_count": null,
      "outputs": [
        {
          "output_type": "execute_result",
          "data": {
            "text/plain": [
              "M    5326\n",
              "F     246\n",
              "Name: gender, dtype: int64"
            ]
          },
          "metadata": {
            "tags": []
          },
          "execution_count": 25
        }
      ]
    },
    {
      "cell_type": "code",
      "metadata": {
        "id": "CnEqBY1f1t_U",
        "colab_type": "code",
        "colab": {
          "base_uri": "https://localhost:8080/",
          "height": 68
        },
        "outputId": "5b14a380-0884-440e-fa4b-6f2f55563ac7"
      },
      "source": [
        "Fatal_police['gender'].value_counts(normalize = True) * 100"
      ],
      "execution_count": null,
      "outputs": [
        {
          "output_type": "execute_result",
          "data": {
            "text/plain": [
              "M    95.585068\n",
              "F     4.414932\n",
              "Name: gender, dtype: float64"
            ]
          },
          "metadata": {
            "tags": []
          },
          "execution_count": 26
        }
      ]
    },
    {
      "cell_type": "code",
      "metadata": {
        "id": "SIzYrsZN2v8l",
        "colab_type": "code",
        "colab": {
          "base_uri": "https://localhost:8080/",
          "height": 68
        },
        "outputId": "ce3b84a2-51e0-4264-ccd2-aba6959f1f0b"
      },
      "source": [
        "frequencia = Fatal_police['gender'].value_counts()\n",
        "frequencia"
      ],
      "execution_count": null,
      "outputs": [
        {
          "output_type": "execute_result",
          "data": {
            "text/plain": [
              "M    5326\n",
              "F     246\n",
              "Name: gender, dtype: int64"
            ]
          },
          "metadata": {
            "tags": []
          },
          "execution_count": 27
        }
      ]
    },
    {
      "cell_type": "code",
      "metadata": {
        "id": "oGKca-QY3Jf7",
        "colab_type": "code",
        "colab": {
          "base_uri": "https://localhost:8080/",
          "height": 68
        },
        "outputId": "f7c407d7-6311-4723-d856-29dad52e6e26"
      },
      "source": [
        "percentual = Fatal_police['gender'].value_counts(normalize = True) * 100\n",
        "percentual"
      ],
      "execution_count": null,
      "outputs": [
        {
          "output_type": "execute_result",
          "data": {
            "text/plain": [
              "M    95.585068\n",
              "F     4.414932\n",
              "Name: gender, dtype: float64"
            ]
          },
          "metadata": {
            "tags": []
          },
          "execution_count": 28
        }
      ]
    },
    {
      "cell_type": "code",
      "metadata": {
        "id": "Bx470yY53Yd7",
        "colab_type": "code",
        "colab": {
          "base_uri": "https://localhost:8080/",
          "height": 111
        },
        "outputId": "6584f01f-94ca-42fe-a80a-d7b04040ea7b"
      },
      "source": [
        "dist_freq_qualitativas = pd.DataFrame({'Frequência': frequencia, 'Porcentagem (%)': percentual})\n",
        "dist_freq_qualitativas"
      ],
      "execution_count": null,
      "outputs": [
        {
          "output_type": "execute_result",
          "data": {
            "text/html": [
              "<div>\n",
              "<style scoped>\n",
              "    .dataframe tbody tr th:only-of-type {\n",
              "        vertical-align: middle;\n",
              "    }\n",
              "\n",
              "    .dataframe tbody tr th {\n",
              "        vertical-align: top;\n",
              "    }\n",
              "\n",
              "    .dataframe thead th {\n",
              "        text-align: right;\n",
              "    }\n",
              "</style>\n",
              "<table border=\"1\" class=\"dataframe\">\n",
              "  <thead>\n",
              "    <tr style=\"text-align: right;\">\n",
              "      <th></th>\n",
              "      <th>Frequência</th>\n",
              "      <th>Porcentagem (%)</th>\n",
              "    </tr>\n",
              "  </thead>\n",
              "  <tbody>\n",
              "    <tr>\n",
              "      <th>M</th>\n",
              "      <td>5326</td>\n",
              "      <td>95.585068</td>\n",
              "    </tr>\n",
              "    <tr>\n",
              "      <th>F</th>\n",
              "      <td>246</td>\n",
              "      <td>4.414932</td>\n",
              "    </tr>\n",
              "  </tbody>\n",
              "</table>\n",
              "</div>"
            ],
            "text/plain": [
              "   Frequência  Porcentagem (%)\n",
              "M        5326        95.585068\n",
              "F         246         4.414932"
            ]
          },
          "metadata": {
            "tags": []
          },
          "execution_count": 29
        }
      ]
    },
    {
      "cell_type": "code",
      "metadata": {
        "id": "gqDzoiu535vU",
        "colab_type": "code",
        "colab": {
          "base_uri": "https://localhost:8080/",
          "height": 111
        },
        "outputId": "c0b24ac5-3906-4a2d-cfb4-b7ac15fa3969"
      },
      "source": [
        "dist_freq_qualitativas.rename_axis('Sexo', axis= 'columns', inplace = True)\n",
        "dist_freq_qualitativas"
      ],
      "execution_count": null,
      "outputs": [
        {
          "output_type": "execute_result",
          "data": {
            "text/html": [
              "<div>\n",
              "<style scoped>\n",
              "    .dataframe tbody tr th:only-of-type {\n",
              "        vertical-align: middle;\n",
              "    }\n",
              "\n",
              "    .dataframe tbody tr th {\n",
              "        vertical-align: top;\n",
              "    }\n",
              "\n",
              "    .dataframe thead th {\n",
              "        text-align: right;\n",
              "    }\n",
              "</style>\n",
              "<table border=\"1\" class=\"dataframe\">\n",
              "  <thead>\n",
              "    <tr style=\"text-align: right;\">\n",
              "      <th>Sexo</th>\n",
              "      <th>Frequência</th>\n",
              "      <th>Porcentagem (%)</th>\n",
              "    </tr>\n",
              "  </thead>\n",
              "  <tbody>\n",
              "    <tr>\n",
              "      <th>M</th>\n",
              "      <td>5326</td>\n",
              "      <td>95.585068</td>\n",
              "    </tr>\n",
              "    <tr>\n",
              "      <th>F</th>\n",
              "      <td>246</td>\n",
              "      <td>4.414932</td>\n",
              "    </tr>\n",
              "  </tbody>\n",
              "</table>\n",
              "</div>"
            ],
            "text/plain": [
              "Sexo  Frequência  Porcentagem (%)\n",
              "M           5326        95.585068\n",
              "F            246         4.414932"
            ]
          },
          "metadata": {
            "tags": []
          },
          "execution_count": 30
        }
      ]
    },
    {
      "cell_type": "markdown",
      "metadata": {
        "id": "9Rws-5ep5UJN",
        "colab_type": "text"
      },
      "source": [
        "## Fazendo o CrossTab\n",
        "https://pandas.pydata.org/pandas-docs/version/0.22/generated/pandas.crosstab.html"
      ]
    },
    {
      "cell_type": "code",
      "metadata": {
        "id": "OpxeWp2K918I",
        "colab_type": "code",
        "colab": {
          "base_uri": "https://localhost:8080/",
          "height": 272
        },
        "outputId": "aa5387b0-ae4d-4c39-b5d8-90ca258298db"
      },
      "source": [
        "Fatal_police.isnull().sum()"
      ],
      "execution_count": null,
      "outputs": [
        {
          "output_type": "execute_result",
          "data": {
            "text/plain": [
              "id                           0\n",
              "name                         0\n",
              "date                         0\n",
              "manner_of_death              0\n",
              "armed                        0\n",
              "age                        248\n",
              "gender                       1\n",
              "race                         0\n",
              "city                         0\n",
              "state                        0\n",
              "signs_of_mental_illness      0\n",
              "threat_level                 0\n",
              "flee                       264\n",
              "body_camera                  0\n",
              "dtype: int64"
            ]
          },
          "metadata": {
            "tags": []
          },
          "execution_count": 31
        }
      ]
    },
    {
      "cell_type": "code",
      "metadata": {
        "id": "iYeueEut9_TR",
        "colab_type": "code",
        "colab": {
          "base_uri": "https://localhost:8080/",
          "height": 34
        },
        "outputId": "dcc81927-f299-4cdc-b69e-b6b7e75c7070"
      },
      "source": [
        "# Checando os dados\n",
        "sorted(Fatal_police['race'].unique())"
      ],
      "execution_count": null,
      "outputs": [
        {
          "output_type": "execute_result",
          "data": {
            "text/plain": [
              "['A', 'B', 'H', 'N', 'Not Informed', 'O', 'W']"
            ]
          },
          "metadata": {
            "tags": []
          },
          "execution_count": 32
        }
      ]
    },
    {
      "cell_type": "code",
      "metadata": {
        "id": "RxSTBUtF-LWP",
        "colab_type": "code",
        "colab": {
          "base_uri": "https://localhost:8080/",
          "height": 142
        },
        "outputId": "f6c5655b-cc07-4ba0-e2eb-7fbb17a7acf4"
      },
      "source": [
        "frequencia = pd.crosstab(Fatal_police.gender, Fatal_police.race)\n",
        "frequencia.rename(index = sex, inplace = True)\n",
        "frequencia.rename(columns = race, inplace = True)\n",
        "frequencia"
      ],
      "execution_count": null,
      "outputs": [
        {
          "output_type": "execute_result",
          "data": {
            "text/html": [
              "<div>\n",
              "<style scoped>\n",
              "    .dataframe tbody tr th:only-of-type {\n",
              "        vertical-align: middle;\n",
              "    }\n",
              "\n",
              "    .dataframe tbody tr th {\n",
              "        vertical-align: top;\n",
              "    }\n",
              "\n",
              "    .dataframe thead th {\n",
              "        text-align: right;\n",
              "    }\n",
              "</style>\n",
              "<table border=\"1\" class=\"dataframe\">\n",
              "  <thead>\n",
              "    <tr style=\"text-align: right;\">\n",
              "      <th>race</th>\n",
              "      <th>Asian</th>\n",
              "      <th>Black</th>\n",
              "      <th>Hispanic</th>\n",
              "      <th>Native American</th>\n",
              "      <th>Not Informed</th>\n",
              "      <th>Other</th>\n",
              "      <th>White</th>\n",
              "    </tr>\n",
              "    <tr>\n",
              "      <th>gender</th>\n",
              "      <th></th>\n",
              "      <th></th>\n",
              "      <th></th>\n",
              "      <th></th>\n",
              "      <th></th>\n",
              "      <th></th>\n",
              "      <th></th>\n",
              "    </tr>\n",
              "  </thead>\n",
              "  <tbody>\n",
              "    <tr>\n",
              "      <th>Feminino</th>\n",
              "      <td>5</td>\n",
              "      <td>47</td>\n",
              "      <td>27</td>\n",
              "      <td>5</td>\n",
              "      <td>13</td>\n",
              "      <td>4</td>\n",
              "      <td>145</td>\n",
              "    </tr>\n",
              "    <tr>\n",
              "      <th>Masculino</th>\n",
              "      <td>89</td>\n",
              "      <td>1268</td>\n",
              "      <td>890</td>\n",
              "      <td>73</td>\n",
              "      <td>585</td>\n",
              "      <td>44</td>\n",
              "      <td>2377</td>\n",
              "    </tr>\n",
              "  </tbody>\n",
              "</table>\n",
              "</div>"
            ],
            "text/plain": [
              "race       Asian  Black  Hispanic  Native American  Not Informed  Other  White\n",
              "gender                                                                        \n",
              "Feminino       5     47        27                5            13      4    145\n",
              "Masculino     89   1268       890               73           585     44   2377"
            ]
          },
          "metadata": {
            "tags": []
          },
          "execution_count": 33
        }
      ]
    },
    {
      "cell_type": "code",
      "metadata": {
        "id": "yAoDJEmgB3pc",
        "colab_type": "code",
        "colab": {
          "base_uri": "https://localhost:8080/",
          "height": 142
        },
        "outputId": "29e8bdbb-0ec7-4180-e86d-8ed969d2253d"
      },
      "source": [
        "percentual = pd.crosstab(Fatal_police.gender, Fatal_police.race, \n",
        "                         normalize = True) * 100\n",
        "percentual.rename(index = sex, inplace = True)\n",
        "percentual.rename(columns = race, inplace = True)\n",
        "percentual"
      ],
      "execution_count": null,
      "outputs": [
        {
          "output_type": "execute_result",
          "data": {
            "text/html": [
              "<div>\n",
              "<style scoped>\n",
              "    .dataframe tbody tr th:only-of-type {\n",
              "        vertical-align: middle;\n",
              "    }\n",
              "\n",
              "    .dataframe tbody tr th {\n",
              "        vertical-align: top;\n",
              "    }\n",
              "\n",
              "    .dataframe thead th {\n",
              "        text-align: right;\n",
              "    }\n",
              "</style>\n",
              "<table border=\"1\" class=\"dataframe\">\n",
              "  <thead>\n",
              "    <tr style=\"text-align: right;\">\n",
              "      <th>race</th>\n",
              "      <th>Asian</th>\n",
              "      <th>Black</th>\n",
              "      <th>Hispanic</th>\n",
              "      <th>Native American</th>\n",
              "      <th>Not Informed</th>\n",
              "      <th>Other</th>\n",
              "      <th>White</th>\n",
              "    </tr>\n",
              "    <tr>\n",
              "      <th>gender</th>\n",
              "      <th></th>\n",
              "      <th></th>\n",
              "      <th></th>\n",
              "      <th></th>\n",
              "      <th></th>\n",
              "      <th></th>\n",
              "      <th></th>\n",
              "    </tr>\n",
              "  </thead>\n",
              "  <tbody>\n",
              "    <tr>\n",
              "      <th>Feminino</th>\n",
              "      <td>0.089734</td>\n",
              "      <td>0.843503</td>\n",
              "      <td>0.484566</td>\n",
              "      <td>0.089734</td>\n",
              "      <td>0.233309</td>\n",
              "      <td>0.071788</td>\n",
              "      <td>2.602297</td>\n",
              "    </tr>\n",
              "    <tr>\n",
              "      <th>Masculino</th>\n",
              "      <td>1.597272</td>\n",
              "      <td>22.756640</td>\n",
              "      <td>15.972721</td>\n",
              "      <td>1.310122</td>\n",
              "      <td>10.498923</td>\n",
              "      <td>0.789663</td>\n",
              "      <td>42.659727</td>\n",
              "    </tr>\n",
              "  </tbody>\n",
              "</table>\n",
              "</div>"
            ],
            "text/plain": [
              "race          Asian      Black   Hispanic  ...  Not Informed     Other      White\n",
              "gender                                     ...                                   \n",
              "Feminino   0.089734   0.843503   0.484566  ...      0.233309  0.071788   2.602297\n",
              "Masculino  1.597272  22.756640  15.972721  ...     10.498923  0.789663  42.659727\n",
              "\n",
              "[2 rows x 7 columns]"
            ]
          },
          "metadata": {
            "tags": []
          },
          "execution_count": 34
        }
      ]
    },
    {
      "cell_type": "code",
      "metadata": {
        "id": "nU5Q0RotIX-M",
        "colab_type": "code",
        "colab": {
          "base_uri": "https://localhost:8080/",
          "height": 142
        },
        "outputId": "15e9d59b-cac5-42a3-b29f-4d9014d9d027"
      },
      "source": [
        "percentual = pd.crosstab(Fatal_police.gender, \n",
        "                         Fatal_police.race, \n",
        "                         aggfunc = 'mean',\n",
        "                         values = Fatal_police.age)\n",
        "percentual.rename(index = sex, inplace = True)\n",
        "percentual.rename(columns = race, inplace = True)\n",
        "percentual"
      ],
      "execution_count": null,
      "outputs": [
        {
          "output_type": "execute_result",
          "data": {
            "text/html": [
              "<div>\n",
              "<style scoped>\n",
              "    .dataframe tbody tr th:only-of-type {\n",
              "        vertical-align: middle;\n",
              "    }\n",
              "\n",
              "    .dataframe tbody tr th {\n",
              "        vertical-align: top;\n",
              "    }\n",
              "\n",
              "    .dataframe thead th {\n",
              "        text-align: right;\n",
              "    }\n",
              "</style>\n",
              "<table border=\"1\" class=\"dataframe\">\n",
              "  <thead>\n",
              "    <tr style=\"text-align: right;\">\n",
              "      <th>race</th>\n",
              "      <th>Asian</th>\n",
              "      <th>Black</th>\n",
              "      <th>Hispanic</th>\n",
              "      <th>Native American</th>\n",
              "      <th>Not Informed</th>\n",
              "      <th>Other</th>\n",
              "      <th>White</th>\n",
              "    </tr>\n",
              "    <tr>\n",
              "      <th>gender</th>\n",
              "      <th></th>\n",
              "      <th></th>\n",
              "      <th></th>\n",
              "      <th></th>\n",
              "      <th></th>\n",
              "      <th></th>\n",
              "      <th></th>\n",
              "    </tr>\n",
              "  </thead>\n",
              "  <tbody>\n",
              "    <tr>\n",
              "      <th>Feminino</th>\n",
              "      <td>38.000000</td>\n",
              "      <td>34.808511</td>\n",
              "      <td>31.148148</td>\n",
              "      <td>31.200000</td>\n",
              "      <td>38.777778</td>\n",
              "      <td>31.250000</td>\n",
              "      <td>39.486111</td>\n",
              "    </tr>\n",
              "    <tr>\n",
              "      <th>Masculino</th>\n",
              "      <td>36.482759</td>\n",
              "      <td>32.391479</td>\n",
              "      <td>33.591696</td>\n",
              "      <td>31.694444</td>\n",
              "      <td>43.766355</td>\n",
              "      <td>33.139535</td>\n",
              "      <td>39.973965</td>\n",
              "    </tr>\n",
              "  </tbody>\n",
              "</table>\n",
              "</div>"
            ],
            "text/plain": [
              "race           Asian      Black   Hispanic  ...  Not Informed      Other      White\n",
              "gender                                      ...                                    \n",
              "Feminino   38.000000  34.808511  31.148148  ...     38.777778  31.250000  39.486111\n",
              "Masculino  36.482759  32.391479  33.591696  ...     43.766355  33.139535  39.973965\n",
              "\n",
              "[2 rows x 7 columns]"
            ]
          },
          "metadata": {
            "tags": []
          },
          "execution_count": 35
        }
      ]
    },
    {
      "cell_type": "markdown",
      "metadata": {
        "id": "3OAkOrgWPmqn",
        "colab_type": "text"
      },
      "source": [
        "## Histogramas"
      ]
    },
    {
      "cell_type": "code",
      "metadata": {
        "id": "dyFpjXGdOdCi",
        "colab_type": "code",
        "colab": {
          "base_uri": "https://localhost:8080/",
          "height": 430
        },
        "outputId": "964fab06-77bc-489b-d09f-0f6916cf0d62"
      },
      "source": [
        "ax = sns.distplot(Fatal_police.age, kde = False)\n",
        "\n",
        "ax.figure.set_size_inches(12, 6)\n",
        "ax.set_title('Distribuição de Frequências - Age', fontsize=18)\n",
        "ax.set_xlabel('Age', fontsize=14)\n",
        "ax"
      ],
      "execution_count": null,
      "outputs": [
        {
          "output_type": "execute_result",
          "data": {
            "text/plain": [
              "<matplotlib.axes._subplots.AxesSubplot at 0x7fbfe53e6550>"
            ]
          },
          "metadata": {
            "tags": []
          },
          "execution_count": 36
        },
        {
          "output_type": "display_data",
          "data": {
            "image/png": "[encoded data removed]",
            "text/plain": [
              "<Figure size 864x432 with 1 Axes>"
            ]
          },
          "metadata": {
            "tags": []
          }
        }
      ]
    },
    {
      "cell_type": "code",
      "metadata": {
        "id": "nPAthv3TP6CZ",
        "colab_type": "code",
        "colab": {
          "base_uri": "https://localhost:8080/",
          "height": 430
        },
        "outputId": "f9b8c0b4-44e4-40ad-c906-18e5a1037b8a"
      },
      "source": [
        "ax = sns.distplot(Fatal_police.age)\n",
        "\n",
        "\n",
        "ax.figure.set_size_inches(12, 6)\n",
        "ax.set_title('Distribuição de Frequências - Age - KDE', fontsize=18)\n",
        "ax.set_xlabel('Age', fontsize=14)\n",
        "ax"
      ],
      "execution_count": null,
      "outputs": [
        {
          "output_type": "execute_result",
          "data": {
            "text/plain": [
              "<matplotlib.axes._subplots.AxesSubplot at 0x7fbfe5430a90>"
            ]
          },
          "metadata": {
            "tags": []
          },
          "execution_count": 37
        },
        {
          "output_type": "display_data",
          "data": {
            "image/png": "[encoded data removed]",
            "text/plain": [
              "<Figure size 864x432 with 1 Axes>"
            ]
          },
          "metadata": {
            "tags": []
          }
        }
      ]
    },
    {
      "cell_type": "code",
      "metadata": {
        "id": "qnRK4QudQPAG",
        "colab_type": "code",
        "colab": {
          "base_uri": "https://localhost:8080/",
          "height": 391
        },
        "outputId": "2dfa8d67-208b-402c-c500-aaf6b314cfcd"
      },
      "source": [
        "Fatal_police.age.hist(bins = 50, figsize=(12, 6))"
      ],
      "execution_count": null,
      "outputs": [
        {
          "output_type": "execute_result",
          "data": {
            "text/plain": [
              "<matplotlib.axes._subplots.AxesSubplot at 0x7fbfe50f9c88>"
            ]
          },
          "metadata": {
            "tags": []
          },
          "execution_count": 38
        },
        {
          "output_type": "display_data",
          "data": {
            "image/png": "[encoded data removed]",
            "text/plain": [
              "<Figure size 864x432 with 1 Axes>"
            ]
          },
          "metadata": {
            "tags": []
          }
        }
      ]
    },
    {
      "cell_type": "markdown",
      "metadata": {
        "id": "BHqgvbBcQxLE",
        "colab_type": "text"
      },
      "source": [
        "## Boxplot Seaborn"
      ]
    },
    {
      "cell_type": "code",
      "metadata": {
        "id": "wGPgyERFQdEQ",
        "colab_type": "code",
        "colab": {
          "base_uri": "https://localhost:8080/",
          "height": 320
        },
        "outputId": "9e20f7a1-fb8a-45c8-b5f1-434694bda1de"
      },
      "source": [
        "\n",
        "ax = sns.boxplot(x = 'age', data = Fatal_police, orient='h')\n",
        "ax.figure.set_size_inches(12, 4)\n",
        "ax.set_title('Age', fontsize=18)\n",
        "ax.set_xlabel('Years', fontsize=14)\n",
        "ax"
      ],
      "execution_count": null,
      "outputs": [
        {
          "output_type": "execute_result",
          "data": {
            "text/plain": [
              "<matplotlib.axes._subplots.AxesSubplot at 0x7fbfe4fb1ef0>"
            ]
          },
          "metadata": {
            "tags": []
          },
          "execution_count": 39
        },
        {
          "output_type": "display_data",
          "data": {
            "image/png": "[encoded data removed]",
            "text/plain": [
              "<Figure size 864x288 with 1 Axes>"
            ]
          },
          "metadata": {
            "tags": []
          }
        }
      ]
    },
    {
      "cell_type": "code",
      "metadata": {
        "id": "vKU5aIODRbV3",
        "colab_type": "code",
        "colab": {
          "base_uri": "https://localhost:8080/",
          "height": 320
        },
        "outputId": "ae012ca1-715b-42a0-ecd5-e153aab8bb54"
      },
      "source": [
        "ax = sns.boxplot(x = 'age', y = 'gender', data = Fatal_police, orient = 'h')\n",
        "ax.figure.set_size_inches(12, 4)\n",
        "ax.set_title('Age', fontsize=18)\n",
        "ax.set_xlabel('years', fontsize=14)\n",
        "ax"
      ],
      "execution_count": null,
      "outputs": [
        {
          "output_type": "execute_result",
          "data": {
            "text/plain": [
              "<matplotlib.axes._subplots.AxesSubplot at 0x7fbfe4f2f320>"
            ]
          },
          "metadata": {
            "tags": []
          },
          "execution_count": 40
        },
        {
          "output_type": "display_data",
          "data": {
            "image/png": "[encoded data removed]",
            "text/plain": [
              "<Figure size 864x288 with 1 Axes>"
            ]
          },
          "metadata": {
            "tags": []
          }
        }
      ]
    },
    {
      "cell_type": "code",
      "metadata": {
        "id": "UBzcUy5fUNaN",
        "colab_type": "code",
        "colab": {
          "base_uri": "https://localhost:8080/",
          "height": 320
        },
        "outputId": "f35dfef8-375e-40d8-ad74-69bcc9bbe9ea"
      },
      "source": [
        "ax = sns.boxplot(x = 'age', y = 'gender', data = Fatal_police.query('state == \"TX\"'), orient = 'h')\n",
        "ax.figure.set_size_inches(12, 4)\n",
        "ax.set_title('Age', fontsize=18)\n",
        "ax.set_xlabel('years', fontsize=14)\n",
        "ax"
      ],
      "execution_count": null,
      "outputs": [
        {
          "output_type": "execute_result",
          "data": {
            "text/plain": [
              "<matplotlib.axes._subplots.AxesSubplot at 0x7fbfe4f0f588>"
            ]
          },
          "metadata": {
            "tags": []
          },
          "execution_count": 41
        },
        {
          "output_type": "display_data",
          "data": {
            "image/png": "[encoded data removed]",
            "text/plain": [
              "<Figure size 864x288 with 1 Axes>"
            ]
          },
          "metadata": {
            "tags": []
          }
        }
      ]
    },
    {
      "cell_type": "code",
      "metadata": {
        "id": "3vNwwJk6yTKw",
        "colab_type": "code",
        "colab": {
          "base_uri": "https://localhost:8080/",
          "height": 320
        },
        "outputId": "14d67651-1614-42cd-9c8e-21572c9cd601"
      },
      "source": [
        "ax = sns.boxplot(x = 'age', y = 'gender', data = Fatal_police.query('state == \"NY\"'), orient = 'h')\n",
        "ax.figure.set_size_inches(12, 4)\n",
        "ax.set_title('Age', fontsize=18)\n",
        "ax.set_xlabel('years', fontsize=14)\n",
        "ax"
      ],
      "execution_count": null,
      "outputs": [
        {
          "output_type": "execute_result",
          "data": {
            "text/plain": [
              "<matplotlib.axes._subplots.AxesSubplot at 0x7fbfe4e8a908>"
            ]
          },
          "metadata": {
            "tags": []
          },
          "execution_count": 42
        },
        {
          "output_type": "display_data",
          "data": {
            "image/png": "[encoded data removed]",
            "text/plain": [
              "<Figure size 864x288 with 1 Axes>"
            ]
          },
          "metadata": {
            "tags": []
          }
        }
      ]
    },
    {
      "cell_type": "code",
      "metadata": {
        "id": "ANwUdXpRy2Fe",
        "colab_type": "code",
        "colab": {
          "base_uri": "https://localhost:8080/",
          "height": 320
        },
        "outputId": "26e48f37-4221-4092-ced1-7471f63d146b"
      },
      "source": [
        "ax = sns.boxplot(x = 'age', y = 'gender', data = Fatal_police.query('state == \"WI\"'), orient = 'h')\n",
        "ax.figure.set_size_inches(12, 4)\n",
        "ax.set_title('Age', fontsize=18)\n",
        "ax.set_xlabel('years', fontsize=14)\n",
        "ax"
      ],
      "execution_count": null,
      "outputs": [
        {
          "output_type": "execute_result",
          "data": {
            "text/plain": [
              "<matplotlib.axes._subplots.AxesSubplot at 0x7fbfe4f93ac8>"
            ]
          },
          "metadata": {
            "tags": []
          },
          "execution_count": 43
        },
        {
          "output_type": "display_data",
          "data": {
            "image/png": "[encoded data removed]",
            "text/plain": [
              "<Figure size 864x288 with 1 Axes>"
            ]
          },
          "metadata": {
            "tags": []
          }
        }
      ]
    },
    {
      "cell_type": "code",
      "metadata": {
        "id": "3SbzG8NdzZ4K",
        "colab_type": "code",
        "colab": {
          "base_uri": "https://localhost:8080/",
          "height": 375
        },
        "outputId": "aed6c8a6-7c55-4509-9875-0f642e08b787"
      },
      "source": [
        "# Estados com maior numeros de tiros pela policia\n",
        "ax = sns.boxplot(x = 'age', y = 'state', data = Fatal_police.query('state in [\"CA\",\"TX\",\"FL\",\"AZ\"]'), orient = 'h')\n",
        "\n",
        "ax.figure.set_size_inches(15, 5)    # Personalizando o tamanho da figura\n",
        "\n",
        "ax.set_title('Age per States BoxPlot', fontsize=18)    # Configurando o título do gráfico\n",
        "\n",
        "ax.set_xlabel('Age', fontsize=14)    # Configurando o label do eixo X\n",
        "\n",
        "ax.set_ylabel('State', fontsize=14)    # Configurando o label do eixo Y\n",
        "# ax.set_yticklabels([key for key in uf.values()], fontsize=12)    # Configurando o label de cada categoria do eixo Y\n",
        "\n",
        "ax\n",
        "\n",
        "\n"
      ],
      "execution_count": null,
      "outputs": [
        {
          "output_type": "execute_result",
          "data": {
            "text/plain": [
              "<matplotlib.axes._subplots.AxesSubplot at 0x7fbfe4e99dd8>"
            ]
          },
          "metadata": {
            "tags": []
          },
          "execution_count": 44
        },
        {
          "output_type": "display_data",
          "data": {
            "image/png": "[encoded data removed]",
            "text/plain": [
              "<Figure size 1080x360 with 1 Axes>"
            ]
          },
          "metadata": {
            "tags": []
          }
        }
      ]
    },
    {
      "cell_type": "code",
      "metadata": {
        "id": "vf6K6fLN1PiW",
        "colab_type": "code",
        "colab": {
          "base_uri": "https://localhost:8080/",
          "height": 538
        },
        "outputId": "111a172e-65d9-454d-9c82-2a9e8d623881"
      },
      "source": [
        "ax = sns.boxplot(x = 'age', y = 'race', hue = 'gender', data=Fatal_police.query('state == \"CA\"'), orient='h')\n",
        "\n",
        "ax.figure.set_size_inches(14, 8)    # Personalizando o tamanho da figura\n",
        "\n",
        "# ax.set_title('Box-plot da RENDA por SEXO e COR', fontsize=18)    # Configurando o título do gráfico\n",
        "ax.set_title('Age per race and gender BoxPlot', fontsize=18)    # Configurando o título do gráfico\n",
        "\n",
        "ax.set_xlabel('Age', fontsize=14)    # Configurando o label do eixo X\n",
        "\n",
        "ax.set_ylabel('Race', fontsize=14)    # Configurando o label do eixo Y\n",
        "\n",
        "ax.set_yticklabels(['Asian', 'White', 'Hispanic', 'Black', 'Other', 'Não Informada', 'Native American'], fontsize=10)    \n",
        "# Configurando o label de cada categoria do eixo Y\n",
        "\n",
        "# Configurações da legenda do gráfico (Sexo)\n",
        "handles, _ = ax.get_legend_handles_labels()\n",
        "ax.legend(handles, ['Masculino', 'Feminino'], fontsize=12)\n",
        "\n",
        "ax"
      ],
      "execution_count": null,
      "outputs": [
        {
          "output_type": "execute_result",
          "data": {
            "text/plain": [
              "<matplotlib.axes._subplots.AxesSubplot at 0x7fbfe4d07e10>"
            ]
          },
          "metadata": {
            "tags": []
          },
          "execution_count": 45
        },
        {
          "output_type": "display_data",
          "data": {
            "image/png": "[encoded data removed]",
            "text/plain": [
              "<Figure size 1008x576 with 1 Axes>"
            ]
          },
          "metadata": {
            "tags": []
          }
        }
      ]
    },
    {
      "cell_type": "code",
      "metadata": {
        "id": "J6GiDOkE310I",
        "colab_type": "code",
        "colab": {
          "base_uri": "https://localhost:8080/",
          "height": 320
        },
        "outputId": "c11d0878-7987-4a1c-a9b8-8c4d1355cc1f"
      },
      "source": [
        "ax = sns.boxplot(x = 'age', y = 'gender', data = Fatal_police.query('race == \"N\"'), orient = 'h')\n",
        "ax.figure.set_size_inches(12, 4)\n",
        "ax.set_title('Age', fontsize=18)\n",
        "ax.set_xlabel('years', fontsize=14)\n",
        "ax"
      ],
      "execution_count": null,
      "outputs": [
        {
          "output_type": "execute_result",
          "data": {
            "text/plain": [
              "<matplotlib.axes._subplots.AxesSubplot at 0x7fbfe5432dd8>"
            ]
          },
          "metadata": {
            "tags": []
          },
          "execution_count": 46
        },
        {
          "output_type": "display_data",
          "data": {
            "image/png": "[encoded data removed]",
            "text/plain": [
              "<Figure size 864x288 with 1 Axes>"
            ]
          },
          "metadata": {
            "tags": []
          }
        }
      ]
    },
    {
      "cell_type": "code",
      "metadata": {
        "id": "cFlMVewB7dPh",
        "colab_type": "code",
        "colab": {
          "base_uri": "https://localhost:8080/",
          "height": 232
        },
        "outputId": "89053d19-010d-4427-82c7-a7aae8e9870f"
      },
      "source": [
        "ax = sns.boxplot(x = 'Black', y = 'White', data=state_race, orient='h')\n",
        "\n",
        "ax.figure.set_size_inches(14, 8)    # Personalizando o tamanho da figura\n",
        "\n",
        "ax"
      ],
      "execution_count": null,
      "outputs": [
        {
          "output_type": "error",
          "ename": "NameError",
          "evalue": "ignored",
          "traceback": [
            "\u001b[0;31m---------------------------------------------------------------------------\u001b[0m",
            "\u001b[0;31mNameError\u001b[0m                                 Traceback (most recent call last)",
            "\u001b[0;32m<ipython-input-47-ec0c89ed55af>\u001b[0m in \u001b[0;36m<module>\u001b[0;34m()\u001b[0m\n\u001b[0;32m----> 1\u001b[0;31m \u001b[0max\u001b[0m \u001b[0;34m=\u001b[0m \u001b[0msns\u001b[0m\u001b[0;34m.\u001b[0m\u001b[0mboxplot\u001b[0m\u001b[0;34m(\u001b[0m\u001b[0mx\u001b[0m \u001b[0;34m=\u001b[0m \u001b[0;34m'Black'\u001b[0m\u001b[0;34m,\u001b[0m \u001b[0my\u001b[0m \u001b[0;34m=\u001b[0m \u001b[0;34m'White'\u001b[0m\u001b[0;34m,\u001b[0m \u001b[0mdata\u001b[0m\u001b[0;34m=\u001b[0m\u001b[0mstate_race\u001b[0m\u001b[0;34m,\u001b[0m \u001b[0morient\u001b[0m\u001b[0;34m=\u001b[0m\u001b[0;34m'h'\u001b[0m\u001b[0;34m)\u001b[0m\u001b[0;34m\u001b[0m\u001b[0;34m\u001b[0m\u001b[0m\n\u001b[0m\u001b[1;32m      2\u001b[0m \u001b[0;34m\u001b[0m\u001b[0m\n\u001b[1;32m      3\u001b[0m \u001b[0max\u001b[0m\u001b[0;34m.\u001b[0m\u001b[0mfigure\u001b[0m\u001b[0;34m.\u001b[0m\u001b[0mset_size_inches\u001b[0m\u001b[0;34m(\u001b[0m\u001b[0;36m14\u001b[0m\u001b[0;34m,\u001b[0m \u001b[0;36m8\u001b[0m\u001b[0;34m)\u001b[0m    \u001b[0;31m# Personalizando o tamanho da figura\u001b[0m\u001b[0;34m\u001b[0m\u001b[0;34m\u001b[0m\u001b[0m\n\u001b[1;32m      4\u001b[0m \u001b[0;34m\u001b[0m\u001b[0m\n\u001b[1;32m      5\u001b[0m \u001b[0max\u001b[0m\u001b[0;34m\u001b[0m\u001b[0;34m\u001b[0m\u001b[0m\n",
            "\u001b[0;31mNameError\u001b[0m: name 'state_race' is not defined"
          ]
        }
      ]
    },
    {
      "cell_type": "code",
      "metadata": {
        "id": "Yin4iqTu1PN-",
        "colab_type": "code",
        "colab": {}
      },
      "source": [
        "ax = sns.boxplot(x = 'age', y = 'state', hue = 'race', data=Fatal_police.query('state == \"CA\"'), orient='h')\n",
        "\n",
        "ax.figure.set_size_inches(14, 8)    # Personalizando o tamanho da figura\n",
        "\n",
        "# ax.set_title('Box-plot da RENDA por SEXO e COR', fontsize=18)    # Configurando o título do gráfico\n",
        "ax.set_title('Age per race and gender BoxPlot', fontsize=18)    # Configurando o título do gráfico\n",
        "\n",
        "ax.set_xlabel('Age', fontsize=14)    # Configurando o label do eixo X\n",
        "\n",
        "ax.set_ylabel('State', fontsize=14)    # Configurando o label do eixo Y\n",
        "\n",
        "# ax.set_yticklabels(['Asian', 'White', 'Hispanic', 'Black', 'Other', 'Não Informada', 'Native American'], fontsize=10)    \n",
        "# Configurando o label de cada categoria do eixo Y\n",
        "\n",
        "# Configurações da legenda do gráfico (Sexo)\n",
        "handles, _ = ax.get_legend_handles_labels()\n",
        "ax.legend(handles, ['White', 'Hispanic','Other', 'Asian','Black', 'Não Informada','Native American'], fontsize=12)\n",
        "\n",
        "ax"
      ],
      "execution_count": null,
      "outputs": []
    },
    {
      "cell_type": "code",
      "metadata": {
        "id": "skI-GFad2GER",
        "colab_type": "code",
        "colab": {}
      },
      "source": [
        "# Media, Mediana, Minimo, Maximo por estado\n",
        "qw = pd.crosstab(Fatal_police.state, \n",
        "                 Fatal_police.gender,                                 \n",
        "                 aggfunc = {'mean', 'median', 'max','min'},\n",
        "                 values = Fatal_police.age).round(2)\n",
        "qw.rename(index = states_names, inplace = True)\n",
        "qw.rename(columns = sex, inplace = True)\n",
        "qw"
      ],
      "execution_count": null,
      "outputs": []
    },
    {
      "cell_type": "code",
      "metadata": {
        "id": "EA3O2ar39Co4",
        "colab_type": "code",
        "colab": {}
      },
      "source": [
        "# Raça por estado\n",
        "\n",
        "race = {'A': 'Asian', \n",
        "       'B': 'Black', \n",
        "       'H': 'Hispanic', \n",
        "       'N': 'Native American', \n",
        "       'O': 'Other', \n",
        "       'W': 'White'}\n",
        "\n",
        "qe = pd.crosstab(Fatal_police.state, \n",
        "                 Fatal_police.race,                                 \n",
        "                 aggfunc = {'count'},\n",
        "                 values = Fatal_police.id)\n",
        "\n",
        "qe.rename(index = states_names, inplace = True)\n",
        "qe.rename(columns = race, inplace = True)\n",
        "qe"
      ],
      "execution_count": null,
      "outputs": []
    },
    {
      "cell_type": "code",
      "metadata": {
        "id": "i8207yJkFPlO",
        "colab_type": "code",
        "colab": {}
      },
      "source": [
        "state_race = pd.crosstab(Fatal_police.state, Fatal_police.race)\n",
        "state_race.rename(index = states_names, inplace = True)\n",
        "state_race.rename(columns = race, inplace = True)\n",
        "state_race"
      ],
      "execution_count": null,
      "outputs": []
    },
    {
      "cell_type": "code",
      "metadata": {
        "id": "gnZ8AJnoIaoN",
        "colab_type": "code",
        "colab": {}
      },
      "source": [
        "# Testando o crosstab Pandas acima\n",
        "estado = Fatal_police.query('state == \"AZ\"')\n",
        "estado[\"state\"].count()\n",
        "race = estado.query('race == \"H\"')\n",
        "race[\"race\"].count()"
      ],
      "execution_count": null,
      "outputs": []
    },
    {
      "cell_type": "code",
      "metadata": {
        "id": "b1kaJ29jGemC",
        "colab_type": "code",
        "colab": {}
      },
      "source": [
        "state_race.reset_index(level=0, inplace=True)\n",
        "\n",
        "\n",
        "# state_count = pd.DataFrame(ad)\n",
        "# state_count.reset_index(level=0, inplace=True)\n",
        "\n",
        "# state_count.columns = [\"state\", \"deaths_total\"] \n",
        "\n",
        "# state_count.head()\n",
        "\n",
        "state_race"
      ],
      "execution_count": null,
      "outputs": []
    },
    {
      "cell_type": "code",
      "metadata": {
        "id": "vVFXzPtCFjoq",
        "colab_type": "code",
        "colab": {}
      },
      "source": [
        "state_race_sort = state_race.sort_values('Black',ascending=False)\n",
        "\n",
        "state_race_graf =  state_race_sort.query('Black > 30')\n",
        "\n",
        "sns.set_style(\"whitegrid\")\n",
        "ax = sns.barplot(x= state_race_graf.state, \n",
        "                 y= state_race_graf.Black, \n",
        "                 data=state_race_graf, \n",
        "                 orient='v',\n",
        "                 palette=sns.color_palette(\"BuGn_r\", n_colors=len(state_race_graf) + 4))\n",
        "\n",
        "ax.figure.set_size_inches(15, 5)    # Personalizando o tamanho da figura\n",
        "\n",
        "ax.set_title('Black People per state', fontsize=18)    # Configurando o título do gráfico\n",
        "\n",
        "ax.set_xlabel('States', fontsize=14)    # Configurando o label do eixo X\n",
        "\n",
        "ax.set_ylabel('Black People', fontsize=14)    # Configurando o label do eixo Y\n",
        "plt.xticks(rotation=45)\n",
        "ax"
      ],
      "execution_count": null,
      "outputs": []
    },
    {
      "cell_type": "code",
      "metadata": {
        "id": "g4F22PgQQzzG",
        "colab_type": "code",
        "colab": {}
      },
      "source": [
        "xc = state_race.sort_values('Black',ascending=False)\n",
        "xc.head(100)"
      ],
      "execution_count": null,
      "outputs": []
    },
    {
      "cell_type": "code",
      "metadata": {
        "id": "35NzBsYzPzG_",
        "colab_type": "code",
        "colab": {}
      },
      "source": [
        "# Validações\n",
        "Fatal_police.query('state == \"OK\"')['gender'].value_counts()"
      ],
      "execution_count": null,
      "outputs": []
    },
    {
      "cell_type": "code",
      "metadata": {
        "id": "glZjHwEgxZPc",
        "colab_type": "code",
        "colab": {}
      },
      "source": [
        "Fatal_police.query('gender == \"F\"')['state'].value_counts().head()"
      ],
      "execution_count": null,
      "outputs": []
    },
    {
      "cell_type": "code",
      "metadata": {
        "id": "mFpybbs3vVcK",
        "colab_type": "code",
        "colab": {}
      },
      "source": [
        "# Genero por estado\n",
        "# qa = pd.crosstab(Fatal_police.state, \n",
        "#                  Fatal_police.gender,                                 \n",
        "#                  aggfunc = {'count'},\n",
        "#                  values = Fatal_police.id).round(2)\n",
        "\n",
        "# qa.rename(index = states_names, inplace = True)\n",
        "# qa.rename(columns = sex, inplace = True)\n",
        "# qa\n",
        "\n",
        "state_gender = pd.crosstab(Fatal_police.state, Fatal_police.gender)\n",
        "state_gender.rename(index = states_names, inplace = True)\n",
        "state_gender.rename(columns = sex, inplace = True)\n",
        "state_gender"
      ],
      "execution_count": null,
      "outputs": []
    },
    {
      "cell_type": "code",
      "metadata": {
        "id": "u-45sG_GwWh_",
        "colab_type": "code",
        "colab": {}
      },
      "source": [
        "# state_gender_sort = state_gender.sort_values('Masculino',ascending=False)\n",
        "\n",
        "\n",
        "# sns.set_style(\"whitegrid\")\n",
        "# ax = sns.barplot(x= state_gender_sort.index, \n",
        "#                  y= state_gender_sort.,\n",
        "#                  data=state_gender_sort, \n",
        "#                  orient='v',\n",
        "#                  palette=sns.color_palette(\"BuGn_r\", n_colors=len(state_gender_sort) + 4))\n",
        "\n",
        "# ax.figure.set_size_inches(15, 5)    # Personalizando o tamanho da figura\n",
        "\n",
        "# ax.set_title('Gender per state', fontsize=18)    # Configurando o título do gráfico\n",
        "\n",
        "# ax.set_xlabel('States', fontsize=14)    # Configurando o label do eixo X\n",
        "\n",
        "# ax.set_ylabel('Gender', fontsize=14)    # Configurando o label do eixo Y\n",
        "# plt.xticks(rotation=45)\n",
        "# ax\n",
        "\n"
      ],
      "execution_count": null,
      "outputs": []
    },
    {
      "cell_type": "code",
      "metadata": {
        "id": "RTvOUohr2McQ",
        "colab_type": "code",
        "colab": {}
      },
      "source": [
        ""
      ],
      "execution_count": null,
      "outputs": []
    }
  ]
}